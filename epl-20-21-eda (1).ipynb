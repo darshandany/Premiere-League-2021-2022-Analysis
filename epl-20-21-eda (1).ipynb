{
 "cells": [
  {
   "cell_type": "markdown",
   "id": "252688a2",
   "metadata": {
    "papermill": {
     "duration": 0.014202,
     "end_time": "2022-11-10T15:41:55.102067",
     "exception": false,
     "start_time": "2022-11-10T15:41:55.087865",
     "status": "completed"
    },
    "tags": []
   },
   "source": [
    "About Dataset\n",
    "* This dataset is a collection of basic but crucial stats of the English Premier League 2020-21 season. The dataset has all the players that played in the EPL and their standard stats such as Goals, Assists, xG, xA, Passes Attempted, Pass Accuracy and more"
   ]
  },
  {
   "cell_type": "markdown",
   "id": "861a5125",
   "metadata": {
    "papermill": {
     "duration": 0.008762,
     "end_time": "2022-11-10T15:41:55.120315",
     "exception": false,
     "start_time": "2022-11-10T15:41:55.111553",
     "status": "completed"
    },
    "tags": []
   },
   "source": [
    "Inspiration\n",
    "There are several directions you can take with this dataset:\n",
    "* Find out which team has the most aggressive defenders (or players for that matter)\n",
    "* Which team had more players in the top 10 most assists chart\n",
    "* Who were the players with most attempted passes\n",
    "* Which players had the most accurate passes excluding the goal keeper and the defenders\n",
    "* Defenders with most goals!!\n",
    "* Which nation had the most aggressive players?\n"
   ]
  },
  {
   "cell_type": "code",
   "execution_count": 1,
   "id": "d162c2fb",
   "metadata": {
    "execution": {
     "iopub.execute_input": "2022-11-10T15:41:55.142031Z",
     "iopub.status.busy": "2022-11-10T15:41:55.140846Z",
     "iopub.status.idle": "2022-11-10T15:41:57.571719Z",
     "shell.execute_reply": "2022-11-10T15:41:57.570384Z"
    },
    "papermill": {
     "duration": 2.445772,
     "end_time": "2022-11-10T15:41:57.575196",
     "exception": false,
     "start_time": "2022-11-10T15:41:55.129424",
     "status": "completed"
    },
    "tags": []
   },
   "outputs": [
    {
     "data": {
      "text/html": [
       "        <script type=\"text/javascript\">\n",
       "        window.PlotlyConfig = {MathJaxConfig: 'local'};\n",
       "        if (window.MathJax && window.MathJax.Hub && window.MathJax.Hub.Config) {window.MathJax.Hub.Config({SVG: {font: \"STIX-Web\"}});}\n",
       "        if (typeof require !== 'undefined') {\n",
       "        require.undef(\"plotly\");\n",
       "        requirejs.config({\n",
       "            paths: {\n",
       "                'plotly': ['https://cdn.plot.ly/plotly-2.14.0.min']\n",
       "            }\n",
       "        });\n",
       "        require(['plotly'], function(Plotly) {\n",
       "            window._Plotly = Plotly;\n",
       "        });\n",
       "        }\n",
       "        </script>\n",
       "        "
      ]
     },
     "metadata": {},
     "output_type": "display_data"
    }
   ],
   "source": [
    "import pandas as pd \n",
    "import numpy as np\n",
    "import seaborn as sns \n",
    "import matplotlib.pyplot as plt\n",
    "%matplotlib inline\n",
    "\n",
    "import plotly.express as px\n",
    "import plotly.graph_objects as go\n",
    "from plotly.subplots import make_subplots\n",
    "from plotly.offline import init_notebook_mode, iplot\n",
    "\n",
    "init_notebook_mode(connected=True)  "
   ]
  },
  {
   "cell_type": "code",
   "execution_count": 2,
   "id": "e5984bda",
   "metadata": {
    "execution": {
     "iopub.execute_input": "2022-11-10T15:41:57.599169Z",
     "iopub.status.busy": "2022-11-10T15:41:57.598288Z",
     "iopub.status.idle": "2022-11-10T15:41:57.650081Z",
     "shell.execute_reply": "2022-11-10T15:41:57.648805Z"
    },
    "papermill": {
     "duration": 0.068422,
     "end_time": "2022-11-10T15:41:57.653284",
     "exception": false,
     "start_time": "2022-11-10T15:41:57.584862",
     "status": "completed"
    },
    "tags": []
   },
   "outputs": [
    {
     "data": {
      "text/html": [
       "<div>\n",
       "<style scoped>\n",
       "    .dataframe tbody tr th:only-of-type {\n",
       "        vertical-align: middle;\n",
       "    }\n",
       "\n",
       "    .dataframe tbody tr th {\n",
       "        vertical-align: top;\n",
       "    }\n",
       "\n",
       "    .dataframe thead th {\n",
       "        text-align: right;\n",
       "    }\n",
       "</style>\n",
       "<table border=\"1\" class=\"dataframe\">\n",
       "  <thead>\n",
       "    <tr style=\"text-align: right;\">\n",
       "      <th></th>\n",
       "      <th>Name</th>\n",
       "      <th>Club</th>\n",
       "      <th>Nationality</th>\n",
       "      <th>Position</th>\n",
       "      <th>Age</th>\n",
       "      <th>Matches</th>\n",
       "      <th>Starts</th>\n",
       "      <th>Mins</th>\n",
       "      <th>Goals</th>\n",
       "      <th>Assists</th>\n",
       "      <th>Passes_Attempted</th>\n",
       "      <th>Perc_Passes_Completed</th>\n",
       "      <th>Penalty_Goals</th>\n",
       "      <th>Penalty_Attempted</th>\n",
       "      <th>xG</th>\n",
       "      <th>xA</th>\n",
       "      <th>Yellow_Cards</th>\n",
       "      <th>Red_Cards</th>\n",
       "    </tr>\n",
       "  </thead>\n",
       "  <tbody>\n",
       "    <tr>\n",
       "      <th>0</th>\n",
       "      <td>Mason Mount</td>\n",
       "      <td>Chelsea</td>\n",
       "      <td>ENG</td>\n",
       "      <td>MF,FW</td>\n",
       "      <td>21</td>\n",
       "      <td>36</td>\n",
       "      <td>32</td>\n",
       "      <td>2890</td>\n",
       "      <td>6</td>\n",
       "      <td>5</td>\n",
       "      <td>1881</td>\n",
       "      <td>82.3</td>\n",
       "      <td>1</td>\n",
       "      <td>1</td>\n",
       "      <td>0.21</td>\n",
       "      <td>0.24</td>\n",
       "      <td>2</td>\n",
       "      <td>0</td>\n",
       "    </tr>\n",
       "    <tr>\n",
       "      <th>1</th>\n",
       "      <td>Edouard Mendy</td>\n",
       "      <td>Chelsea</td>\n",
       "      <td>SEN</td>\n",
       "      <td>GK</td>\n",
       "      <td>28</td>\n",
       "      <td>31</td>\n",
       "      <td>31</td>\n",
       "      <td>2745</td>\n",
       "      <td>0</td>\n",
       "      <td>0</td>\n",
       "      <td>1007</td>\n",
       "      <td>84.6</td>\n",
       "      <td>0</td>\n",
       "      <td>0</td>\n",
       "      <td>0.00</td>\n",
       "      <td>0.00</td>\n",
       "      <td>2</td>\n",
       "      <td>0</td>\n",
       "    </tr>\n",
       "    <tr>\n",
       "      <th>2</th>\n",
       "      <td>Timo Werner</td>\n",
       "      <td>Chelsea</td>\n",
       "      <td>GER</td>\n",
       "      <td>FW</td>\n",
       "      <td>24</td>\n",
       "      <td>35</td>\n",
       "      <td>29</td>\n",
       "      <td>2602</td>\n",
       "      <td>6</td>\n",
       "      <td>8</td>\n",
       "      <td>826</td>\n",
       "      <td>77.2</td>\n",
       "      <td>0</td>\n",
       "      <td>0</td>\n",
       "      <td>0.41</td>\n",
       "      <td>0.21</td>\n",
       "      <td>2</td>\n",
       "      <td>0</td>\n",
       "    </tr>\n",
       "    <tr>\n",
       "      <th>3</th>\n",
       "      <td>Ben Chilwell</td>\n",
       "      <td>Chelsea</td>\n",
       "      <td>ENG</td>\n",
       "      <td>DF</td>\n",
       "      <td>23</td>\n",
       "      <td>27</td>\n",
       "      <td>27</td>\n",
       "      <td>2286</td>\n",
       "      <td>3</td>\n",
       "      <td>5</td>\n",
       "      <td>1806</td>\n",
       "      <td>78.6</td>\n",
       "      <td>0</td>\n",
       "      <td>0</td>\n",
       "      <td>0.10</td>\n",
       "      <td>0.11</td>\n",
       "      <td>3</td>\n",
       "      <td>0</td>\n",
       "    </tr>\n",
       "    <tr>\n",
       "      <th>4</th>\n",
       "      <td>Reece James</td>\n",
       "      <td>Chelsea</td>\n",
       "      <td>ENG</td>\n",
       "      <td>DF</td>\n",
       "      <td>20</td>\n",
       "      <td>32</td>\n",
       "      <td>25</td>\n",
       "      <td>2373</td>\n",
       "      <td>1</td>\n",
       "      <td>2</td>\n",
       "      <td>1987</td>\n",
       "      <td>85.0</td>\n",
       "      <td>0</td>\n",
       "      <td>0</td>\n",
       "      <td>0.06</td>\n",
       "      <td>0.12</td>\n",
       "      <td>3</td>\n",
       "      <td>0</td>\n",
       "    </tr>\n",
       "  </tbody>\n",
       "</table>\n",
       "</div>"
      ],
      "text/plain": [
       "            Name     Club Nationality Position  Age  Matches  Starts  Mins  \\\n",
       "0    Mason Mount  Chelsea         ENG    MF,FW   21       36      32  2890   \n",
       "1  Edouard Mendy  Chelsea         SEN       GK   28       31      31  2745   \n",
       "2    Timo Werner  Chelsea         GER       FW   24       35      29  2602   \n",
       "3   Ben Chilwell  Chelsea         ENG       DF   23       27      27  2286   \n",
       "4    Reece James  Chelsea         ENG       DF   20       32      25  2373   \n",
       "\n",
       "   Goals  Assists  Passes_Attempted  Perc_Passes_Completed  Penalty_Goals  \\\n",
       "0      6        5              1881                   82.3              1   \n",
       "1      0        0              1007                   84.6              0   \n",
       "2      6        8               826                   77.2              0   \n",
       "3      3        5              1806                   78.6              0   \n",
       "4      1        2              1987                   85.0              0   \n",
       "\n",
       "   Penalty_Attempted    xG    xA  Yellow_Cards  Red_Cards  \n",
       "0                  1  0.21  0.24             2          0  \n",
       "1                  0  0.00  0.00             2          0  \n",
       "2                  0  0.41  0.21             2          0  \n",
       "3                  0  0.10  0.11             3          0  \n",
       "4                  0  0.06  0.12             3          0  "
      ]
     },
     "execution_count": 2,
     "metadata": {},
     "output_type": "execute_result"
    }
   ],
   "source": [
    "# Load Data\n",
    "df = pd.read_csv(\"../input/english-premier-league202021/EPL_20_21.csv\")\n",
    "df.head()"
   ]
  },
  {
   "cell_type": "code",
   "execution_count": 3,
   "id": "30f760aa",
   "metadata": {
    "execution": {
     "iopub.execute_input": "2022-11-10T15:41:57.675974Z",
     "iopub.status.busy": "2022-11-10T15:41:57.675011Z",
     "iopub.status.idle": "2022-11-10T15:41:58.466778Z",
     "shell.execute_reply": "2022-11-10T15:41:58.465426Z"
    },
    "papermill": {
     "duration": 0.806725,
     "end_time": "2022-11-10T15:41:58.469942",
     "exception": false,
     "start_time": "2022-11-10T15:41:57.663217",
     "status": "completed"
    },
    "tags": []
   },
   "outputs": [
    {
     "data": {
      "image/png": "[encoded data removed]",
      "text/plain": [
       "<Figure size 1008x432 with 2 Axes>"
      ]
     },
     "metadata": {
      "needs_background": "light"
     },
     "output_type": "display_data"
    }
   ],
   "source": [
    "plt.figure(figsize=(14, 6))\n",
    "sns.heatmap(df.isna());"
   ]
  },
  {
   "cell_type": "code",
   "execution_count": 4,
   "id": "c177fdaa",
   "metadata": {
    "execution": {
     "iopub.execute_input": "2022-11-10T15:41:58.494649Z",
     "iopub.status.busy": "2022-11-10T15:41:58.493418Z",
     "iopub.status.idle": "2022-11-10T15:41:58.512828Z",
     "shell.execute_reply": "2022-11-10T15:41:58.511877Z"
    },
    "papermill": {
     "duration": 0.034394,
     "end_time": "2022-11-10T15:41:58.515161",
     "exception": false,
     "start_time": "2022-11-10T15:41:58.480767",
     "status": "completed"
    },
    "tags": []
   },
   "outputs": [
    {
     "data": {
      "text/plain": [
       "0"
      ]
     },
     "execution_count": 4,
     "metadata": {},
     "output_type": "execute_result"
    }
   ],
   "source": [
    "df.duplicated().sum()"
   ]
  },
  {
   "cell_type": "code",
   "execution_count": 5,
   "id": "45100b45",
   "metadata": {
    "execution": {
     "iopub.execute_input": "2022-11-10T15:41:58.539861Z",
     "iopub.status.busy": "2022-11-10T15:41:58.538591Z",
     "iopub.status.idle": "2022-11-10T15:41:58.561735Z",
     "shell.execute_reply": "2022-11-10T15:41:58.560382Z"
    },
    "papermill": {
     "duration": 0.038675,
     "end_time": "2022-11-10T15:41:58.564758",
     "exception": false,
     "start_time": "2022-11-10T15:41:58.526083",
     "status": "completed"
    },
    "tags": []
   },
   "outputs": [
    {
     "name": "stdout",
     "output_type": "stream",
     "text": [
      "<class 'pandas.core.frame.DataFrame'>\n",
      "RangeIndex: 532 entries, 0 to 531\n",
      "Data columns (total 18 columns):\n",
      " #   Column                 Non-Null Count  Dtype  \n",
      "---  ------                 --------------  -----  \n",
      " 0   Name                   532 non-null    object \n",
      " 1   Club                   532 non-null    object \n",
      " 2   Nationality            532 non-null    object \n",
      " 3   Position               532 non-null    object \n",
      " 4   Age                    532 non-null    int64  \n",
      " 5   Matches                532 non-null    int64  \n",
      " 6   Starts                 532 non-null    int64  \n",
      " 7   Mins                   532 non-null    int64  \n",
      " 8   Goals                  532 non-null    int64  \n",
      " 9   Assists                532 non-null    int64  \n",
      " 10  Passes_Attempted       532 non-null    int64  \n",
      " 11  Perc_Passes_Completed  532 non-null    float64\n",
      " 12  Penalty_Goals          532 non-null    int64  \n",
      " 13  Penalty_Attempted      532 non-null    int64  \n",
      " 14  xG                     532 non-null    float64\n",
      " 15  xA                     532 non-null    float64\n",
      " 16  Yellow_Cards           532 non-null    int64  \n",
      " 17  Red_Cards              532 non-null    int64  \n",
      "dtypes: float64(3), int64(11), object(4)\n",
      "memory usage: 74.9+ KB\n"
     ]
    }
   ],
   "source": [
    "df.info()"
   ]
  },
  {
   "cell_type": "markdown",
   "id": "0e0da18a",
   "metadata": {
    "papermill": {
     "duration": 0.010462,
     "end_time": "2022-11-10T15:41:58.586131",
     "exception": false,
     "start_time": "2022-11-10T15:41:58.575669",
     "status": "completed"
    },
    "tags": []
   },
   "source": [
    "## Q1: Find out which team has the most aggressive defenders (or players for that matter)"
   ]
  },
  {
   "cell_type": "code",
   "execution_count": 6,
   "id": "994afd1c",
   "metadata": {
    "execution": {
     "iopub.execute_input": "2022-11-10T15:41:58.610738Z",
     "iopub.status.busy": "2022-11-10T15:41:58.609748Z",
     "iopub.status.idle": "2022-11-10T15:41:58.631295Z",
     "shell.execute_reply": "2022-11-10T15:41:58.629949Z"
    },
    "papermill": {
     "duration": 0.037119,
     "end_time": "2022-11-10T15:41:58.634096",
     "exception": false,
     "start_time": "2022-11-10T15:41:58.596977",
     "status": "completed"
    },
    "scrolled": true,
    "tags": []
   },
   "outputs": [
    {
     "data": {
      "text/html": [
       "<div>\n",
       "<style scoped>\n",
       "    .dataframe tbody tr th:only-of-type {\n",
       "        vertical-align: middle;\n",
       "    }\n",
       "\n",
       "    .dataframe tbody tr th {\n",
       "        vertical-align: top;\n",
       "    }\n",
       "\n",
       "    .dataframe thead th {\n",
       "        text-align: right;\n",
       "    }\n",
       "</style>\n",
       "<table border=\"1\" class=\"dataframe\">\n",
       "  <thead>\n",
       "    <tr style=\"text-align: right;\">\n",
       "      <th></th>\n",
       "      <th>Name</th>\n",
       "      <th>Club</th>\n",
       "      <th>Nationality</th>\n",
       "      <th>Position</th>\n",
       "      <th>Age</th>\n",
       "      <th>Matches</th>\n",
       "      <th>Starts</th>\n",
       "      <th>Mins</th>\n",
       "      <th>Goals</th>\n",
       "      <th>Assists</th>\n",
       "      <th>Passes_Attempted</th>\n",
       "      <th>Perc_Passes_Completed</th>\n",
       "      <th>Penalty_Goals</th>\n",
       "      <th>Penalty_Attempted</th>\n",
       "      <th>xG</th>\n",
       "      <th>xA</th>\n",
       "      <th>Yellow_Cards</th>\n",
       "      <th>Red_Cards</th>\n",
       "    </tr>\n",
       "  </thead>\n",
       "  <tbody>\n",
       "    <tr>\n",
       "      <th>0</th>\n",
       "      <td>Mason Mount</td>\n",
       "      <td>Chelsea</td>\n",
       "      <td>ENG</td>\n",
       "      <td>MF,FW</td>\n",
       "      <td>21</td>\n",
       "      <td>36</td>\n",
       "      <td>32</td>\n",
       "      <td>2890</td>\n",
       "      <td>6</td>\n",
       "      <td>5</td>\n",
       "      <td>1881</td>\n",
       "      <td>82.3</td>\n",
       "      <td>1</td>\n",
       "      <td>1</td>\n",
       "      <td>0.21</td>\n",
       "      <td>0.24</td>\n",
       "      <td>2</td>\n",
       "      <td>0</td>\n",
       "    </tr>\n",
       "    <tr>\n",
       "      <th>1</th>\n",
       "      <td>Edouard Mendy</td>\n",
       "      <td>Chelsea</td>\n",
       "      <td>SEN</td>\n",
       "      <td>GK</td>\n",
       "      <td>28</td>\n",
       "      <td>31</td>\n",
       "      <td>31</td>\n",
       "      <td>2745</td>\n",
       "      <td>0</td>\n",
       "      <td>0</td>\n",
       "      <td>1007</td>\n",
       "      <td>84.6</td>\n",
       "      <td>0</td>\n",
       "      <td>0</td>\n",
       "      <td>0.00</td>\n",
       "      <td>0.00</td>\n",
       "      <td>2</td>\n",
       "      <td>0</td>\n",
       "    </tr>\n",
       "    <tr>\n",
       "      <th>2</th>\n",
       "      <td>Timo Werner</td>\n",
       "      <td>Chelsea</td>\n",
       "      <td>GER</td>\n",
       "      <td>FW</td>\n",
       "      <td>24</td>\n",
       "      <td>35</td>\n",
       "      <td>29</td>\n",
       "      <td>2602</td>\n",
       "      <td>6</td>\n",
       "      <td>8</td>\n",
       "      <td>826</td>\n",
       "      <td>77.2</td>\n",
       "      <td>0</td>\n",
       "      <td>0</td>\n",
       "      <td>0.41</td>\n",
       "      <td>0.21</td>\n",
       "      <td>2</td>\n",
       "      <td>0</td>\n",
       "    </tr>\n",
       "    <tr>\n",
       "      <th>3</th>\n",
       "      <td>Ben Chilwell</td>\n",
       "      <td>Chelsea</td>\n",
       "      <td>ENG</td>\n",
       "      <td>DF</td>\n",
       "      <td>23</td>\n",
       "      <td>27</td>\n",
       "      <td>27</td>\n",
       "      <td>2286</td>\n",
       "      <td>3</td>\n",
       "      <td>5</td>\n",
       "      <td>1806</td>\n",
       "      <td>78.6</td>\n",
       "      <td>0</td>\n",
       "      <td>0</td>\n",
       "      <td>0.10</td>\n",
       "      <td>0.11</td>\n",
       "      <td>3</td>\n",
       "      <td>0</td>\n",
       "    </tr>\n",
       "    <tr>\n",
       "      <th>4</th>\n",
       "      <td>Reece James</td>\n",
       "      <td>Chelsea</td>\n",
       "      <td>ENG</td>\n",
       "      <td>DF</td>\n",
       "      <td>20</td>\n",
       "      <td>32</td>\n",
       "      <td>25</td>\n",
       "      <td>2373</td>\n",
       "      <td>1</td>\n",
       "      <td>2</td>\n",
       "      <td>1987</td>\n",
       "      <td>85.0</td>\n",
       "      <td>0</td>\n",
       "      <td>0</td>\n",
       "      <td>0.06</td>\n",
       "      <td>0.12</td>\n",
       "      <td>3</td>\n",
       "      <td>0</td>\n",
       "    </tr>\n",
       "  </tbody>\n",
       "</table>\n",
       "</div>"
      ],
      "text/plain": [
       "            Name     Club Nationality Position  Age  Matches  Starts  Mins  \\\n",
       "0    Mason Mount  Chelsea         ENG    MF,FW   21       36      32  2890   \n",
       "1  Edouard Mendy  Chelsea         SEN       GK   28       31      31  2745   \n",
       "2    Timo Werner  Chelsea         GER       FW   24       35      29  2602   \n",
       "3   Ben Chilwell  Chelsea         ENG       DF   23       27      27  2286   \n",
       "4    Reece James  Chelsea         ENG       DF   20       32      25  2373   \n",
       "\n",
       "   Goals  Assists  Passes_Attempted  Perc_Passes_Completed  Penalty_Goals  \\\n",
       "0      6        5              1881                   82.3              1   \n",
       "1      0        0              1007                   84.6              0   \n",
       "2      6        8               826                   77.2              0   \n",
       "3      3        5              1806                   78.6              0   \n",
       "4      1        2              1987                   85.0              0   \n",
       "\n",
       "   Penalty_Attempted    xG    xA  Yellow_Cards  Red_Cards  \n",
       "0                  1  0.21  0.24             2          0  \n",
       "1                  0  0.00  0.00             2          0  \n",
       "2                  0  0.41  0.21             2          0  \n",
       "3                  0  0.10  0.11             3          0  \n",
       "4                  0  0.06  0.12             3          0  "
      ]
     },
     "execution_count": 6,
     "metadata": {},
     "output_type": "execute_result"
    }
   ],
   "source": [
    "df.head()"
   ]
  },
  {
   "cell_type": "code",
   "execution_count": 7,
   "id": "75d1c851",
   "metadata": {
    "execution": {
     "iopub.execute_input": "2022-11-10T15:41:58.659575Z",
     "iopub.status.busy": "2022-11-10T15:41:58.658540Z",
     "iopub.status.idle": "2022-11-10T15:41:58.668016Z",
     "shell.execute_reply": "2022-11-10T15:41:58.666872Z"
    },
    "papermill": {
     "duration": 0.025158,
     "end_time": "2022-11-10T15:41:58.670555",
     "exception": false,
     "start_time": "2022-11-10T15:41:58.645397",
     "status": "completed"
    },
    "tags": []
   },
   "outputs": [
    {
     "data": {
      "text/plain": [
       "(array(['Chelsea', 'Manchester City', 'Manchester United', 'Liverpool FC',\n",
       "        'Leicester City', 'West Ham United', 'Tottenham Hotspur',\n",
       "        'Arsenal', 'Leeds United', 'Everton', 'Aston Villa',\n",
       "        'Newcastle United', 'Wolverhampton Wanderers', 'Crystal Palace',\n",
       "        'Southampton', 'Brighton', 'Burnley', 'Fulham',\n",
       "        'West Bromwich Albion', 'Sheffield United'], dtype=object),\n",
       " 20)"
      ]
     },
     "execution_count": 7,
     "metadata": {},
     "output_type": "execute_result"
    }
   ],
   "source": [
    "df[\"Club\"].unique() , df[\"Club\"].nunique()"
   ]
  },
  {
   "cell_type": "code",
   "execution_count": 8,
   "id": "550e028d",
   "metadata": {
    "execution": {
     "iopub.execute_input": "2022-11-10T15:41:58.696661Z",
     "iopub.status.busy": "2022-11-10T15:41:58.695665Z",
     "iopub.status.idle": "2022-11-10T15:41:58.707205Z",
     "shell.execute_reply": "2022-11-10T15:41:58.705877Z"
    },
    "papermill": {
     "duration": 0.02743,
     "end_time": "2022-11-10T15:41:58.709764",
     "exception": false,
     "start_time": "2022-11-10T15:41:58.682334",
     "status": "completed"
    },
    "tags": []
   },
   "outputs": [
    {
     "data": {
      "text/plain": [
       "Club\n",
       "Arsenal                    5\n",
       "Aston Villa                4\n",
       "Brighton                   6\n",
       "Burnley                    0\n",
       "Chelsea                    3\n",
       "Crystal Palace             2\n",
       "Everton                    2\n",
       "Fulham                     3\n",
       "Leeds United               1\n",
       "Leicester City             0\n",
       "Liverpool FC               0\n",
       "Manchester City            2\n",
       "Manchester United          1\n",
       "Newcastle United           3\n",
       "Sheffield United           3\n",
       "Southampton                3\n",
       "Tottenham Hotspur          2\n",
       "West Bromwich Albion       4\n",
       "West Ham United            3\n",
       "Wolverhampton Wanderers    1\n",
       "Name: Red_Cards, dtype: int64"
      ]
     },
     "execution_count": 8,
     "metadata": {},
     "output_type": "execute_result"
    }
   ],
   "source": [
    "df.groupby(\"Club\").Red_Cards.sum()"
   ]
  },
  {
   "cell_type": "code",
   "execution_count": 9,
   "id": "9c8bb8cc",
   "metadata": {
    "execution": {
     "iopub.execute_input": "2022-11-10T15:41:58.735627Z",
     "iopub.status.busy": "2022-11-10T15:41:58.734644Z",
     "iopub.status.idle": "2022-11-10T15:41:58.743982Z",
     "shell.execute_reply": "2022-11-10T15:41:58.742901Z"
    },
    "papermill": {
     "duration": 0.025772,
     "end_time": "2022-11-10T15:41:58.746948",
     "exception": false,
     "start_time": "2022-11-10T15:41:58.721176",
     "status": "completed"
    },
    "tags": []
   },
   "outputs": [],
   "source": [
    "x_cards = df.groupby(\"Club\").Yellow_Cards.sum().index\n",
    "y_cards = df.groupby(\"Club\").Yellow_Cards.sum().values\n"
   ]
  },
  {
   "cell_type": "code",
   "execution_count": 10,
   "id": "fa20df14",
   "metadata": {
    "execution": {
     "iopub.execute_input": "2022-11-10T15:41:58.772775Z",
     "iopub.status.busy": "2022-11-10T15:41:58.771809Z",
     "iopub.status.idle": "2022-11-10T15:41:59.239952Z",
     "shell.execute_reply": "2022-11-10T15:41:59.238649Z"
    },
    "papermill": {
     "duration": 0.485069,
     "end_time": "2022-11-10T15:41:59.243475",
     "exception": false,
     "start_time": "2022-11-10T15:41:58.758406",
     "status": "completed"
    },
    "tags": []
   },
   "outputs": [
    {
     "data": {
      "image/png": "[encoded data removed]",
      "text/plain": [
       "<Figure size 1224x576 with 1 Axes>"
      ]
     },
     "metadata": {
      "needs_background": "light"
     },
     "output_type": "display_data"
    }
   ],
   "source": [
    "plt.figure(figsize=(17, 8));\n",
    "\n",
    "plt.bar(x= x_cards , height= y_cards)\n",
    "\n",
    "plt.title(\"Number of Yellow Cards per Clubs\" , fontsize= 20 , color= '#0083FF' ,fontweight= \"bold\")\n",
    "plt.xlabel(\"Team\" , fontsize= 20 , color= '#0083FF' ,fontweight= \"bold\")\n",
    "plt.ylabel(\"Number of Yellow Cards\" , fontsize= 20 , color= '#0083FF' ,fontweight= \"bold\")\n",
    "plt.xticks(rotation = 90)\n",
    "\n",
    "for i in range(len(x_cards)):\n",
    "    plt.text(i , y_cards[i] , y_cards[i] , ha= \"center\" , va= \"bottom\" , fontsize= \"15\")\n",
    "    \n",
    "\n",
    "plt.show()"
   ]
  },
  {
   "cell_type": "code",
   "execution_count": 11,
   "id": "e3ec2d32",
   "metadata": {
    "execution": {
     "iopub.execute_input": "2022-11-10T15:41:59.270941Z",
     "iopub.status.busy": "2022-11-10T15:41:59.269894Z",
     "iopub.status.idle": "2022-11-10T15:41:59.299592Z",
     "shell.execute_reply": "2022-11-10T15:41:59.298412Z"
    },
    "papermill": {
     "duration": 0.04651,
     "end_time": "2022-11-10T15:41:59.302447",
     "exception": false,
     "start_time": "2022-11-10T15:41:59.255937",
     "status": "completed"
    },
    "tags": []
   },
   "outputs": [
    {
     "data": {
      "text/html": [
       "<div>\n",
       "<style scoped>\n",
       "    .dataframe tbody tr th:only-of-type {\n",
       "        vertical-align: middle;\n",
       "    }\n",
       "\n",
       "    .dataframe tbody tr th {\n",
       "        vertical-align: top;\n",
       "    }\n",
       "\n",
       "    .dataframe thead th {\n",
       "        text-align: right;\n",
       "    }\n",
       "</style>\n",
       "<table border=\"1\" class=\"dataframe\">\n",
       "  <thead>\n",
       "    <tr style=\"text-align: right;\">\n",
       "      <th></th>\n",
       "      <th>Name</th>\n",
       "      <th>Club</th>\n",
       "      <th>Nationality</th>\n",
       "      <th>Position</th>\n",
       "      <th>Age</th>\n",
       "      <th>Matches</th>\n",
       "      <th>Starts</th>\n",
       "      <th>Mins</th>\n",
       "      <th>Goals</th>\n",
       "      <th>Assists</th>\n",
       "      <th>Passes_Attempted</th>\n",
       "      <th>Perc_Passes_Completed</th>\n",
       "      <th>Penalty_Goals</th>\n",
       "      <th>Penalty_Attempted</th>\n",
       "      <th>xG</th>\n",
       "      <th>xA</th>\n",
       "      <th>Yellow_Cards</th>\n",
       "      <th>Red_Cards</th>\n",
       "    </tr>\n",
       "  </thead>\n",
       "  <tbody>\n",
       "    <tr>\n",
       "      <th>264</th>\n",
       "      <td>Emiliano Martínez</td>\n",
       "      <td>Aston Villa</td>\n",
       "      <td>ARG</td>\n",
       "      <td>GK</td>\n",
       "      <td>27</td>\n",
       "      <td>38</td>\n",
       "      <td>38</td>\n",
       "      <td>3420</td>\n",
       "      <td>0</td>\n",
       "      <td>0</td>\n",
       "      <td>1295</td>\n",
       "      <td>65.6</td>\n",
       "      <td>0</td>\n",
       "      <td>0</td>\n",
       "      <td>0.00</td>\n",
       "      <td>0.01</td>\n",
       "      <td>1</td>\n",
       "      <td>0</td>\n",
       "    </tr>\n",
       "    <tr>\n",
       "      <th>265</th>\n",
       "      <td>Matt Targett</td>\n",
       "      <td>Aston Villa</td>\n",
       "      <td>ENG</td>\n",
       "      <td>DF</td>\n",
       "      <td>24</td>\n",
       "      <td>38</td>\n",
       "      <td>38</td>\n",
       "      <td>3404</td>\n",
       "      <td>0</td>\n",
       "      <td>2</td>\n",
       "      <td>2147</td>\n",
       "      <td>77.0</td>\n",
       "      <td>0</td>\n",
       "      <td>0</td>\n",
       "      <td>0.01</td>\n",
       "      <td>0.08</td>\n",
       "      <td>7</td>\n",
       "      <td>0</td>\n",
       "    </tr>\n",
       "    <tr>\n",
       "      <th>266</th>\n",
       "      <td>John McGinn</td>\n",
       "      <td>Aston Villa</td>\n",
       "      <td>SCO</td>\n",
       "      <td>MF</td>\n",
       "      <td>25</td>\n",
       "      <td>37</td>\n",
       "      <td>37</td>\n",
       "      <td>3330</td>\n",
       "      <td>3</td>\n",
       "      <td>5</td>\n",
       "      <td>1398</td>\n",
       "      <td>77.3</td>\n",
       "      <td>0</td>\n",
       "      <td>0</td>\n",
       "      <td>0.06</td>\n",
       "      <td>0.08</td>\n",
       "      <td>12</td>\n",
       "      <td>0</td>\n",
       "    </tr>\n",
       "    <tr>\n",
       "      <th>267</th>\n",
       "      <td>Ollie Watkins</td>\n",
       "      <td>Aston Villa</td>\n",
       "      <td>ENG</td>\n",
       "      <td>FW</td>\n",
       "      <td>24</td>\n",
       "      <td>37</td>\n",
       "      <td>37</td>\n",
       "      <td>3328</td>\n",
       "      <td>14</td>\n",
       "      <td>5</td>\n",
       "      <td>832</td>\n",
       "      <td>72.8</td>\n",
       "      <td>1</td>\n",
       "      <td>2</td>\n",
       "      <td>0.43</td>\n",
       "      <td>0.11</td>\n",
       "      <td>4</td>\n",
       "      <td>1</td>\n",
       "    </tr>\n",
       "    <tr>\n",
       "      <th>268</th>\n",
       "      <td>Tyrone Mings</td>\n",
       "      <td>Aston Villa</td>\n",
       "      <td>ENG</td>\n",
       "      <td>DF</td>\n",
       "      <td>27</td>\n",
       "      <td>36</td>\n",
       "      <td>36</td>\n",
       "      <td>3194</td>\n",
       "      <td>2</td>\n",
       "      <td>2</td>\n",
       "      <td>1585</td>\n",
       "      <td>79.6</td>\n",
       "      <td>0</td>\n",
       "      <td>0</td>\n",
       "      <td>0.05</td>\n",
       "      <td>0.02</td>\n",
       "      <td>6</td>\n",
       "      <td>1</td>\n",
       "    </tr>\n",
       "  </tbody>\n",
       "</table>\n",
       "</div>"
      ],
      "text/plain": [
       "                  Name         Club Nationality Position  Age  Matches  \\\n",
       "264  Emiliano Martínez  Aston Villa         ARG       GK   27       38   \n",
       "265       Matt Targett  Aston Villa         ENG       DF   24       38   \n",
       "266        John McGinn  Aston Villa         SCO       MF   25       37   \n",
       "267      Ollie Watkins  Aston Villa         ENG       FW   24       37   \n",
       "268       Tyrone Mings  Aston Villa         ENG       DF   27       36   \n",
       "\n",
       "     Starts  Mins  Goals  Assists  Passes_Attempted  Perc_Passes_Completed  \\\n",
       "264      38  3420      0        0              1295                   65.6   \n",
       "265      38  3404      0        2              2147                   77.0   \n",
       "266      37  3330      3        5              1398                   77.3   \n",
       "267      37  3328     14        5               832                   72.8   \n",
       "268      36  3194      2        2              1585                   79.6   \n",
       "\n",
       "     Penalty_Goals  Penalty_Attempted    xG    xA  Yellow_Cards  Red_Cards  \n",
       "264              0                  0  0.00  0.01             1          0  \n",
       "265              0                  0  0.01  0.08             7          0  \n",
       "266              0                  0  0.06  0.08            12          0  \n",
       "267              1                  2  0.43  0.11             4          1  \n",
       "268              0                  0  0.05  0.02             6          1  "
      ]
     },
     "execution_count": 11,
     "metadata": {},
     "output_type": "execute_result"
    }
   ],
   "source": [
    "p_cards = df.query(\"Club == 'Aston Villa'\")\n",
    "p_cards.head()"
   ]
  },
  {
   "cell_type": "code",
   "execution_count": 12,
   "id": "905bb3b6",
   "metadata": {
    "execution": {
     "iopub.execute_input": "2022-11-10T15:41:59.331816Z",
     "iopub.status.busy": "2022-11-10T15:41:59.330779Z",
     "iopub.status.idle": "2022-11-10T15:41:59.342620Z",
     "shell.execute_reply": "2022-11-10T15:41:59.341376Z"
    },
    "papermill": {
     "duration": 0.029622,
     "end_time": "2022-11-10T15:41:59.345121",
     "exception": false,
     "start_time": "2022-11-10T15:41:59.315499",
     "status": "completed"
    },
    "tags": []
   },
   "outputs": [
    {
     "data": {
      "text/plain": [
       "Name\n",
       "Ahmed Elmohamady           2\n",
       "Anwar El Ghazi             2\n",
       "Bertrand Traoré            1\n",
       "Carney Chukwuemeka         0\n",
       "Conor Hourihane            0\n",
       "Douglas Luiz              10\n",
       "Emiliano Martínez          1\n",
       "Ezri Konsa                 3\n",
       "Jack Grealish              6\n",
       "Jacob Ramsey               0\n",
       "Jaden Philogene Bidace     0\n",
       "John McGinn               12\n",
       "Keinan Davis               0\n",
       "Kortney Hause              2\n",
       "Marvelous Nakamba          3\n",
       "Matt Targett               7\n",
       "Matty Cash                 8\n",
       "Morgan Sanson              3\n",
       "Neil Taylor                1\n",
       "Ollie Watkins              4\n",
       "Ross Barkley               0\n",
       "Trézéguet                  0\n",
       "Tyrone Mings               6\n",
       "Wesley Moraes              0\n",
       "Name: Yellow_Cards, dtype: int64"
      ]
     },
     "execution_count": 12,
     "metadata": {},
     "output_type": "execute_result"
    }
   ],
   "source": [
    "p_cards.groupby(\"Name\").Yellow_Cards.sum()"
   ]
  },
  {
   "cell_type": "code",
   "execution_count": 13,
   "id": "3b177542",
   "metadata": {
    "execution": {
     "iopub.execute_input": "2022-11-10T15:41:59.372929Z",
     "iopub.status.busy": "2022-11-10T15:41:59.371971Z",
     "iopub.status.idle": "2022-11-10T15:41:59.381184Z",
     "shell.execute_reply": "2022-11-10T15:41:59.380099Z"
    },
    "papermill": {
     "duration": 0.026177,
     "end_time": "2022-11-10T15:41:59.383930",
     "exception": false,
     "start_time": "2022-11-10T15:41:59.357753",
     "status": "completed"
    },
    "tags": []
   },
   "outputs": [],
   "source": [
    "index = p_cards.groupby(\"Name\").Yellow_Cards.sum().index\n",
    "values = p_cards.groupby(\"Name\").Yellow_Cards.sum().values"
   ]
  },
  {
   "cell_type": "code",
   "execution_count": 14,
   "id": "bdfcc191",
   "metadata": {
    "execution": {
     "iopub.execute_input": "2022-11-10T15:41:59.411949Z",
     "iopub.status.busy": "2022-11-10T15:41:59.410938Z",
     "iopub.status.idle": "2022-11-10T15:42:00.084888Z",
     "shell.execute_reply": "2022-11-10T15:42:00.083512Z"
    },
    "papermill": {
     "duration": 0.69096,
     "end_time": "2022-11-10T15:42:00.087699",
     "exception": false,
     "start_time": "2022-11-10T15:41:59.396739",
     "status": "completed"
    },
    "tags": []
   },
   "outputs": [
    {
     "data": {
      "image/png": "[encoded data removed]",
      "text/plain": [
       "<Figure size 1224x576 with 1 Axes>"
      ]
     },
     "metadata": {
      "needs_background": "light"
     },
     "output_type": "display_data"
    }
   ],
   "source": [
    "plt.figure(figsize=(17, 8));\n",
    "\n",
    "plt.bar(x= index , height= values)\n",
    "\n",
    "plt.title(\"Number of Yellow Cards per players\" , fontsize= 20 , color= '#0083FF' ,fontweight= \"bold\")\n",
    "plt.xlabel(\"Team\" , fontsize= 20 , color= '#0083FF' ,fontweight= \"bold\")\n",
    "plt.ylabel(\"Number of Yellow Cards\" , fontsize= 20 , color= '#0083FF' ,fontweight= \"bold\")\n",
    "plt.xticks(rotation = 90)\n",
    "\n",
    "for i in range(len(index)):\n",
    "    plt.text(i , values[i] , values[i] , ha= \"center\" , va= \"bottom\" , fontsize= \"15\")\n",
    "    \n",
    "\n",
    "plt.show()"
   ]
  },
  {
   "cell_type": "markdown",
   "id": "64b97be3",
   "metadata": {
    "papermill": {
     "duration": 0.013351,
     "end_time": "2022-11-10T15:42:00.114817",
     "exception": false,
     "start_time": "2022-11-10T15:42:00.101466",
     "status": "completed"
    },
    "tags": []
   },
   "source": [
    "## Q2: The Biggest Teams Passes"
   ]
  },
  {
   "cell_type": "code",
   "execution_count": 15,
   "id": "917911e4",
   "metadata": {
    "execution": {
     "iopub.execute_input": "2022-11-10T15:42:00.144350Z",
     "iopub.status.busy": "2022-11-10T15:42:00.143840Z",
     "iopub.status.idle": "2022-11-10T15:42:00.165206Z",
     "shell.execute_reply": "2022-11-10T15:42:00.163977Z"
    },
    "papermill": {
     "duration": 0.039224,
     "end_time": "2022-11-10T15:42:00.167714",
     "exception": false,
     "start_time": "2022-11-10T15:42:00.128490",
     "status": "completed"
    },
    "tags": []
   },
   "outputs": [
    {
     "data": {
      "text/html": [
       "<div>\n",
       "<style scoped>\n",
       "    .dataframe tbody tr th:only-of-type {\n",
       "        vertical-align: middle;\n",
       "    }\n",
       "\n",
       "    .dataframe tbody tr th {\n",
       "        vertical-align: top;\n",
       "    }\n",
       "\n",
       "    .dataframe thead th {\n",
       "        text-align: right;\n",
       "    }\n",
       "</style>\n",
       "<table border=\"1\" class=\"dataframe\">\n",
       "  <thead>\n",
       "    <tr style=\"text-align: right;\">\n",
       "      <th></th>\n",
       "      <th>Name</th>\n",
       "      <th>Club</th>\n",
       "      <th>Nationality</th>\n",
       "      <th>Position</th>\n",
       "      <th>Age</th>\n",
       "      <th>Matches</th>\n",
       "      <th>Starts</th>\n",
       "      <th>Mins</th>\n",
       "      <th>Goals</th>\n",
       "      <th>Assists</th>\n",
       "      <th>Passes_Attempted</th>\n",
       "      <th>Perc_Passes_Completed</th>\n",
       "      <th>Penalty_Goals</th>\n",
       "      <th>Penalty_Attempted</th>\n",
       "      <th>xG</th>\n",
       "      <th>xA</th>\n",
       "      <th>Yellow_Cards</th>\n",
       "      <th>Red_Cards</th>\n",
       "    </tr>\n",
       "  </thead>\n",
       "  <tbody>\n",
       "    <tr>\n",
       "      <th>0</th>\n",
       "      <td>Mason Mount</td>\n",
       "      <td>Chelsea</td>\n",
       "      <td>ENG</td>\n",
       "      <td>MF,FW</td>\n",
       "      <td>21</td>\n",
       "      <td>36</td>\n",
       "      <td>32</td>\n",
       "      <td>2890</td>\n",
       "      <td>6</td>\n",
       "      <td>5</td>\n",
       "      <td>1881</td>\n",
       "      <td>82.3</td>\n",
       "      <td>1</td>\n",
       "      <td>1</td>\n",
       "      <td>0.21</td>\n",
       "      <td>0.24</td>\n",
       "      <td>2</td>\n",
       "      <td>0</td>\n",
       "    </tr>\n",
       "    <tr>\n",
       "      <th>1</th>\n",
       "      <td>Edouard Mendy</td>\n",
       "      <td>Chelsea</td>\n",
       "      <td>SEN</td>\n",
       "      <td>GK</td>\n",
       "      <td>28</td>\n",
       "      <td>31</td>\n",
       "      <td>31</td>\n",
       "      <td>2745</td>\n",
       "      <td>0</td>\n",
       "      <td>0</td>\n",
       "      <td>1007</td>\n",
       "      <td>84.6</td>\n",
       "      <td>0</td>\n",
       "      <td>0</td>\n",
       "      <td>0.00</td>\n",
       "      <td>0.00</td>\n",
       "      <td>2</td>\n",
       "      <td>0</td>\n",
       "    </tr>\n",
       "    <tr>\n",
       "      <th>2</th>\n",
       "      <td>Timo Werner</td>\n",
       "      <td>Chelsea</td>\n",
       "      <td>GER</td>\n",
       "      <td>FW</td>\n",
       "      <td>24</td>\n",
       "      <td>35</td>\n",
       "      <td>29</td>\n",
       "      <td>2602</td>\n",
       "      <td>6</td>\n",
       "      <td>8</td>\n",
       "      <td>826</td>\n",
       "      <td>77.2</td>\n",
       "      <td>0</td>\n",
       "      <td>0</td>\n",
       "      <td>0.41</td>\n",
       "      <td>0.21</td>\n",
       "      <td>2</td>\n",
       "      <td>0</td>\n",
       "    </tr>\n",
       "    <tr>\n",
       "      <th>3</th>\n",
       "      <td>Ben Chilwell</td>\n",
       "      <td>Chelsea</td>\n",
       "      <td>ENG</td>\n",
       "      <td>DF</td>\n",
       "      <td>23</td>\n",
       "      <td>27</td>\n",
       "      <td>27</td>\n",
       "      <td>2286</td>\n",
       "      <td>3</td>\n",
       "      <td>5</td>\n",
       "      <td>1806</td>\n",
       "      <td>78.6</td>\n",
       "      <td>0</td>\n",
       "      <td>0</td>\n",
       "      <td>0.10</td>\n",
       "      <td>0.11</td>\n",
       "      <td>3</td>\n",
       "      <td>0</td>\n",
       "    </tr>\n",
       "    <tr>\n",
       "      <th>4</th>\n",
       "      <td>Reece James</td>\n",
       "      <td>Chelsea</td>\n",
       "      <td>ENG</td>\n",
       "      <td>DF</td>\n",
       "      <td>20</td>\n",
       "      <td>32</td>\n",
       "      <td>25</td>\n",
       "      <td>2373</td>\n",
       "      <td>1</td>\n",
       "      <td>2</td>\n",
       "      <td>1987</td>\n",
       "      <td>85.0</td>\n",
       "      <td>0</td>\n",
       "      <td>0</td>\n",
       "      <td>0.06</td>\n",
       "      <td>0.12</td>\n",
       "      <td>3</td>\n",
       "      <td>0</td>\n",
       "    </tr>\n",
       "  </tbody>\n",
       "</table>\n",
       "</div>"
      ],
      "text/plain": [
       "            Name     Club Nationality Position  Age  Matches  Starts  Mins  \\\n",
       "0    Mason Mount  Chelsea         ENG    MF,FW   21       36      32  2890   \n",
       "1  Edouard Mendy  Chelsea         SEN       GK   28       31      31  2745   \n",
       "2    Timo Werner  Chelsea         GER       FW   24       35      29  2602   \n",
       "3   Ben Chilwell  Chelsea         ENG       DF   23       27      27  2286   \n",
       "4    Reece James  Chelsea         ENG       DF   20       32      25  2373   \n",
       "\n",
       "   Goals  Assists  Passes_Attempted  Perc_Passes_Completed  Penalty_Goals  \\\n",
       "0      6        5              1881                   82.3              1   \n",
       "1      0        0              1007                   84.6              0   \n",
       "2      6        8               826                   77.2              0   \n",
       "3      3        5              1806                   78.6              0   \n",
       "4      1        2              1987                   85.0              0   \n",
       "\n",
       "   Penalty_Attempted    xG    xA  Yellow_Cards  Red_Cards  \n",
       "0                  1  0.21  0.24             2          0  \n",
       "1                  0  0.00  0.00             2          0  \n",
       "2                  0  0.41  0.21             2          0  \n",
       "3                  0  0.10  0.11             3          0  \n",
       "4                  0  0.06  0.12             3          0  "
      ]
     },
     "execution_count": 15,
     "metadata": {},
     "output_type": "execute_result"
    }
   ],
   "source": [
    "df.head()"
   ]
  },
  {
   "cell_type": "code",
   "execution_count": 16,
   "id": "00ea9172",
   "metadata": {
    "execution": {
     "iopub.execute_input": "2022-11-10T15:42:00.197883Z",
     "iopub.status.busy": "2022-11-10T15:42:00.197345Z",
     "iopub.status.idle": "2022-11-10T15:42:00.207820Z",
     "shell.execute_reply": "2022-11-10T15:42:00.206457Z"
    },
    "papermill": {
     "duration": 0.028848,
     "end_time": "2022-11-10T15:42:00.210872",
     "exception": false,
     "start_time": "2022-11-10T15:42:00.182024",
     "status": "completed"
    },
    "tags": []
   },
   "outputs": [],
   "source": [
    "index = df.groupby(\"Club\").Passes_Attempted.sum().index\n",
    "values = df.groupby(\"Club\").Passes_Attempted.sum().values\n",
    "mean_v = values.mean()"
   ]
  },
  {
   "cell_type": "code",
   "execution_count": 17,
   "id": "4d83c12e",
   "metadata": {
    "execution": {
     "iopub.execute_input": "2022-11-10T15:42:00.241669Z",
     "iopub.status.busy": "2022-11-10T15:42:00.240238Z",
     "iopub.status.idle": "2022-11-10T15:42:00.639012Z",
     "shell.execute_reply": "2022-11-10T15:42:00.637565Z"
    },
    "papermill": {
     "duration": 0.417353,
     "end_time": "2022-11-10T15:42:00.642134",
     "exception": false,
     "start_time": "2022-11-10T15:42:00.224781",
     "status": "completed"
    },
    "tags": []
   },
   "outputs": [
    {
     "data": {
      "image/png": "[encoded data removed]",
      "text/plain": [
       "<Figure size 1224x576 with 1 Axes>"
      ]
     },
     "metadata": {
      "needs_background": "light"
     },
     "output_type": "display_data"
    }
   ],
   "source": [
    "plt.figure(figsize=(17, 8))\n",
    "\n",
    "plt.stem(index, values)\n",
    "\n",
    "plt.title(\"The Biggest Teams Passes\" , fontsize= 20, fontstyle= \"italic\")\n",
    "plt.xlabel(\"Team\" , fontsize= 20, fontstyle= \"italic\")\n",
    "plt.ylabel(\"All passes\" , fontsize= 20, fontstyle= \"italic\")\n",
    "\n",
    "plt.xticks(rotation= 90)\n",
    "\n",
    "for i in range(len(index)):\n",
    "    plt.text(i , (values[i])+500 , values[i] , ha= \"center\" , va= \"bottom\" )\n",
    "    if values[i] >= mean_v:        \n",
    "        plt.text(i , (values[i])+500 , values[i] , ha= \"center\" , va= \"bottom\" , color= \"r\")\n",
    "        \n",
    "plt.show()"
   ]
  },
  {
   "cell_type": "markdown",
   "id": "92f3066b",
   "metadata": {
    "papermill": {
     "duration": 0.014264,
     "end_time": "2022-11-10T15:42:00.671231",
     "exception": false,
     "start_time": "2022-11-10T15:42:00.656967",
     "status": "completed"
    },
    "tags": []
   },
   "source": [
    "## Q3: Which players and teams in the top 10 most passes chart"
   ]
  },
  {
   "cell_type": "code",
   "execution_count": 18,
   "id": "c4b4aa23",
   "metadata": {
    "execution": {
     "iopub.execute_input": "2022-11-10T15:42:00.702938Z",
     "iopub.status.busy": "2022-11-10T15:42:00.702126Z",
     "iopub.status.idle": "2022-11-10T15:42:00.725353Z",
     "shell.execute_reply": "2022-11-10T15:42:00.724039Z"
    },
    "papermill": {
     "duration": 0.042484,
     "end_time": "2022-11-10T15:42:00.728243",
     "exception": false,
     "start_time": "2022-11-10T15:42:00.685759",
     "status": "completed"
    },
    "scrolled": true,
    "tags": []
   },
   "outputs": [
    {
     "data": {
      "text/html": [
       "<div>\n",
       "<style scoped>\n",
       "    .dataframe tbody tr th:only-of-type {\n",
       "        vertical-align: middle;\n",
       "    }\n",
       "\n",
       "    .dataframe tbody tr th {\n",
       "        vertical-align: top;\n",
       "    }\n",
       "\n",
       "    .dataframe thead th {\n",
       "        text-align: right;\n",
       "    }\n",
       "</style>\n",
       "<table border=\"1\" class=\"dataframe\">\n",
       "  <thead>\n",
       "    <tr style=\"text-align: right;\">\n",
       "      <th></th>\n",
       "      <th>Name</th>\n",
       "      <th>Club</th>\n",
       "      <th>Nationality</th>\n",
       "      <th>Position</th>\n",
       "      <th>Age</th>\n",
       "      <th>Matches</th>\n",
       "      <th>Starts</th>\n",
       "      <th>Mins</th>\n",
       "      <th>Goals</th>\n",
       "      <th>Assists</th>\n",
       "      <th>Passes_Attempted</th>\n",
       "      <th>Perc_Passes_Completed</th>\n",
       "      <th>Penalty_Goals</th>\n",
       "      <th>Penalty_Attempted</th>\n",
       "      <th>xG</th>\n",
       "      <th>xA</th>\n",
       "      <th>Yellow_Cards</th>\n",
       "      <th>Red_Cards</th>\n",
       "      <th>Passes_Completed</th>\n",
       "    </tr>\n",
       "  </thead>\n",
       "  <tbody>\n",
       "    <tr>\n",
       "      <th>0</th>\n",
       "      <td>Mason Mount</td>\n",
       "      <td>Chelsea</td>\n",
       "      <td>ENG</td>\n",
       "      <td>MF,FW</td>\n",
       "      <td>21</td>\n",
       "      <td>36</td>\n",
       "      <td>32</td>\n",
       "      <td>2890</td>\n",
       "      <td>6</td>\n",
       "      <td>5</td>\n",
       "      <td>1881</td>\n",
       "      <td>82.3</td>\n",
       "      <td>1</td>\n",
       "      <td>1</td>\n",
       "      <td>0.21</td>\n",
       "      <td>0.24</td>\n",
       "      <td>2</td>\n",
       "      <td>0</td>\n",
       "      <td>1548</td>\n",
       "    </tr>\n",
       "    <tr>\n",
       "      <th>1</th>\n",
       "      <td>Edouard Mendy</td>\n",
       "      <td>Chelsea</td>\n",
       "      <td>SEN</td>\n",
       "      <td>GK</td>\n",
       "      <td>28</td>\n",
       "      <td>31</td>\n",
       "      <td>31</td>\n",
       "      <td>2745</td>\n",
       "      <td>0</td>\n",
       "      <td>0</td>\n",
       "      <td>1007</td>\n",
       "      <td>84.6</td>\n",
       "      <td>0</td>\n",
       "      <td>0</td>\n",
       "      <td>0.00</td>\n",
       "      <td>0.00</td>\n",
       "      <td>2</td>\n",
       "      <td>0</td>\n",
       "      <td>851</td>\n",
       "    </tr>\n",
       "    <tr>\n",
       "      <th>2</th>\n",
       "      <td>Timo Werner</td>\n",
       "      <td>Chelsea</td>\n",
       "      <td>GER</td>\n",
       "      <td>FW</td>\n",
       "      <td>24</td>\n",
       "      <td>35</td>\n",
       "      <td>29</td>\n",
       "      <td>2602</td>\n",
       "      <td>6</td>\n",
       "      <td>8</td>\n",
       "      <td>826</td>\n",
       "      <td>77.2</td>\n",
       "      <td>0</td>\n",
       "      <td>0</td>\n",
       "      <td>0.41</td>\n",
       "      <td>0.21</td>\n",
       "      <td>2</td>\n",
       "      <td>0</td>\n",
       "      <td>637</td>\n",
       "    </tr>\n",
       "    <tr>\n",
       "      <th>3</th>\n",
       "      <td>Ben Chilwell</td>\n",
       "      <td>Chelsea</td>\n",
       "      <td>ENG</td>\n",
       "      <td>DF</td>\n",
       "      <td>23</td>\n",
       "      <td>27</td>\n",
       "      <td>27</td>\n",
       "      <td>2286</td>\n",
       "      <td>3</td>\n",
       "      <td>5</td>\n",
       "      <td>1806</td>\n",
       "      <td>78.6</td>\n",
       "      <td>0</td>\n",
       "      <td>0</td>\n",
       "      <td>0.10</td>\n",
       "      <td>0.11</td>\n",
       "      <td>3</td>\n",
       "      <td>0</td>\n",
       "      <td>1419</td>\n",
       "    </tr>\n",
       "    <tr>\n",
       "      <th>4</th>\n",
       "      <td>Reece James</td>\n",
       "      <td>Chelsea</td>\n",
       "      <td>ENG</td>\n",
       "      <td>DF</td>\n",
       "      <td>20</td>\n",
       "      <td>32</td>\n",
       "      <td>25</td>\n",
       "      <td>2373</td>\n",
       "      <td>1</td>\n",
       "      <td>2</td>\n",
       "      <td>1987</td>\n",
       "      <td>85.0</td>\n",
       "      <td>0</td>\n",
       "      <td>0</td>\n",
       "      <td>0.06</td>\n",
       "      <td>0.12</td>\n",
       "      <td>3</td>\n",
       "      <td>0</td>\n",
       "      <td>1688</td>\n",
       "    </tr>\n",
       "  </tbody>\n",
       "</table>\n",
       "</div>"
      ],
      "text/plain": [
       "            Name     Club Nationality Position  Age  Matches  Starts  Mins  \\\n",
       "0    Mason Mount  Chelsea         ENG    MF,FW   21       36      32  2890   \n",
       "1  Edouard Mendy  Chelsea         SEN       GK   28       31      31  2745   \n",
       "2    Timo Werner  Chelsea         GER       FW   24       35      29  2602   \n",
       "3   Ben Chilwell  Chelsea         ENG       DF   23       27      27  2286   \n",
       "4    Reece James  Chelsea         ENG       DF   20       32      25  2373   \n",
       "\n",
       "   Goals  Assists  Passes_Attempted  Perc_Passes_Completed  Penalty_Goals  \\\n",
       "0      6        5              1881                   82.3              1   \n",
       "1      0        0              1007                   84.6              0   \n",
       "2      6        8               826                   77.2              0   \n",
       "3      3        5              1806                   78.6              0   \n",
       "4      1        2              1987                   85.0              0   \n",
       "\n",
       "   Penalty_Attempted    xG    xA  Yellow_Cards  Red_Cards  Passes_Completed  \n",
       "0                  1  0.21  0.24             2          0              1548  \n",
       "1                  0  0.00  0.00             2          0               851  \n",
       "2                  0  0.41  0.21             2          0               637  \n",
       "3                  0  0.10  0.11             3          0              1419  \n",
       "4                  0  0.06  0.12             3          0              1688  "
      ]
     },
     "execution_count": 18,
     "metadata": {},
     "output_type": "execute_result"
    }
   ],
   "source": [
    "# pass complete not perc per player\n",
    "\n",
    "Passes_Completed = (df.Passes_Attempted *df.Perc_Passes_Completed)/100\n",
    "\n",
    "df[\"Passes_Completed\"] = Passes_Completed.astype(\"int\")\n",
    "df.head()"
   ]
  },
  {
   "cell_type": "code",
   "execution_count": 19,
   "id": "24970595",
   "metadata": {
    "execution": {
     "iopub.execute_input": "2022-11-10T15:42:00.760588Z",
     "iopub.status.busy": "2022-11-10T15:42:00.759818Z",
     "iopub.status.idle": "2022-11-10T15:42:00.769852Z",
     "shell.execute_reply": "2022-11-10T15:42:00.768573Z"
    },
    "papermill": {
     "duration": 0.029103,
     "end_time": "2022-11-10T15:42:00.772191",
     "exception": false,
     "start_time": "2022-11-10T15:42:00.743088",
     "status": "completed"
    },
    "tags": []
   },
   "outputs": [
    {
     "data": {
      "text/plain": [
       "0      1548\n",
       "1       851\n",
       "2       637\n",
       "3      1419\n",
       "4      1688\n",
       "       ... \n",
       "527      40\n",
       "528      59\n",
       "529       3\n",
       "530       1\n",
       "531       0\n",
       "Name: Passes_Completed, Length: 532, dtype: int64"
      ]
     },
     "execution_count": 19,
     "metadata": {},
     "output_type": "execute_result"
    }
   ],
   "source": [
    "df.Passes_Completed"
   ]
  },
  {
   "cell_type": "code",
   "execution_count": 20,
   "id": "f3e66fb5",
   "metadata": {
    "execution": {
     "iopub.execute_input": "2022-11-10T15:42:00.804741Z",
     "iopub.status.busy": "2022-11-10T15:42:00.803936Z",
     "iopub.status.idle": "2022-11-10T15:42:00.822000Z",
     "shell.execute_reply": "2022-11-10T15:42:00.820691Z"
    },
    "papermill": {
     "duration": 0.037493,
     "end_time": "2022-11-10T15:42:00.824592",
     "exception": false,
     "start_time": "2022-11-10T15:42:00.787099",
     "status": "completed"
    },
    "tags": []
   },
   "outputs": [
    {
     "data": {
      "text/html": [
       "<div>\n",
       "<style scoped>\n",
       "    .dataframe tbody tr th:only-of-type {\n",
       "        vertical-align: middle;\n",
       "    }\n",
       "\n",
       "    .dataframe tbody tr th {\n",
       "        vertical-align: top;\n",
       "    }\n",
       "\n",
       "    .dataframe thead th {\n",
       "        text-align: right;\n",
       "    }\n",
       "</style>\n",
       "<table border=\"1\" class=\"dataframe\">\n",
       "  <thead>\n",
       "    <tr style=\"text-align: right;\">\n",
       "      <th></th>\n",
       "      <th>Passes_Completed</th>\n",
       "      <th>Name</th>\n",
       "    </tr>\n",
       "  </thead>\n",
       "  <tbody>\n",
       "    <tr>\n",
       "      <th>80</th>\n",
       "      <td>2567</td>\n",
       "      <td>Andrew Robertson</td>\n",
       "    </tr>\n",
       "    <tr>\n",
       "      <th>28</th>\n",
       "      <td>2500</td>\n",
       "      <td>Rúben Dias</td>\n",
       "    </tr>\n",
       "    <tr>\n",
       "      <th>29</th>\n",
       "      <td>2496</td>\n",
       "      <td>Rodri</td>\n",
       "    </tr>\n",
       "    <tr>\n",
       "      <th>159</th>\n",
       "      <td>2388</td>\n",
       "      <td>Pierre Højbjerg</td>\n",
       "    </tr>\n",
       "    <tr>\n",
       "      <th>82</th>\n",
       "      <td>2214</td>\n",
       "      <td>Trent Alexander-Arnold</td>\n",
       "    </tr>\n",
       "    <tr>\n",
       "      <th>...</th>\n",
       "      <td>...</td>\n",
       "      <td>...</td>\n",
       "    </tr>\n",
       "    <tr>\n",
       "      <th>182</th>\n",
       "      <td>0</td>\n",
       "      <td>Dane Scarlett</td>\n",
       "    </tr>\n",
       "    <tr>\n",
       "      <th>421</th>\n",
       "      <td>0</td>\n",
       "      <td>Jayson Molumby</td>\n",
       "    </tr>\n",
       "    <tr>\n",
       "      <th>446</th>\n",
       "      <td>0</td>\n",
       "      <td>Lewis Richardson</td>\n",
       "    </tr>\n",
       "    <tr>\n",
       "      <th>394</th>\n",
       "      <td>0</td>\n",
       "      <td>Allan Tchaptchet</td>\n",
       "    </tr>\n",
       "    <tr>\n",
       "      <th>531</th>\n",
       "      <td>0</td>\n",
       "      <td>Femi Seriki</td>\n",
       "    </tr>\n",
       "  </tbody>\n",
       "</table>\n",
       "<p>532 rows × 2 columns</p>\n",
       "</div>"
      ],
      "text/plain": [
       "     Passes_Completed                    Name\n",
       "80               2567        Andrew Robertson\n",
       "28               2500              Rúben Dias\n",
       "29               2496                   Rodri\n",
       "159              2388         Pierre Højbjerg\n",
       "82               2214  Trent Alexander-Arnold\n",
       "..                ...                     ...\n",
       "182                 0           Dane Scarlett\n",
       "421                 0          Jayson Molumby\n",
       "446                 0        Lewis Richardson\n",
       "394                 0        Allan Tchaptchet\n",
       "531                 0             Femi Seriki\n",
       "\n",
       "[532 rows x 2 columns]"
      ]
     },
     "execution_count": 20,
     "metadata": {},
     "output_type": "execute_result"
    }
   ],
   "source": [
    "C_Pass_df = pd.DataFrame(df[\"Passes_Completed\"].sort_values(ascending = False))\n",
    "C_Pass_df[\"Name\"] = df[\"Name\"]\n",
    "\n",
    "Top_C_Pass_df = C_Pass_df[:10]\n",
    "C_Pass_df"
   ]
  },
  {
   "cell_type": "code",
   "execution_count": 21,
   "id": "1cdfe48f",
   "metadata": {
    "execution": {
     "iopub.execute_input": "2022-11-10T15:42:00.857865Z",
     "iopub.status.busy": "2022-11-10T15:42:00.857035Z",
     "iopub.status.idle": "2022-11-10T15:42:01.933445Z",
     "shell.execute_reply": "2022-11-10T15:42:01.931992Z"
    },
    "papermill": {
     "duration": 1.097722,
     "end_time": "2022-11-10T15:42:01.937456",
     "exception": false,
     "start_time": "2022-11-10T15:42:00.839734",
     "status": "completed"
    },
    "tags": []
   },
   "outputs": [
    {
     "data": {
      "application/vnd.plotly.v1+json": {
       "config": {
        "plotlyServerURL": "https://plot.ly"
       },
       "data": [
        {
         "branchvalues": "total",
         "domain": {
          "x": [
           0,
           1
          ],
          "y": [
           0,
           1
          ]
         },
         "hovertemplate": "labels=%{label}<br>Passes_Completed=%{value}<br>parent=%{parent}<br>id=%{id}<extra></extra>",
         "ids": [
          "Aaron Connolly",
          "Aaron Cresswell",
          "Aaron Ramsdale",
          "Aaron Wan-Bissaka",
          "Abdoulaye Doucouré",
          "Aboubakar Kamara",
          "Adam Lallana",
          "Adam Webster",
          "Adama Traoré",
          "Ademola Lookman",
          "Adrián",
          "Ahmed Elmohamady",
          "Ahmed Hegazi",
          "Ainsley Maitland-Niles",
          "Aleksandar Mitrović",
          "Alex Iwobi",
          "Alex McCarthy",
          "Alex Oxlade-Chamberlain",
          "Alex Telles",
          "Alexandre Jankewitz",
          "Alexandre Lacazette",
          "Alexis Mac Allister",
          "Alireza Jahanbakhsh",
          "Alisson",
          "Allan",
          "Allan Saint-Maximin",
          "Allan Tchaptchet",
          "Alphonse Areola",
          "Amad Diallo",
          "Andi Zeqiri",
          "Andre-Frank Zambo Anguissa",
          "Andreas Christensen",
          "Andrew Robertson",
          "Andriy Yarmolenko",
          "Andros Townsend",
          "André Gomes",
          "Andy Carroll",
          "Angelo Ogbonna",
          "Anthony Elanga",
          "Anthony Gordon",
          "Anthony Martial",
          "Antonee Robinson",
          "Antonio Rüdiger",
          "Antwoine Hackford",
          "Anwar El Ghazi",
          "Arthur Masuaku",
          "Ashley Barnes",
          "Ashley Westwood",
          "Axel Tuanzebe",
          "Aymeric Laporte",
          "Ayoze Pérez",
          "Bailey Peacock-Farrell",
          "Ben Chilwell",
          "Ben Davies",
          "Ben Godfrey",
          "Ben Johnson",
          "Ben Mee",
          "Ben Osborn",
          "Ben White",
          "Benjamin Mendy",
          "Bernard",
          "Bernardo",
          "Bernardo Silva",
          "Bernd Leno",
          "Bertrand Traoré",
          "Billy Gilmour",
          "Billy Sharp",
          "Bobby Reid",
          "Brandon Williams",
          "Branislav Ivanović",
          "Bruno Fernandes",
          "Bukayo Saka",
          "Caleb Watts",
          "Callum Hudson-Odoi",
          "Callum Robinson",
          "Callum Wilson",
          "Calum Chambers",
          "Caoimhín Kelleher",
          "Carlos Vinícius",
          "Carney Chukwuemeka",
          "Cengiz Ünder",
          "Cenk Tosun",
          "Charlie Austin",
          "Charlie Taylor",
          "Che Adams",
          "Cheikhou Kouyaté",
          "Chris Basham",
          "Chris Wood",
          "Christian Benteke",
          "Christian Fuchs",
          "Christian Pulisic",
          "Ciaran Clark",
          "Conor Coady",
          "Conor Gallagher",
          "Conor Hourihane",
          "Conor Townsend",
          "Craig Dawson",
          "Curtis Jones",
          "Cédric Soares",
          "César Azpilicueta",
          "Dale Stephens",
          "Dan Burn",
          "Dan Nlundulu",
          "Dane Scarlett",
          "Dani Ceballos",
          "Daniel Amartey",
          "Daniel James",
          "Daniel Jebbison",
          "Daniel Podence",
          "Danny Ings",
          "Danny Welbeck",
          "Dara O'Shea",
          "Darnell Furlong",
          "Darren Randolph",
          "David Button",
          "David Luiz",
          "David McGoldrick",
          "David de Gea",
          "Davinson Sánchez",
          "Davy Pröpper",
          "DeAndre Yedlin",
          "Dean Henderson",
          "Declan Rice",
          "Dele Alli",
          "Demarai Gray",
          "Denis Odoi",
          "Dennis Praet",
          "Diego Llorente",
          "Diogo Jota",
          "Divock Origi",
          "Dominic Calvert-Lewin",
          "Donny van de Beek",
          "Douglas Luiz",
          "Dwight Gayle",
          "Dwight McNeil",
          "Eberechi Eze",
          "Eddie Nketiah",
          "Ederson",
          "Edinson Cavani",
          "Edouard Mendy",
          "Elliot Anderson",
          "Emerson Palmieri",
          "Emil Krafth",
          "Emile Smith-Rowe",
          "Emiliano Martínez",
          "Enda Stevens",
          "Eric Bailly",
          "Eric Dier",
          "Eric García",
          "Erik Pieters",
          "Ethan Ampadu",
          "Ezgjan Alioski",
          "Ezri Konsa",
          "Fabian Delph",
          "Fabian Schär",
          "Fabinho",
          "Fabio Carvalho",
          "Fabián Balbuena",
          "Federico Fernández",
          "Felipe Anderson",
          "Femi Seriki",
          "Fernandinho",
          "Fernando Marçal",
          "Ferrán Torres",
          "Fikayo Tomori",
          "Filip Krovinović",
          "Fraser Forster",
          "Fred",
          "Fábio Silva",
          "Gabriel Dos Santos",
          "Gabriel Jesus",
          "Gaetano Berardi",
          "Gareth Bale",
          "Gary Cahill",
          "George Baldock",
          "Georginio Wijnaldum",
          "Giovani Lo Celso",
          "Grady Diangana",
          "Granit Xhaka",
          "Gylfi Sigurðsson",
          "Hakim Ziyech",
          "Hal Robson-Kanu",
          "Hamza Choudhury",
          "Hannibal Mejbri",
          "Harrison Reed",
          "Harry Kane",
          "Harry Maguire",
          "Harry Winks",
          "Harvey Barnes",
          "Hugo Lloris",
          "Héctor Bellerín",
          "Hélder Costa",
          "Ian Carlo Poveda",
          "Ibrahima Diallo",
          "Iliman Ndiaye",
          "Illan Meslier",
          "Isaac Hayden",
          "Islam Slimani",
          "Issa Diop",
          "Ivan Cavaleiro",
          "Jack Butland",
          "Jack Cork",
          "Jack Grealish",
          "Jack Harrison",
          "Jack O'Connell",
          "Jack Robinson",
          "Jack Stephens",
          "Jacob Murphy",
          "Jacob Ramsey",
          "Jaden Philogene Bidace",
          "Jake Livermore",
          "Jake Vokins",
          "Jakub Moder",
          "Jamaal Lascelles",
          "Jamal Lewis",
          "James Justin",
          "James Maddison",
          "James McArthur",
          "James McCarthy",
          "James Milner",
          "James Rodríguez",
          "James Tarkowski",
          "James Tomkins",
          "James Ward-Prowse",
          "Jamie Shackleton",
          "Jamie Vardy",
          "Jan Bednarek",
          "Jannik Vestergaard",
          "Japhet Tanganga",
          "Jarrod Bowen",
          "Javier Manquillo",
          "Jay Rodriguez",
          "Jayden Bogle",
          "Jayson Molumby",
          "Jaïro Riedewald",
          "Jean-Philippe Gbamin",
          "Jean-Philippe Mateta",
          "Jeff Hendrick",
          "Jeffrey Schlupp",
          "Jesse Lingard",
          "Jimmy Dunne",
          "Joachim Andersen",
          "Joe Bryan",
          "Joe Gomez",
          "Joe Rodon",
          "Joe Willock",
          "Joel Mumbongo",
          "Joel Ward",
          "Joelinton",
          "John Egan",
          "John Fleck",
          "John Lundstram",
          "John McGinn",
          "John Ruddy",
          "John Stones",
          "Jonjo Shelvey",
          "Jonjoe Kenny",
          "Jonny Castro",
          "Jonny Evans",
          "Jordan Ayew",
          "Jordan Henderson",
          "Jordan Pickford",
          "Jorginho",
          "Josh Benson",
          "Josh Brownhill",
          "Josh Maja",
          "Josh Onomah",
          "Joshua King",
          "José Izquierdo",
          "João Cancelo",
          "João Moutinho",
          "João Virgínia",
          "Joël Matip",
          "Joël Veltman",
          "Juan Mata",
          "Jóhann Berg Guðmundsson",
          "Kai Havertz",
          "Kalvin Phillips",
          "Kamil Grosicki",
          "Karl Darlow",
          "Karlan Grant",
          "Kasper Schmeichel",
          "Kayne Ramsey",
          "Kean Bryan",
          "Keinan Davis",
          "Kelechi Iheanacho",
          "Kenny Tete",
          "Kepa Arrizabalaga",
          "Kevin De Bruyne",
          "Kevin Long",
          "Khanya Leshabela",
          "Ki-Jana Hoever",
          "Kieran Gibbs",
          "Kieran Tierney",
          "Kiko Casilla",
          "Kortney Hause",
          "Kostas Tsimikas",
          "Kurt Zouma",
          "Kyle Bartley",
          "Kyle Edwards",
          "Kyle Walker",
          "Kyle Walker-Peters",
          "Leander Dendoncker",
          "Leandro Trossard",
          "Lee Peltier",
          "Leif Davis",
          "Lewis Dunk",
          "Lewis Richardson",
          "Liam Cooper",
          "Liam Delap",
          "Lucas Digne",
          "Lucas Moura",
          "Luka Milivojević",
          "Luke Ayling",
          "Luke Shaw",
          "Luke Thomas",
          "Lys Mousset",
          "Mamadou Sakho",
          "Manuel Lanzini",
          "Marc Albrighton",
          "Marcos Alonso",
          "Marcus Rashford",
          "Marek Rodák",
          "Mario Lemina",
          "Mark Noble",
          "Martin Dúbravka",
          "Martin Kelly",
          "Martin Ødegaard",
          "Martinelli",
          "Marvelous Nakamba",
          "Mason Greenwood",
          "Mason Holgate",
          "Mason Mount",
          "Mateo Kovačić",
          "Mateusz Klich",
          "Matheus Pereira",
          "Mathew Ryan",
          "Matt Doherty",
          "Matt Phillips",
          "Matt Ritchie",
          "Matt Targett",
          "Matthew Longstaff",
          "Matthew Lowton",
          "Matty Cash",
          "Matěj Vydra",
          "Max Kilman",
          "Max Lowe",
          "Maxime Le Marchand",
          "Mbaye Diagne",
          "Michael Hector",
          "Michael Keane",
          "Michael Obafemi",
          "Michail Antonio",
          "Michy Batshuayi",
          "Miguel Almirón",
          "Mohamed Elneny",
          "Mohamed Salah",
          "Mohammed Salisu",
          "Moise Kean",
          "Morgan Gibbs-White",
          "Morgan Sanson",
          "Moussa Djenepo",
          "Moussa Sissoko",
          "N'Golo Kanté",
          "Naby Keïta",
          "Nampalys Mendy",
          "Nathan Aké",
          "Nathan Broadhead",
          "Nathan Redmond",
          "Nathan Tella",
          "Nathaniel Clyne",
          "Nathaniel Phillips",
          "Neal Maupay",
          "Neco Williams",
          "Neeskens Kebano",
          "Neil Taylor",
          "Nemanja Matić",
          "Niall Huggins",
          "Nick Pope",
          "Nicolas Pépé",
          "Niels Nkounkou",
          "Nélson Semedo",
          "Odion Ighalo",
          "Okay Yokuşlu",
          "Ola Aina",
          "Oleksandr Zinchenko",
          "Oliver Burke",
          "Oliver McBurnie",
          "Oliver Norwood",
          "Olivier Giroud",
          "Ollie Watkins",
          "Oriol Romeu",
          "Oskar Buur",
          "Owen Otasowie",
          "Ozan Kabak",
          "Pablo Fornals",
          "Pablo Hernández",
          "Pablo Marí",
          "Pascal Groß",
          "Pascal Struijk",
          "Patrick Bamford",
          "Patrick Cutrone",
          "Patrick van Aanholt",
          "Paul Dummett",
          "Paul Pogba",
          "Pedro Neto",
          "Percy Tau",
          "Phil Bardsley",
          "Phil Foden",
          "Phil Jagielka",
          "Pierre Højbjerg",
          "Pierre-Emerick Aubameyang",
          "Raheem Sterling",
          "Raphael Dias Belloli",
          "Rayan Aït Nouri",
          "Raúl Jiménez",
          "Reda Khadra",
          "Reece James",
          "Reiss Nelson",
          "Rekeem Harper",
          "Rhian Brewster",
          "Rhys Williams",
          "Ricardo Pereira",
          "Richarlison",
          "Riyad Mahrez",
          "Rob Holding",
          "Robbie Brady",
          "Robert Snodgrass",
          "Robert Sánchez",
          "Roberto Firmino",
          "Robin Koch",
          "Robin Olsen",
          "Rodri",
          "Rodrigo",
          "Romain Saïss",
          "Romaine Sawyers",
          "Ross Barkley",
          "Ruben Loftus-Cheek",
          "Rui Patrício",
          "Ryan Bertrand",
          "Ryan Fraser",
          "Ryan Fredericks",
          "Rúben Dias",
          "Rúben Neves",
          "Rúben Vinagre",
          "Rúnar Alex Rúnarsson",
          "Sadio Mané",
          "Sam Field",
          "Sam Johnstone",
          "Sander Berge",
          "Saïd Benrahma",
          "Scott Carson",
          "Scott Dann",
          "Scott McTominay",
          "Sead Kolašinac",
          "Sean Longstaff",
          "Semi Ajayi",
          "Serge Aurier",
          "Sergio Agüero",
          "Sergio Reguilón",
          "Shane Long",
          "Shkodran Mustafi",
          "Shola Shoretire",
          "Sidnei Tavares",
          "Solly March",
          "Son Heung-min",
          "Steven Alzate",
          "Steven Bergwijn",
          "Stuart Armstrong",
          "Stuart Dallas",
          "Séamus Coleman",
          "Sébastien Haller",
          "Takumi Minamino",
          "Tammy Abraham",
          "Tanguy Ndombele",
          "Tariq Lamptey",
          "Terence Kongolo",
          "Theo Corbeanu",
          "Theo Walcott",
          "Thiago Alcántara",
          "Thiago Silva",
          "Thomas Partey",
          "Tim Ream",
          "Timo Werner",
          "Timothy Castagne",
          "Timothy Fosu-Mensah",
          "Toby Alderweireld",
          "Tom Cairney",
          "Tom Davies",
          "Tomáš Souček",
          "Tosin Adarabioyo",
          "Trent Alexander-Arnold",
          "Trézéguet",
          "Tyler Roberts",
          "Tyrese Francois",
          "Tyrick Mitchell",
          "Tyrone Mings",
          "Vicente Guaita",
          "Victor Lindelöf",
          "Virgil van Dijk",
          "Vitinha",
          "Vladimír Coufal",
          "Wes Morgan",
          "Wesley Fofana",
          "Wesley Moraes",
          "Wilfred Ndidi",
          "Wilfried Zaha",
          "Will Norris",
          "William Smallbone",
          "William Thomas Fish",
          "Willian",
          "Willian José",
          "Willy Boly",
          "Willy Caballero",
          "Xherdan Shaqiri",
          "Yan Valery",
          "Yerry Mina",
          "Youri Tielemans",
          "Yves Bissouma",
          "Zack Steffen",
          "Çağlar Söyüncü",
          "Érik Lamela",
          "İlkay Gündoğan",
          "Łukasz Fabiański"
         ],
         "labels": [
          "Aaron Connolly",
          "Aaron Cresswell",
          "Aaron Ramsdale",
          "Aaron Wan-Bissaka",
          "Abdoulaye Doucouré",
          "Aboubakar Kamara",
          "Adam Lallana",
          "Adam Webster",
          "Adama Traoré",
          "Ademola Lookman",
          "Adrián",
          "Ahmed Elmohamady",
          "Ahmed Hegazi",
          "Ainsley Maitland-Niles",
          "Aleksandar Mitrović",
          "Alex Iwobi",
          "Alex McCarthy",
          "Alex Oxlade-Chamberlain",
          "Alex Telles",
          "Alexandre Jankewitz",
          "Alexandre Lacazette",
          "Alexis Mac Allister",
          "Alireza Jahanbakhsh",
          "Alisson",
          "Allan",
          "Allan Saint-Maximin",
          "Allan Tchaptchet",
          "Alphonse Areola",
          "Amad Diallo",
          "Andi Zeqiri",
          "Andre-Frank Zambo Anguissa",
          "Andreas Christensen",
          "Andrew Robertson",
          "Andriy Yarmolenko",
          "Andros Townsend",
          "André Gomes",
          "Andy Carroll",
          "Angelo Ogbonna",
          "Anthony Elanga",
          "Anthony Gordon",
          "Anthony Martial",
          "Antonee Robinson",
          "Antonio Rüdiger",
          "Antwoine Hackford",
          "Anwar El Ghazi",
          "Arthur Masuaku",
          "Ashley Barnes",
          "Ashley Westwood",
          "Axel Tuanzebe",
          "Aymeric Laporte",
          "Ayoze Pérez",
          "Bailey Peacock-Farrell",
          "Ben Chilwell",
          "Ben Davies",
          "Ben Godfrey",
          "Ben Johnson",
          "Ben Mee",
          "Ben Osborn",
          "Ben White",
          "Benjamin Mendy",
          "Bernard",
          "Bernardo",
          "Bernardo Silva",
          "Bernd Leno",
          "Bertrand Traoré",
          "Billy Gilmour",
          "Billy Sharp",
          "Bobby Reid",
          "Brandon Williams",
          "Branislav Ivanović",
          "Bruno Fernandes",
          "Bukayo Saka",
          "Caleb Watts",
          "Callum Hudson-Odoi",
          "Callum Robinson",
          "Callum Wilson",
          "Calum Chambers",
          "Caoimhín Kelleher",
          "Carlos Vinícius",
          "Carney Chukwuemeka",
          "Cengiz Ünder",
          "Cenk Tosun",
          "Charlie Austin",
          "Charlie Taylor",
          "Che Adams",
          "Cheikhou Kouyaté",
          "Chris Basham",
          "Chris Wood",
          "Christian Benteke",
          "Christian Fuchs",
          "Christian Pulisic",
          "Ciaran Clark",
          "Conor Coady",
          "Conor Gallagher",
          "Conor Hourihane",
          "Conor Townsend",
          "Craig Dawson",
          "Curtis Jones",
          "Cédric Soares",
          "César Azpilicueta",
          "Dale Stephens",
          "Dan Burn",
          "Dan Nlundulu",
          "Dane Scarlett",
          "Dani Ceballos",
          "Daniel Amartey",
          "Daniel James",
          "Daniel Jebbison",
          "Daniel Podence",
          "Danny Ings",
          "Danny Welbeck",
          "Dara O'Shea",
          "Darnell Furlong",
          "Darren Randolph",
          "David Button",
          "David Luiz",
          "David McGoldrick",
          "David de Gea",
          "Davinson Sánchez",
          "Davy Pröpper",
          "DeAndre Yedlin",
          "Dean Henderson",
          "Declan Rice",
          "Dele Alli",
          "Demarai Gray",
          "Denis Odoi",
          "Dennis Praet",
          "Diego Llorente",
          "Diogo Jota",
          "Divock Origi",
          "Dominic Calvert-Lewin",
          "Donny van de Beek",
          "Douglas Luiz",
          "Dwight Gayle",
          "Dwight McNeil",
          "Eberechi Eze",
          "Eddie Nketiah",
          "Ederson",
          "Edinson Cavani",
          "Edouard Mendy",
          "Elliot Anderson",
          "Emerson Palmieri",
          "Emil Krafth",
          "Emile Smith-Rowe",
          "Emiliano Martínez",
          "Enda Stevens",
          "Eric Bailly",
          "Eric Dier",
          "Eric García",
          "Erik Pieters",
          "Ethan Ampadu",
          "Ezgjan Alioski",
          "Ezri Konsa",
          "Fabian Delph",
          "Fabian Schär",
          "Fabinho",
          "Fabio Carvalho",
          "Fabián Balbuena",
          "Federico Fernández",
          "Felipe Anderson",
          "Femi Seriki",
          "Fernandinho",
          "Fernando Marçal",
          "Ferrán Torres",
          "Fikayo Tomori",
          "Filip Krovinović",
          "Fraser Forster",
          "Fred",
          "Fábio Silva",
          "Gabriel Dos Santos",
          "Gabriel Jesus",
          "Gaetano Berardi",
          "Gareth Bale",
          "Gary Cahill",
          "George Baldock",
          "Georginio Wijnaldum",
          "Giovani Lo Celso",
          "Grady Diangana",
          "Granit Xhaka",
          "Gylfi Sigurðsson",
          "Hakim Ziyech",
          "Hal Robson-Kanu",
          "Hamza Choudhury",
          "Hannibal Mejbri",
          "Harrison Reed",
          "Harry Kane",
          "Harry Maguire",
          "Harry Winks",
          "Harvey Barnes",
          "Hugo Lloris",
          "Héctor Bellerín",
          "Hélder Costa",
          "Ian Carlo Poveda",
          "Ibrahima Diallo",
          "Iliman Ndiaye",
          "Illan Meslier",
          "Isaac Hayden",
          "Islam Slimani",
          "Issa Diop",
          "Ivan Cavaleiro",
          "Jack Butland",
          "Jack Cork",
          "Jack Grealish",
          "Jack Harrison",
          "Jack O'Connell",
          "Jack Robinson",
          "Jack Stephens",
          "Jacob Murphy",
          "Jacob Ramsey",
          "Jaden Philogene Bidace",
          "Jake Livermore",
          "Jake Vokins",
          "Jakub Moder",
          "Jamaal Lascelles",
          "Jamal Lewis",
          "James Justin",
          "James Maddison",
          "James McArthur",
          "James McCarthy",
          "James Milner",
          "James Rodríguez",
          "James Tarkowski",
          "James Tomkins",
          "James Ward-Prowse",
          "Jamie Shackleton",
          "Jamie Vardy",
          "Jan Bednarek",
          "Jannik Vestergaard",
          "Japhet Tanganga",
          "Jarrod Bowen",
          "Javier Manquillo",
          "Jay Rodriguez",
          "Jayden Bogle",
          "Jayson Molumby",
          "Jaïro Riedewald",
          "Jean-Philippe Gbamin",
          "Jean-Philippe Mateta",
          "Jeff Hendrick",
          "Jeffrey Schlupp",
          "Jesse Lingard",
          "Jimmy Dunne",
          "Joachim Andersen",
          "Joe Bryan",
          "Joe Gomez",
          "Joe Rodon",
          "Joe Willock",
          "Joel Mumbongo",
          "Joel Ward",
          "Joelinton",
          "John Egan",
          "John Fleck",
          "John Lundstram",
          "John McGinn",
          "John Ruddy",
          "John Stones",
          "Jonjo Shelvey",
          "Jonjoe Kenny",
          "Jonny Castro",
          "Jonny Evans",
          "Jordan Ayew",
          "Jordan Henderson",
          "Jordan Pickford",
          "Jorginho",
          "Josh Benson",
          "Josh Brownhill",
          "Josh Maja",
          "Josh Onomah",
          "Joshua King",
          "José Izquierdo",
          "João Cancelo",
          "João Moutinho",
          "João Virgínia",
          "Joël Matip",
          "Joël Veltman",
          "Juan Mata",
          "Jóhann Berg Guðmundsson",
          "Kai Havertz",
          "Kalvin Phillips",
          "Kamil Grosicki",
          "Karl Darlow",
          "Karlan Grant",
          "Kasper Schmeichel",
          "Kayne Ramsey",
          "Kean Bryan",
          "Keinan Davis",
          "Kelechi Iheanacho",
          "Kenny Tete",
          "Kepa Arrizabalaga",
          "Kevin De Bruyne",
          "Kevin Long",
          "Khanya Leshabela",
          "Ki-Jana Hoever",
          "Kieran Gibbs",
          "Kieran Tierney",
          "Kiko Casilla",
          "Kortney Hause",
          "Kostas Tsimikas",
          "Kurt Zouma",
          "Kyle Bartley",
          "Kyle Edwards",
          "Kyle Walker",
          "Kyle Walker-Peters",
          "Leander Dendoncker",
          "Leandro Trossard",
          "Lee Peltier",
          "Leif Davis",
          "Lewis Dunk",
          "Lewis Richardson",
          "Liam Cooper",
          "Liam Delap",
          "Lucas Digne",
          "Lucas Moura",
          "Luka Milivojević",
          "Luke Ayling",
          "Luke Shaw",
          "Luke Thomas",
          "Lys Mousset",
          "Mamadou Sakho",
          "Manuel Lanzini",
          "Marc Albrighton",
          "Marcos Alonso",
          "Marcus Rashford",
          "Marek Rodák",
          "Mario Lemina",
          "Mark Noble",
          "Martin Dúbravka",
          "Martin Kelly",
          "Martin Ødegaard",
          "Martinelli",
          "Marvelous Nakamba",
          "Mason Greenwood",
          "Mason Holgate",
          "Mason Mount",
          "Mateo Kovačić",
          "Mateusz Klich",
          "Matheus Pereira",
          "Mathew Ryan",
          "Matt Doherty",
          "Matt Phillips",
          "Matt Ritchie",
          "Matt Targett",
          "Matthew Longstaff",
          "Matthew Lowton",
          "Matty Cash",
          "Matěj Vydra",
          "Max Kilman",
          "Max Lowe",
          "Maxime Le Marchand",
          "Mbaye Diagne",
          "Michael Hector",
          "Michael Keane",
          "Michael Obafemi",
          "Michail Antonio",
          "Michy Batshuayi",
          "Miguel Almirón",
          "Mohamed Elneny",
          "Mohamed Salah",
          "Mohammed Salisu",
          "Moise Kean",
          "Morgan Gibbs-White",
          "Morgan Sanson",
          "Moussa Djenepo",
          "Moussa Sissoko",
          "N'Golo Kanté",
          "Naby Keïta",
          "Nampalys Mendy",
          "Nathan Aké",
          "Nathan Broadhead",
          "Nathan Redmond",
          "Nathan Tella",
          "Nathaniel Clyne",
          "Nathaniel Phillips",
          "Neal Maupay",
          "Neco Williams",
          "Neeskens Kebano",
          "Neil Taylor",
          "Nemanja Matić",
          "Niall Huggins",
          "Nick Pope",
          "Nicolas Pépé",
          "Niels Nkounkou",
          "Nélson Semedo",
          "Odion Ighalo",
          "Okay Yokuşlu",
          "Ola Aina",
          "Oleksandr Zinchenko",
          "Oliver Burke",
          "Oliver McBurnie",
          "Oliver Norwood",
          "Olivier Giroud",
          "Ollie Watkins",
          "Oriol Romeu",
          "Oskar Buur",
          "Owen Otasowie",
          "Ozan Kabak",
          "Pablo Fornals",
          "Pablo Hernández",
          "Pablo Marí",
          "Pascal Groß",
          "Pascal Struijk",
          "Patrick Bamford",
          "Patrick Cutrone",
          "Patrick van Aanholt",
          "Paul Dummett",
          "Paul Pogba",
          "Pedro Neto",
          "Percy Tau",
          "Phil Bardsley",
          "Phil Foden",
          "Phil Jagielka",
          "Pierre Højbjerg",
          "Pierre-Emerick Aubameyang",
          "Raheem Sterling",
          "Raphael Dias Belloli",
          "Rayan Aït Nouri",
          "Raúl Jiménez",
          "Reda Khadra",
          "Reece James",
          "Reiss Nelson",
          "Rekeem Harper",
          "Rhian Brewster",
          "Rhys Williams",
          "Ricardo Pereira",
          "Richarlison",
          "Riyad Mahrez",
          "Rob Holding",
          "Robbie Brady",
          "Robert Snodgrass",
          "Robert Sánchez",
          "Roberto Firmino",
          "Robin Koch",
          "Robin Olsen",
          "Rodri",
          "Rodrigo",
          "Romain Saïss",
          "Romaine Sawyers",
          "Ross Barkley",
          "Ruben Loftus-Cheek",
          "Rui Patrício",
          "Ryan Bertrand",
          "Ryan Fraser",
          "Ryan Fredericks",
          "Rúben Dias",
          "Rúben Neves",
          "Rúben Vinagre",
          "Rúnar Alex Rúnarsson",
          "Sadio Mané",
          "Sam Field",
          "Sam Johnstone",
          "Sander Berge",
          "Saïd Benrahma",
          "Scott Carson",
          "Scott Dann",
          "Scott McTominay",
          "Sead Kolašinac",
          "Sean Longstaff",
          "Semi Ajayi",
          "Serge Aurier",
          "Sergio Agüero",
          "Sergio Reguilón",
          "Shane Long",
          "Shkodran Mustafi",
          "Shola Shoretire",
          "Sidnei Tavares",
          "Solly March",
          "Son Heung-min",
          "Steven Alzate",
          "Steven Bergwijn",
          "Stuart Armstrong",
          "Stuart Dallas",
          "Séamus Coleman",
          "Sébastien Haller",
          "Takumi Minamino",
          "Tammy Abraham",
          "Tanguy Ndombele",
          "Tariq Lamptey",
          "Terence Kongolo",
          "Theo Corbeanu",
          "Theo Walcott",
          "Thiago Alcántara",
          "Thiago Silva",
          "Thomas Partey",
          "Tim Ream",
          "Timo Werner",
          "Timothy Castagne",
          "Timothy Fosu-Mensah",
          "Toby Alderweireld",
          "Tom Cairney",
          "Tom Davies",
          "Tomáš Souček",
          "Tosin Adarabioyo",
          "Trent Alexander-Arnold",
          "Trézéguet",
          "Tyler Roberts",
          "Tyrese Francois",
          "Tyrick Mitchell",
          "Tyrone Mings",
          "Vicente Guaita",
          "Victor Lindelöf",
          "Virgil van Dijk",
          "Vitinha",
          "Vladimír Coufal",
          "Wes Morgan",
          "Wesley Fofana",
          "Wesley Moraes",
          "Wilfred Ndidi",
          "Wilfried Zaha",
          "Will Norris",
          "William Smallbone",
          "William Thomas Fish",
          "Willian",
          "Willian José",
          "Willy Boly",
          "Willy Caballero",
          "Xherdan Shaqiri",
          "Yan Valery",
          "Yerry Mina",
          "Youri Tielemans",
          "Yves Bissouma",
          "Zack Steffen",
          "Çağlar Söyüncü",
          "Érik Lamela",
          "İlkay Gündoğan",
          "Łukasz Fabiański"
         ],
         "name": "",
         "parents": [
          "",
          "",
          "",
          "",
          "",
          "",
          "",
          "",
          "",
          "",
          "",
          "",
          "",
          "",
          "",
          "",
          "",
          "",
          "",
          "",
          "",
          "",
          "",
          "",
          "",
          "",
          "",
          "",
          "",
          "",
          "",
          "",
          "",
          "",
          "",
          "",
          "",
          "",
          "",
          "",
          "",
          "",
          "",
          "",
          "",
          "",
          "",
          "",
          "",
          "",
          "",
          "",
          "",
          "",
          "",
          "",
          "",
          "",
          "",
          "",
          "",
          "",
          "",
          "",
          "",
          "",
          "",
          "",
          "",
          "",
          "",
          "",
          "",
          "",
          "",
          "",
          "",
          "",
          "",
          "",
          "",
          "",
          "",
          "",
          "",
          "",
          "",
          "",
          "",
          "",
          "",
          "",
          "",
          "",
          "",
          "",
          "",
          "",
          "",
          "",
          "",
          "",
          "",
          "",
          "",
          "",
          "",
          "",
          "",
          "",
          "",
          "",
          "",
          "",
          "",
          "",
          "",
          "",
          "",
          "",
          "",
          "",
          "",
          "",
          "",
          "",
          "",
          "",
          "",
          "",
          "",
          "",
          "",
          "",
          "",
          "",
          "",
          "",
          "",
          "",
          "",
          "",
          "",
          "",
          "",
          "",
          "",
          "",
          "",
          "",
          "",
          "",
          "",
          "",
          "",
          "",
          "",
          "",
          "",
          "",
          "",
          "",
          "",
          "",
          "",
          "",
          "",
          "",
          "",
          "",
          "",
          "",
          "",
          "",
          "",
          "",
          "",
          "",
          "",
          "",
          "",
          "",
          "",
          "",
          "",
          "",
          "",
          "",
          "",
          "",
          "",
          "",
          "",
          "",
          "",
          "",
          "",
          "",
          "",
          "",
          "",
          "",
          "",
          "",
          "",
          "",
          "",
          "",
          "",
          "",
          "",
          "",
          "",
          "",
          "",
          "",
          "",
          "",
          "",
          "",
          "",
          "",
          "",
          "",
          "",
          "",
          "",
          "",
          "",
          "",
          "",
          "",
          "",
          "",
          "",
          "",
          "",
          "",
          "",
          "",
          "",
          "",
          "",
          "",
          "",
          "",
          "",
          "",
          "",
          "",
          "",
          "",
          "",
          "",
          "",
          "",
          "",
          "",
          "",
          "",
          "",
          "",
          "",
          "",
          "",
          "",
          "",
          "",
          "",
          "",
          "",
          "",
          "",
          "",
          "",
          "",
          "",
          "",
          "",
          "",
          "",
          "",
          "",
          "",
          "",
          "",
          "",
          "",
          "",
          "",
          "",
          "",
          "",
          "",
          "",
          "",
          "",
          "",
          "",
          "",
          "",
          "",
          "",
          "",
          "",
          "",
          "",
          "",
          "",
          "",
          "",
          "",
          "",
          "",
          "",
          "",
          "",
          "",
          "",
          "",
          "",
          "",
          "",
          "",
          "",
          "",
          "",
          "",
          "",
          "",
          "",
          "",
          "",
          "",
          "",
          "",
          "",
          "",
          "",
          "",
          "",
          "",
          "",
          "",
          "",
          "",
          "",
          "",
          "",
          "",
          "",
          "",
          "",
          "",
          "",
          "",
          "",
          "",
          "",
          "",
          "",
          "",
          "",
          "",
          "",
          "",
          "",
          "",
          "",
          "",
          "",
          "",
          "",
          "",
          "",
          "",
          "",
          "",
          "",
          "",
          "",
          "",
          "",
          "",
          "",
          "",
          "",
          "",
          "",
          "",
          "",
          "",
          "",
          "",
          "",
          "",
          "",
          "",
          "",
          "",
          "",
          "",
          "",
          "",
          "",
          "",
          "",
          "",
          "",
          "",
          "",
          "",
          "",
          "",
          "",
          "",
          "",
          "",
          "",
          "",
          "",
          "",
          "",
          "",
          "",
          "",
          "",
          "",
          "",
          "",
          "",
          "",
          "",
          "",
          "",
          "",
          "",
          "",
          "",
          "",
          "",
          "",
          "",
          "",
          "",
          "",
          "",
          "",
          "",
          "",
          "",
          "",
          "",
          "",
          "",
          "",
          "",
          "",
          "",
          "",
          "",
          "",
          "",
          "",
          "",
          "",
          "",
          "",
          "",
          "",
          "",
          "",
          "",
          "",
          "",
          "",
          "",
          "",
          "",
          "",
          "",
          "",
          "",
          "",
          "",
          "",
          "",
          "",
          "",
          "",
          "",
          "",
          "",
          "",
          "",
          "",
          "",
          "",
          "",
          "",
          "",
          "",
          "",
          "",
          "",
          "",
          "",
          "",
          "",
          "",
          "",
          "",
          "",
          "",
          "",
          "",
          "",
          "",
          "",
          "",
          "",
          "",
          "",
          ""
         ],
         "type": "treemap",
         "values": [
          78,
          1540,
          560,
          1775,
          1145,
          92,
          792,
          1483,
          579,
          879,
          76,
          463,
          37,
          533,
          291,
          529,
          687,
          104,
          458,
          2,
          409,
          323,
          196,
          968,
          899,
          347,
          0,
          736,
          54,
          19,
          1197,
          1010,
          2567,
          124,
          586,
          749,
          88,
          810,
          42,
          21,
          404,
          981,
          1338,
          1,
          432,
          442,
          194,
          1566,
          235,
          1160,
          382,
          57,
          1419,
          609,
          1101,
          153,
          784,
          662,
          1469,
          531,
          215,
          62,
          1280,
          922,
          566,
          191,
          85,
          612,
          119,
          264,
          1703,
          865,
          7,
          541,
          319,
          255,
          461,
          51,
          24,
          5,
          90,
          8,
          24,
          907,
          443,
          958,
          899,
          440,
          366,
          478,
          552,
          620,
          1576,
          742,
          115,
          880,
          592,
          890,
          350,
          1763,
          103,
          952,
          22,
          0,
          1112,
          399,
          237,
          24,
          478,
          344,
          218,
          565,
          700,
          35,
          15,
          806,
          698,
          457,
          849,
          72,
          110,
          236,
          1298,
          269,
          6,
          152,
          247,
          567,
          326,
          46,
          479,
          234,
          1213,
          90,
          920,
          918,
          72,
          905,
          269,
          851,
          1,
          51,
          403,
          634,
          849,
          1105,
          493,
          1399,
          321,
          433,
          856,
          1305,
          1076,
          205,
          452,
          1866,
          66,
          357,
          671,
          4,
          0,
          878,
          305,
          359,
          26,
          308,
          153,
          1554,
          226,
          1283,
          637,
          45,
          283,
          589,
          910,
          1629,
          464,
          255,
          1945,
          749,
          548,
          63,
          190,
          3,
          1261,
          656,
          1903,
          554,
          468,
          762,
          1079,
          242,
          85,
          500,
          3,
          1090,
          628,
          7,
          475,
          599,
          6,
          412,
          863,
          787,
          59,
          353,
          845,
          415,
          188,
          2,
          283,
          19,
          199,
          486,
          634,
          988,
          862,
          626,
          253,
          775,
          878,
          840,
          129,
          2116,
          181,
          300,
          1696,
          1443,
          193,
          499,
          296,
          208,
          299,
          0,
          533,
          6,
          31,
          429,
          304,
          543,
          103,
          1528,
          294,
          479,
          364,
          248,
          4,
          784,
          436,
          925,
          946,
          843,
          1080,
          19,
          1615,
          1045,
          46,
          188,
          1543,
          514,
          1572,
          761,
          1556,
          61,
          937,
          156,
          149,
          33,
          8,
          1794,
          1540,
          8,
          465,
          1152,
          246,
          355,
          658,
          1210,
          31,
          363,
          166,
          885,
          17,
          322,
          57,
          399,
          642,
          198,
          1068,
          181,
          7,
          260,
          223,
          1135,
          81,
          168,
          6,
          1580,
          630,
          29,
          1695,
          1295,
          1021,
          812,
          48,
          15,
          1935,
          0,
          1363,
          4,
          1225,
          448,
          1029,
          2110,
          1644,
          359,
          40,
          71,
          327,
          635,
          483,
          994,
          36,
          733,
          374,
          310,
          2,
          450,
          125,
          233,
          608,
          945,
          1548,
          1580,
          1185,
          765,
          375,
          665,
          392,
          410,
          1653,
          117,
          1030,
          959,
          193,
          647,
          144,
          77,
          161,
          138,
          1631,
          13,
          325,
          117,
          711,
          936,
          1071,
          309,
          7,
          190,
          122,
          295,
          666,
          1302,
          311,
          882,
          702,
          2,
          563,
          107,
          436,
          922,
          507,
          155,
          33,
          9,
          882,
          16,
          496,
          510,
          26,
          1540,
          1,
          440,
          1329,
          1330,
          184,
          267,
          1180,
          161,
          605,
          1041,
          13,
          44,
          501,
          851,
          290,
          536,
          1260,
          1096,
          386,
          4,
          889,
          410,
          1112,
          955,
          22,
          115,
          687,
          141,
          2388,
          518,
          962,
          705,
          657,
          206,
          0,
          1688,
          17,
          13,
          155,
          414,
          411,
          534,
          914,
          1578,
          266,
          107,
          784,
          1042,
          647,
          142,
          2496,
          432,
          1157,
          605,
          639,
          605,
          534,
          1180,
          243,
          203,
          2500,
          1632,
          82,
          6,
          802,
          14,
          639,
          380,
          411,
          15,
          507,
          1108,
          54,
          451,
          705,
          768,
          142,
          1075,
          37,
          40,
          6,
          19,
          680,
          919,
          399,
          347,
          1002,
          1813,
          624,
          171,
          297,
          148,
          993,
          390,
          37,
          3,
          307,
          1498,
          1749,
          966,
          395,
          637,
          1267,
          65,
          1143,
          550,
          573,
          1183,
          1594,
          2214,
          227,
          337,
          13,
          546,
          1261,
          598,
          1639,
          296,
          288,
          1199,
          5,
          1474,
          4,
          1200,
          591,
          26,
          64,
          0,
          624,
          249,
          830,
          23,
          356,
          52,
          1115,
          2011,
          1461,
          22,
          1202,
          288,
          1553,
          606
         ]
        }
       ],
       "layout": {
        "height": 500,
        "legend": {
         "tracegroupgap": 0
        },
        "margin": {
         "b": 25,
         "l": 25,
         "r": 25,
         "t": 50
        },
        "template": {
         "data": {
          "bar": [
           {
            "error_x": {
             "color": "#2a3f5f"
            },
            "error_y": {
             "color": "#2a3f5f"
            },
            "marker": {
             "line": {
              "color": "#E5ECF6",
              "width": 0.5
             },
             "pattern": {
              "fillmode": "overlay",
              "size": 10,
              "solidity": 0.2
             }
            },
            "type": "bar"
           }
          ],
          "barpolar": [
           {
            "marker": {
             "line": {
              "color": "#E5ECF6",
              "width": 0.5
             },
             "pattern": {
              "fillmode": "overlay",
              "size": 10,
              "solidity": 0.2
             }
            },
            "type": "barpolar"
           }
          ],
          "carpet": [
           {
            "aaxis": {
             "endlinecolor": "#2a3f5f",
             "gridcolor": "white",
             "linecolor": "white",
             "minorgridcolor": "white",
             "startlinecolor": "#2a3f5f"
            },
            "baxis": {
             "endlinecolor": "#2a3f5f",
             "gridcolor": "white",
             "linecolor": "white",
             "minorgridcolor": "white",
             "startlinecolor": "#2a3f5f"
            },
            "type": "carpet"
           }
          ],
          "choropleth": [
           {
            "colorbar": {
             "outlinewidth": 0,
             "ticks": ""
            },
            "type": "choropleth"
           }
          ],
          "contour": [
           {
            "colorbar": {
             "outlinewidth": 0,
             "ticks": ""
            },
            "colorscale": [
             [
              0,
              "#0d0887"
             ],
             [
              0.1111111111111111,
              "#46039f"
             ],
             [
              0.2222222222222222,
              "#7201a8"
             ],
             [
              0.3333333333333333,
              "#9c179e"
             ],
             [
              0.4444444444444444,
              "#bd3786"
             ],
             [
              0.5555555555555556,
              "#d8576b"
             ],
             [
              0.6666666666666666,
              "#ed7953"
             ],
             [
              0.7777777777777778,
              "#fb9f3a"
             ],
             [
              0.8888888888888888,
              "#fdca26"
             ],
             [
              1,
              "#f0f921"
             ]
            ],
            "type": "contour"
           }
          ],
          "contourcarpet": [
           {
            "colorbar": {
             "outlinewidth": 0,
             "ticks": ""
            },
            "type": "contourcarpet"
           }
          ],
          "heatmap": [
           {
            "colorbar": {
             "outlinewidth": 0,
             "ticks": ""
            },
            "colorscale": [
             [
              0,
              "#0d0887"
             ],
             [
              0.1111111111111111,
              "#46039f"
             ],
             [
              0.2222222222222222,
              "#7201a8"
             ],
             [
              0.3333333333333333,
              "#9c179e"
             ],
             [
              0.4444444444444444,
              "#bd3786"
             ],
             [
              0.5555555555555556,
              "#d8576b"
             ],
             [
              0.6666666666666666,
              "#ed7953"
             ],
             [
              0.7777777777777778,
              "#fb9f3a"
             ],
             [
              0.8888888888888888,
              "#fdca26"
             ],
             [
              1,
              "#f0f921"
             ]
            ],
            "type": "heatmap"
           }
          ],
          "heatmapgl": [
           {
            "colorbar": {
             "outlinewidth": 0,
             "ticks": ""
            },
            "colorscale": [
             [
              0,
              "#0d0887"
             ],
             [
              0.1111111111111111,
              "#46039f"
             ],
             [
              0.2222222222222222,
              "#7201a8"
             ],
             [
              0.3333333333333333,
              "#9c179e"
             ],
             [
              0.4444444444444444,
              "#bd3786"
             ],
             [
              0.5555555555555556,
              "#d8576b"
             ],
             [
              0.6666666666666666,
              "#ed7953"
             ],
             [
              0.7777777777777778,
              "#fb9f3a"
             ],
             [
              0.8888888888888888,
              "#fdca26"
             ],
             [
              1,
              "#f0f921"
             ]
            ],
            "type": "heatmapgl"
           }
          ],
          "histogram": [
           {
            "marker": {
             "pattern": {
              "fillmode": "overlay",
              "size": 10,
              "solidity": 0.2
             }
            },
            "type": "histogram"
           }
          ],
          "histogram2d": [
           {
            "colorbar": {
             "outlinewidth": 0,
             "ticks": ""
            },
            "colorscale": [
             [
              0,
              "#0d0887"
             ],
             [
              0.1111111111111111,
              "#46039f"
             ],
             [
              0.2222222222222222,
              "#7201a8"
             ],
             [
              0.3333333333333333,
              "#9c179e"
             ],
             [
              0.4444444444444444,
              "#bd3786"
             ],
             [
              0.5555555555555556,
              "#d8576b"
             ],
             [
              0.6666666666666666,
              "#ed7953"
             ],
             [
              0.7777777777777778,
              "#fb9f3a"
             ],
             [
              0.8888888888888888,
              "#fdca26"
             ],
             [
              1,
              "#f0f921"
             ]
            ],
            "type": "histogram2d"
           }
          ],
          "histogram2dcontour": [
           {
            "colorbar": {
             "outlinewidth": 0,
             "ticks": ""
            },
            "colorscale": [
             [
              0,
              "#0d0887"
             ],
             [
              0.1111111111111111,
              "#46039f"
             ],
             [
              0.2222222222222222,
              "#7201a8"
             ],
             [
              0.3333333333333333,
              "#9c179e"
             ],
             [
              0.4444444444444444,
              "#bd3786"
             ],
             [
              0.5555555555555556,
              "#d8576b"
             ],
             [
              0.6666666666666666,
              "#ed7953"
             ],
             [
              0.7777777777777778,
              "#fb9f3a"
             ],
             [
              0.8888888888888888,
              "#fdca26"
             ],
             [
              1,
              "#f0f921"
             ]
            ],
            "type": "histogram2dcontour"
           }
          ],
          "mesh3d": [
           {
            "colorbar": {
             "outlinewidth": 0,
             "ticks": ""
            },
            "type": "mesh3d"
           }
          ],
          "parcoords": [
           {
            "line": {
             "colorbar": {
              "outlinewidth": 0,
              "ticks": ""
             }
            },
            "type": "parcoords"
           }
          ],
          "pie": [
           {
            "automargin": true,
            "type": "pie"
           }
          ],
          "scatter": [
           {
            "fillpattern": {
             "fillmode": "overlay",
             "size": 10,
             "solidity": 0.2
            },
            "type": "scatter"
           }
          ],
          "scatter3d": [
           {
            "line": {
             "colorbar": {
              "outlinewidth": 0,
              "ticks": ""
             }
            },
            "marker": {
             "colorbar": {
              "outlinewidth": 0,
              "ticks": ""
             }
            },
            "type": "scatter3d"
           }
          ],
          "scattercarpet": [
           {
            "marker": {
             "colorbar": {
              "outlinewidth": 0,
              "ticks": ""
             }
            },
            "type": "scattercarpet"
           }
          ],
          "scattergeo": [
           {
            "marker": {
             "colorbar": {
              "outlinewidth": 0,
              "ticks": ""
             }
            },
            "type": "scattergeo"
           }
          ],
          "scattergl": [
           {
            "marker": {
             "colorbar": {
              "outlinewidth": 0,
              "ticks": ""
             }
            },
            "type": "scattergl"
           }
          ],
          "scattermapbox": [
           {
            "marker": {
             "colorbar": {
              "outlinewidth": 0,
              "ticks": ""
             }
            },
            "type": "scattermapbox"
           }
          ],
          "scatterpolar": [
           {
            "marker": {
             "colorbar": {
              "outlinewidth": 0,
              "ticks": ""
             }
            },
            "type": "scatterpolar"
           }
          ],
          "scatterpolargl": [
           {
            "marker": {
             "colorbar": {
              "outlinewidth": 0,
              "ticks": ""
             }
            },
            "type": "scatterpolargl"
           }
          ],
          "scatterternary": [
           {
            "marker": {
             "colorbar": {
              "outlinewidth": 0,
              "ticks": ""
             }
            },
            "type": "scatterternary"
           }
          ],
          "surface": [
           {
            "colorbar": {
             "outlinewidth": 0,
             "ticks": ""
            },
            "colorscale": [
             [
              0,
              "#0d0887"
             ],
             [
              0.1111111111111111,
              "#46039f"
             ],
             [
              0.2222222222222222,
              "#7201a8"
             ],
             [
              0.3333333333333333,
              "#9c179e"
             ],
             [
              0.4444444444444444,
              "#bd3786"
             ],
             [
              0.5555555555555556,
              "#d8576b"
             ],
             [
              0.6666666666666666,
              "#ed7953"
             ],
             [
              0.7777777777777778,
              "#fb9f3a"
             ],
             [
              0.8888888888888888,
              "#fdca26"
             ],
             [
              1,
              "#f0f921"
             ]
            ],
            "type": "surface"
           }
          ],
          "table": [
           {
            "cells": {
             "fill": {
              "color": "#EBF0F8"
             },
             "line": {
              "color": "white"
             }
            },
            "header": {
             "fill": {
              "color": "#C8D4E3"
             },
             "line": {
              "color": "white"
             }
            },
            "type": "table"
           }
          ]
         },
         "layout": {
          "annotationdefaults": {
           "arrowcolor": "#2a3f5f",
           "arrowhead": 0,
           "arrowwidth": 1
          },
          "autotypenumbers": "strict",
          "coloraxis": {
           "colorbar": {
            "outlinewidth": 0,
            "ticks": ""
           }
          },
          "colorscale": {
           "diverging": [
            [
             0,
             "#8e0152"
            ],
            [
             0.1,
             "#c51b7d"
            ],
            [
             0.2,
             "#de77ae"
            ],
            [
             0.3,
             "#f1b6da"
            ],
            [
             0.4,
             "#fde0ef"
            ],
            [
             0.5,
             "#f7f7f7"
            ],
            [
             0.6,
             "#e6f5d0"
            ],
            [
             0.7,
             "#b8e186"
            ],
            [
             0.8,
             "#7fbc41"
            ],
            [
             0.9,
             "#4d9221"
            ],
            [
             1,
             "#276419"
            ]
           ],
           "sequential": [
            [
             0,
             "#0d0887"
            ],
            [
             0.1111111111111111,
             "#46039f"
            ],
            [
             0.2222222222222222,
             "#7201a8"
            ],
            [
             0.3333333333333333,
             "#9c179e"
            ],
            [
             0.4444444444444444,
             "#bd3786"
            ],
            [
             0.5555555555555556,
             "#d8576b"
            ],
            [
             0.6666666666666666,
             "#ed7953"
            ],
            [
             0.7777777777777778,
             "#fb9f3a"
            ],
            [
             0.8888888888888888,
             "#fdca26"
            ],
            [
             1,
             "#f0f921"
            ]
           ],
           "sequentialminus": [
            [
             0,
             "#0d0887"
            ],
            [
             0.1111111111111111,
             "#46039f"
            ],
            [
             0.2222222222222222,
             "#7201a8"
            ],
            [
             0.3333333333333333,
             "#9c179e"
            ],
            [
             0.4444444444444444,
             "#bd3786"
            ],
            [
             0.5555555555555556,
             "#d8576b"
            ],
            [
             0.6666666666666666,
             "#ed7953"
            ],
            [
             0.7777777777777778,
             "#fb9f3a"
            ],
            [
             0.8888888888888888,
             "#fdca26"
            ],
            [
             1,
             "#f0f921"
            ]
           ]
          },
          "colorway": [
           "#636efa",
           "#EF553B",
           "#00cc96",
           "#ab63fa",
           "#FFA15A",
           "#19d3f3",
           "#FF6692",
           "#B6E880",
           "#FF97FF",
           "#FECB52"
          ],
          "font": {
           "color": "#2a3f5f"
          },
          "geo": {
           "bgcolor": "white",
           "lakecolor": "white",
           "landcolor": "#E5ECF6",
           "showlakes": true,
           "showland": true,
           "subunitcolor": "white"
          },
          "hoverlabel": {
           "align": "left"
          },
          "hovermode": "closest",
          "mapbox": {
           "style": "light"
          },
          "paper_bgcolor": "white",
          "plot_bgcolor": "#E5ECF6",
          "polar": {
           "angularaxis": {
            "gridcolor": "white",
            "linecolor": "white",
            "ticks": ""
           },
           "bgcolor": "#E5ECF6",
           "radialaxis": {
            "gridcolor": "white",
            "linecolor": "white",
            "ticks": ""
           }
          },
          "scene": {
           "xaxis": {
            "backgroundcolor": "#E5ECF6",
            "gridcolor": "white",
            "gridwidth": 2,
            "linecolor": "white",
            "showbackground": true,
            "ticks": "",
            "zerolinecolor": "white"
           },
           "yaxis": {
            "backgroundcolor": "#E5ECF6",
            "gridcolor": "white",
            "gridwidth": 2,
            "linecolor": "white",
            "showbackground": true,
            "ticks": "",
            "zerolinecolor": "white"
           },
           "zaxis": {
            "backgroundcolor": "#E5ECF6",
            "gridcolor": "white",
            "gridwidth": 2,
            "linecolor": "white",
            "showbackground": true,
            "ticks": "",
            "zerolinecolor": "white"
           }
          },
          "shapedefaults": {
           "line": {
            "color": "#2a3f5f"
           }
          },
          "ternary": {
           "aaxis": {
            "gridcolor": "white",
            "linecolor": "white",
            "ticks": ""
           },
           "baxis": {
            "gridcolor": "white",
            "linecolor": "white",
            "ticks": ""
           },
           "bgcolor": "#E5ECF6",
           "caxis": {
            "gridcolor": "white",
            "linecolor": "white",
            "ticks": ""
           }
          },
          "title": {
           "x": 0.05
          },
          "xaxis": {
           "automargin": true,
           "gridcolor": "white",
           "linecolor": "white",
           "ticks": "",
           "title": {
            "standoff": 15
           },
           "zerolinecolor": "white",
           "zerolinewidth": 2
          },
          "yaxis": {
           "automargin": true,
           "gridcolor": "white",
           "linecolor": "white",
           "ticks": "",
           "title": {
            "standoff": 15
           },
           "zerolinecolor": "white",
           "zerolinewidth": 2
          }
         }
        },
        "title": {
         "text": "All Players Completed Passes"
        },
        "treemapcolorway": [
         "#fae588",
         "#f79d65",
         "#f9dc5c",
         "#e8ac65",
         "#e76f51",
         "#ef233c",
         "#b7094c"
        ],
        "width": 1000
       }
      },
      "text/html": [
       "<div>                            <div id=\"3283a769-5e42-4035-a4ac-7085ff201873\" class=\"plotly-graph-div\" style=\"height:500px; width:1000px;\"></div>            <script type=\"text/javascript\">                require([\"plotly\"], function(Plotly) {                    window.PLOTLYENV=window.PLOTLYENV || {};                                    if (document.getElementById(\"3283a769-5e42-4035-a4ac-7085ff201873\")) {                    Plotly.newPlot(                        \"3283a769-5e42-4035-a4ac-7085ff201873\",                        [{\"branchvalues\":\"total\",\"domain\":{\"x\":[0.0,1.0],\"y\":[0.0,1.0]},\"hovertemplate\":\"labels=%{label}<br>Passes_Completed=%{value}<br>parent=%{parent}<br>id=%{id}<extra></extra>\",\"ids\":[\"Aaron Connolly\",\"Aaron Cresswell\",\"Aaron Ramsdale\",\"Aaron Wan-Bissaka\",\"Abdoulaye Doucouré\",\"Aboubakar Kamara\",\"Adam Lallana\",\"Adam Webster\",\"Adama Traoré\",\"Ademola Lookman\",\"Adrián\",\"Ahmed Elmohamady\",\"Ahmed Hegazi\",\"Ainsley Maitland-Niles\",\"Aleksandar Mitrović\",\"Alex Iwobi\",\"Alex McCarthy\",\"Alex Oxlade-Chamberlain\",\"Alex Telles\",\"Alexandre Jankewitz\",\"Alexandre Lacazette\",\"Alexis Mac Allister\",\"Alireza Jahanbakhsh\",\"Alisson\",\"Allan\",\"Allan Saint-Maximin\",\"Allan Tchaptchet\",\"Alphonse Areola\",\"Amad Diallo\",\"Andi Zeqiri\",\"Andre-Frank Zambo Anguissa\",\"Andreas Christensen\",\"Andrew Robertson\",\"Andriy Yarmolenko\",\"Andros Townsend\",\"André Gomes\",\"Andy Carroll\",\"Angelo Ogbonna\",\"Anthony Elanga\",\"Anthony Gordon\",\"Anthony Martial\",\"Antonee Robinson\",\"Antonio Rüdiger\",\"Antwoine Hackford\",\"Anwar El Ghazi\",\"Arthur Masuaku\",\"Ashley Barnes\",\"Ashley Westwood\",\"Axel Tuanzebe\",\"Aymeric Laporte\",\"Ayoze Pérez\",\"Bailey Peacock-Farrell\",\"Ben Chilwell\",\"Ben Davies\",\"Ben Godfrey\",\"Ben Johnson\",\"Ben Mee\",\"Ben Osborn\",\"Ben White\",\"Benjamin Mendy\",\"Bernard\",\"Bernardo\",\"Bernardo Silva\",\"Bernd Leno\",\"Bertrand Traoré\",\"Billy Gilmour\",\"Billy Sharp\",\"Bobby Reid\",\"Brandon Williams\",\"Branislav Ivanović\",\"Bruno Fernandes\",\"Bukayo Saka\",\"Caleb Watts\",\"Callum Hudson-Odoi\",\"Callum Robinson\",\"Callum Wilson\",\"Calum Chambers\",\"Caoimhín Kelleher\",\"Carlos Vinícius\",\"Carney Chukwuemeka\",\"Cengiz Ünder\",\"Cenk Tosun\",\"Charlie Austin\",\"Charlie Taylor\",\"Che Adams\",\"Cheikhou Kouyaté\",\"Chris Basham\",\"Chris Wood\",\"Christian Benteke\",\"Christian Fuchs\",\"Christian Pulisic\",\"Ciaran Clark\",\"Conor Coady\",\"Conor Gallagher\",\"Conor Hourihane\",\"Conor Townsend\",\"Craig Dawson\",\"Curtis Jones\",\"Cédric Soares\",\"César Azpilicueta\",\"Dale Stephens\",\"Dan Burn\",\"Dan Nlundulu\",\"Dane Scarlett\",\"Dani Ceballos\",\"Daniel Amartey\",\"Daniel James\",\"Daniel Jebbison\",\"Daniel Podence\",\"Danny Ings\",\"Danny Welbeck\",\"Dara O'Shea\",\"Darnell Furlong\",\"Darren Randolph\",\"David Button\",\"David Luiz\",\"David McGoldrick\",\"David de Gea\",\"Davinson Sánchez\",\"Davy Pröpper\",\"DeAndre Yedlin\",\"Dean Henderson\",\"Declan Rice\",\"Dele Alli\",\"Demarai Gray\",\"Denis Odoi\",\"Dennis Praet\",\"Diego Llorente\",\"Diogo Jota\",\"Divock Origi\",\"Dominic Calvert-Lewin\",\"Donny van de Beek\",\"Douglas Luiz\",\"Dwight Gayle\",\"Dwight McNeil\",\"Eberechi Eze\",\"Eddie Nketiah\",\"Ederson\",\"Edinson Cavani\",\"Edouard Mendy\",\"Elliot Anderson\",\"Emerson Palmieri\",\"Emil Krafth\",\"Emile Smith-Rowe\",\"Emiliano Martínez\",\"Enda Stevens\",\"Eric Bailly\",\"Eric Dier\",\"Eric García\",\"Erik Pieters\",\"Ethan Ampadu\",\"Ezgjan Alioski\",\"Ezri Konsa\",\"Fabian Delph\",\"Fabian Schär\",\"Fabinho\",\"Fabio Carvalho\",\"Fabián Balbuena\",\"Federico Fernández\",\"Felipe Anderson\",\"Femi Seriki\",\"Fernandinho\",\"Fernando Marçal\",\"Ferrán Torres\",\"Fikayo Tomori\",\"Filip Krovinović\",\"Fraser Forster\",\"Fred\",\"Fábio Silva\",\"Gabriel Dos Santos\",\"Gabriel Jesus\",\"Gaetano Berardi\",\"Gareth Bale\",\"Gary Cahill\",\"George Baldock\",\"Georginio Wijnaldum\",\"Giovani Lo Celso\",\"Grady Diangana\",\"Granit Xhaka\",\"Gylfi Sigurðsson\",\"Hakim Ziyech\",\"Hal Robson-Kanu\",\"Hamza Choudhury\",\"Hannibal Mejbri\",\"Harrison Reed\",\"Harry Kane\",\"Harry Maguire\",\"Harry Winks\",\"Harvey Barnes\",\"Hugo Lloris\",\"Héctor Bellerín\",\"Hélder Costa\",\"Ian Carlo Poveda\",\"Ibrahima Diallo\",\"Iliman Ndiaye\",\"Illan Meslier\",\"Isaac Hayden\",\"Islam Slimani\",\"Issa Diop\",\"Ivan Cavaleiro\",\"Jack Butland\",\"Jack Cork\",\"Jack Grealish\",\"Jack Harrison\",\"Jack O'Connell\",\"Jack Robinson\",\"Jack Stephens\",\"Jacob Murphy\",\"Jacob Ramsey\",\"Jaden Philogene Bidace\",\"Jake Livermore\",\"Jake Vokins\",\"Jakub Moder\",\"Jamaal Lascelles\",\"Jamal Lewis\",\"James Justin\",\"James Maddison\",\"James McArthur\",\"James McCarthy\",\"James Milner\",\"James Rodríguez\",\"James Tarkowski\",\"James Tomkins\",\"James Ward-Prowse\",\"Jamie Shackleton\",\"Jamie Vardy\",\"Jan Bednarek\",\"Jannik Vestergaard\",\"Japhet Tanganga\",\"Jarrod Bowen\",\"Javier Manquillo\",\"Jay Rodriguez\",\"Jayden Bogle\",\"Jayson Molumby\",\"Jaïro Riedewald\",\"Jean-Philippe Gbamin\",\"Jean-Philippe Mateta\",\"Jeff Hendrick\",\"Jeffrey Schlupp\",\"Jesse Lingard\",\"Jimmy Dunne\",\"Joachim Andersen\",\"Joe Bryan\",\"Joe Gomez\",\"Joe Rodon\",\"Joe Willock\",\"Joel Mumbongo\",\"Joel Ward\",\"Joelinton\",\"John Egan\",\"John Fleck\",\"John Lundstram\",\"John McGinn\",\"John Ruddy\",\"John Stones\",\"Jonjo Shelvey\",\"Jonjoe Kenny\",\"Jonny Castro\",\"Jonny Evans\",\"Jordan Ayew\",\"Jordan Henderson\",\"Jordan Pickford\",\"Jorginho\",\"Josh Benson\",\"Josh Brownhill\",\"Josh Maja\",\"Josh Onomah\",\"Joshua King\",\"José Izquierdo\",\"João Cancelo\",\"João Moutinho\",\"João Virgínia\",\"Joël Matip\",\"Joël Veltman\",\"Juan Mata\",\"Jóhann Berg Guðmundsson\",\"Kai Havertz\",\"Kalvin Phillips\",\"Kamil Grosicki\",\"Karl Darlow\",\"Karlan Grant\",\"Kasper Schmeichel\",\"Kayne Ramsey\",\"Kean Bryan\",\"Keinan Davis\",\"Kelechi Iheanacho\",\"Kenny Tete\",\"Kepa Arrizabalaga\",\"Kevin De Bruyne\",\"Kevin Long\",\"Khanya Leshabela\",\"Ki-Jana Hoever\",\"Kieran Gibbs\",\"Kieran Tierney\",\"Kiko Casilla\",\"Kortney Hause\",\"Kostas Tsimikas\",\"Kurt Zouma\",\"Kyle Bartley\",\"Kyle Edwards\",\"Kyle Walker\",\"Kyle Walker-Peters\",\"Leander Dendoncker\",\"Leandro Trossard\",\"Lee Peltier\",\"Leif Davis\",\"Lewis Dunk\",\"Lewis Richardson\",\"Liam Cooper\",\"Liam Delap\",\"Lucas Digne\",\"Lucas Moura\",\"Luka Milivojević\",\"Luke Ayling\",\"Luke Shaw\",\"Luke Thomas\",\"Lys Mousset\",\"Mamadou Sakho\",\"Manuel Lanzini\",\"Marc Albrighton\",\"Marcos Alonso\",\"Marcus Rashford\",\"Marek Rodák\",\"Mario Lemina\",\"Mark Noble\",\"Martin Dúbravka\",\"Martin Kelly\",\"Martin Ødegaard\",\"Martinelli\",\"Marvelous Nakamba\",\"Mason Greenwood\",\"Mason Holgate\",\"Mason Mount\",\"Mateo Kovačić\",\"Mateusz Klich\",\"Matheus Pereira\",\"Mathew Ryan\",\"Matt Doherty\",\"Matt Phillips\",\"Matt Ritchie\",\"Matt Targett\",\"Matthew Longstaff\",\"Matthew Lowton\",\"Matty Cash\",\"Matěj Vydra\",\"Max Kilman\",\"Max Lowe\",\"Maxime Le Marchand\",\"Mbaye Diagne\",\"Michael Hector\",\"Michael Keane\",\"Michael Obafemi\",\"Michail Antonio\",\"Michy Batshuayi\",\"Miguel Almirón\",\"Mohamed Elneny\",\"Mohamed Salah\",\"Mohammed Salisu\",\"Moise Kean\",\"Morgan Gibbs-White\",\"Morgan Sanson\",\"Moussa Djenepo\",\"Moussa Sissoko\",\"N'Golo Kanté\",\"Naby Keïta\",\"Nampalys Mendy\",\"Nathan Aké\",\"Nathan Broadhead\",\"Nathan Redmond\",\"Nathan Tella\",\"Nathaniel Clyne\",\"Nathaniel Phillips\",\"Neal Maupay\",\"Neco Williams\",\"Neeskens Kebano\",\"Neil Taylor\",\"Nemanja Matić\",\"Niall Huggins\",\"Nick Pope\",\"Nicolas Pépé\",\"Niels Nkounkou\",\"Nélson Semedo\",\"Odion Ighalo\",\"Okay Yokuşlu\",\"Ola Aina\",\"Oleksandr Zinchenko\",\"Oliver Burke\",\"Oliver McBurnie\",\"Oliver Norwood\",\"Olivier Giroud\",\"Ollie Watkins\",\"Oriol Romeu\",\"Oskar Buur\",\"Owen Otasowie\",\"Ozan Kabak\",\"Pablo Fornals\",\"Pablo Hernández\",\"Pablo Marí\",\"Pascal Groß\",\"Pascal Struijk\",\"Patrick Bamford\",\"Patrick Cutrone\",\"Patrick van Aanholt\",\"Paul Dummett\",\"Paul Pogba\",\"Pedro Neto\",\"Percy Tau\",\"Phil Bardsley\",\"Phil Foden\",\"Phil Jagielka\",\"Pierre Højbjerg\",\"Pierre-Emerick Aubameyang\",\"Raheem Sterling\",\"Raphael Dias Belloli\",\"Rayan Aït Nouri\",\"Raúl Jiménez\",\"Reda Khadra\",\"Reece James\",\"Reiss Nelson\",\"Rekeem Harper\",\"Rhian Brewster\",\"Rhys Williams\",\"Ricardo Pereira\",\"Richarlison\",\"Riyad Mahrez\",\"Rob Holding\",\"Robbie Brady\",\"Robert Snodgrass\",\"Robert Sánchez\",\"Roberto Firmino\",\"Robin Koch\",\"Robin Olsen\",\"Rodri\",\"Rodrigo\",\"Romain Saïss\",\"Romaine Sawyers\",\"Ross Barkley\",\"Ruben Loftus-Cheek\",\"Rui Patrício\",\"Ryan Bertrand\",\"Ryan Fraser\",\"Ryan Fredericks\",\"Rúben Dias\",\"Rúben Neves\",\"Rúben Vinagre\",\"Rúnar Alex Rúnarsson\",\"Sadio Mané\",\"Sam Field\",\"Sam Johnstone\",\"Sander Berge\",\"Saïd Benrahma\",\"Scott Carson\",\"Scott Dann\",\"Scott McTominay\",\"Sead Kolašinac\",\"Sean Longstaff\",\"Semi Ajayi\",\"Serge Aurier\",\"Sergio Agüero\",\"Sergio Reguilón\",\"Shane Long\",\"Shkodran Mustafi\",\"Shola Shoretire\",\"Sidnei Tavares\",\"Solly March\",\"Son Heung-min\",\"Steven Alzate\",\"Steven Bergwijn\",\"Stuart Armstrong\",\"Stuart Dallas\",\"Séamus Coleman\",\"Sébastien Haller\",\"Takumi Minamino\",\"Tammy Abraham\",\"Tanguy Ndombele\",\"Tariq Lamptey\",\"Terence Kongolo\",\"Theo Corbeanu\",\"Theo Walcott\",\"Thiago Alcántara\",\"Thiago Silva\",\"Thomas Partey\",\"Tim Ream\",\"Timo Werner\",\"Timothy Castagne\",\"Timothy Fosu-Mensah\",\"Toby Alderweireld\",\"Tom Cairney\",\"Tom Davies\",\"Tomáš Souček\",\"Tosin Adarabioyo\",\"Trent Alexander-Arnold\",\"Trézéguet\",\"Tyler Roberts\",\"Tyrese Francois\",\"Tyrick Mitchell\",\"Tyrone Mings\",\"Vicente Guaita\",\"Victor Lindelöf\",\"Virgil van Dijk\",\"Vitinha\",\"Vladimír Coufal\",\"Wes Morgan\",\"Wesley Fofana\",\"Wesley Moraes\",\"Wilfred Ndidi\",\"Wilfried Zaha\",\"Will Norris\",\"William Smallbone\",\"William Thomas Fish\",\"Willian\",\"Willian José\",\"Willy Boly\",\"Willy Caballero\",\"Xherdan Shaqiri\",\"Yan Valery\",\"Yerry Mina\",\"Youri Tielemans\",\"Yves Bissouma\",\"Zack Steffen\",\"Çağlar Söyüncü\",\"Érik Lamela\",\"İlkay Gündoğan\",\"Łukasz Fabiański\"],\"labels\":[\"Aaron Connolly\",\"Aaron Cresswell\",\"Aaron Ramsdale\",\"Aaron Wan-Bissaka\",\"Abdoulaye Doucouré\",\"Aboubakar Kamara\",\"Adam Lallana\",\"Adam Webster\",\"Adama Traoré\",\"Ademola Lookman\",\"Adrián\",\"Ahmed Elmohamady\",\"Ahmed Hegazi\",\"Ainsley Maitland-Niles\",\"Aleksandar Mitrović\",\"Alex Iwobi\",\"Alex McCarthy\",\"Alex Oxlade-Chamberlain\",\"Alex Telles\",\"Alexandre Jankewitz\",\"Alexandre Lacazette\",\"Alexis Mac Allister\",\"Alireza Jahanbakhsh\",\"Alisson\",\"Allan\",\"Allan Saint-Maximin\",\"Allan Tchaptchet\",\"Alphonse Areola\",\"Amad Diallo\",\"Andi Zeqiri\",\"Andre-Frank Zambo Anguissa\",\"Andreas Christensen\",\"Andrew Robertson\",\"Andriy Yarmolenko\",\"Andros Townsend\",\"André Gomes\",\"Andy Carroll\",\"Angelo Ogbonna\",\"Anthony Elanga\",\"Anthony Gordon\",\"Anthony Martial\",\"Antonee Robinson\",\"Antonio Rüdiger\",\"Antwoine Hackford\",\"Anwar El Ghazi\",\"Arthur Masuaku\",\"Ashley Barnes\",\"Ashley Westwood\",\"Axel Tuanzebe\",\"Aymeric Laporte\",\"Ayoze Pérez\",\"Bailey Peacock-Farrell\",\"Ben Chilwell\",\"Ben Davies\",\"Ben Godfrey\",\"Ben Johnson\",\"Ben Mee\",\"Ben Osborn\",\"Ben White\",\"Benjamin Mendy\",\"Bernard\",\"Bernardo\",\"Bernardo Silva\",\"Bernd Leno\",\"Bertrand Traoré\",\"Billy Gilmour\",\"Billy Sharp\",\"Bobby Reid\",\"Brandon Williams\",\"Branislav Ivanović\",\"Bruno Fernandes\",\"Bukayo Saka\",\"Caleb Watts\",\"Callum Hudson-Odoi\",\"Callum Robinson\",\"Callum Wilson\",\"Calum Chambers\",\"Caoimhín Kelleher\",\"Carlos Vinícius\",\"Carney Chukwuemeka\",\"Cengiz Ünder\",\"Cenk Tosun\",\"Charlie Austin\",\"Charlie Taylor\",\"Che Adams\",\"Cheikhou Kouyaté\",\"Chris Basham\",\"Chris Wood\",\"Christian Benteke\",\"Christian Fuchs\",\"Christian Pulisic\",\"Ciaran Clark\",\"Conor Coady\",\"Conor Gallagher\",\"Conor Hourihane\",\"Conor Townsend\",\"Craig Dawson\",\"Curtis Jones\",\"Cédric Soares\",\"César Azpilicueta\",\"Dale Stephens\",\"Dan Burn\",\"Dan Nlundulu\",\"Dane Scarlett\",\"Dani Ceballos\",\"Daniel Amartey\",\"Daniel James\",\"Daniel Jebbison\",\"Daniel Podence\",\"Danny Ings\",\"Danny Welbeck\",\"Dara O'Shea\",\"Darnell Furlong\",\"Darren Randolph\",\"David Button\",\"David Luiz\",\"David McGoldrick\",\"David de Gea\",\"Davinson Sánchez\",\"Davy Pröpper\",\"DeAndre Yedlin\",\"Dean Henderson\",\"Declan Rice\",\"Dele Alli\",\"Demarai Gray\",\"Denis Odoi\",\"Dennis Praet\",\"Diego Llorente\",\"Diogo Jota\",\"Divock Origi\",\"Dominic Calvert-Lewin\",\"Donny van de Beek\",\"Douglas Luiz\",\"Dwight Gayle\",\"Dwight McNeil\",\"Eberechi Eze\",\"Eddie Nketiah\",\"Ederson\",\"Edinson Cavani\",\"Edouard Mendy\",\"Elliot Anderson\",\"Emerson Palmieri\",\"Emil Krafth\",\"Emile Smith-Rowe\",\"Emiliano Martínez\",\"Enda Stevens\",\"Eric Bailly\",\"Eric Dier\",\"Eric García\",\"Erik Pieters\",\"Ethan Ampadu\",\"Ezgjan Alioski\",\"Ezri Konsa\",\"Fabian Delph\",\"Fabian Schär\",\"Fabinho\",\"Fabio Carvalho\",\"Fabián Balbuena\",\"Federico Fernández\",\"Felipe Anderson\",\"Femi Seriki\",\"Fernandinho\",\"Fernando Marçal\",\"Ferrán Torres\",\"Fikayo Tomori\",\"Filip Krovinović\",\"Fraser Forster\",\"Fred\",\"Fábio Silva\",\"Gabriel Dos Santos\",\"Gabriel Jesus\",\"Gaetano Berardi\",\"Gareth Bale\",\"Gary Cahill\",\"George Baldock\",\"Georginio Wijnaldum\",\"Giovani Lo Celso\",\"Grady Diangana\",\"Granit Xhaka\",\"Gylfi Sigurðsson\",\"Hakim Ziyech\",\"Hal Robson-Kanu\",\"Hamza Choudhury\",\"Hannibal Mejbri\",\"Harrison Reed\",\"Harry Kane\",\"Harry Maguire\",\"Harry Winks\",\"Harvey Barnes\",\"Hugo Lloris\",\"Héctor Bellerín\",\"Hélder Costa\",\"Ian Carlo Poveda\",\"Ibrahima Diallo\",\"Iliman Ndiaye\",\"Illan Meslier\",\"Isaac Hayden\",\"Islam Slimani\",\"Issa Diop\",\"Ivan Cavaleiro\",\"Jack Butland\",\"Jack Cork\",\"Jack Grealish\",\"Jack Harrison\",\"Jack O'Connell\",\"Jack Robinson\",\"Jack Stephens\",\"Jacob Murphy\",\"Jacob Ramsey\",\"Jaden Philogene Bidace\",\"Jake Livermore\",\"Jake Vokins\",\"Jakub Moder\",\"Jamaal Lascelles\",\"Jamal Lewis\",\"James Justin\",\"James Maddison\",\"James McArthur\",\"James McCarthy\",\"James Milner\",\"James Rodríguez\",\"James Tarkowski\",\"James Tomkins\",\"James Ward-Prowse\",\"Jamie Shackleton\",\"Jamie Vardy\",\"Jan Bednarek\",\"Jannik Vestergaard\",\"Japhet Tanganga\",\"Jarrod Bowen\",\"Javier Manquillo\",\"Jay Rodriguez\",\"Jayden Bogle\",\"Jayson Molumby\",\"Jaïro Riedewald\",\"Jean-Philippe Gbamin\",\"Jean-Philippe Mateta\",\"Jeff Hendrick\",\"Jeffrey Schlupp\",\"Jesse Lingard\",\"Jimmy Dunne\",\"Joachim Andersen\",\"Joe Bryan\",\"Joe Gomez\",\"Joe Rodon\",\"Joe Willock\",\"Joel Mumbongo\",\"Joel Ward\",\"Joelinton\",\"John Egan\",\"John Fleck\",\"John Lundstram\",\"John McGinn\",\"John Ruddy\",\"John Stones\",\"Jonjo Shelvey\",\"Jonjoe Kenny\",\"Jonny Castro\",\"Jonny Evans\",\"Jordan Ayew\",\"Jordan Henderson\",\"Jordan Pickford\",\"Jorginho\",\"Josh Benson\",\"Josh Brownhill\",\"Josh Maja\",\"Josh Onomah\",\"Joshua King\",\"José Izquierdo\",\"João Cancelo\",\"João Moutinho\",\"João Virgínia\",\"Joël Matip\",\"Joël Veltman\",\"Juan Mata\",\"Jóhann Berg Guðmundsson\",\"Kai Havertz\",\"Kalvin Phillips\",\"Kamil Grosicki\",\"Karl Darlow\",\"Karlan Grant\",\"Kasper Schmeichel\",\"Kayne Ramsey\",\"Kean Bryan\",\"Keinan Davis\",\"Kelechi Iheanacho\",\"Kenny Tete\",\"Kepa Arrizabalaga\",\"Kevin De Bruyne\",\"Kevin Long\",\"Khanya Leshabela\",\"Ki-Jana Hoever\",\"Kieran Gibbs\",\"Kieran Tierney\",\"Kiko Casilla\",\"Kortney Hause\",\"Kostas Tsimikas\",\"Kurt Zouma\",\"Kyle Bartley\",\"Kyle Edwards\",\"Kyle Walker\",\"Kyle Walker-Peters\",\"Leander Dendoncker\",\"Leandro Trossard\",\"Lee Peltier\",\"Leif Davis\",\"Lewis Dunk\",\"Lewis Richardson\",\"Liam Cooper\",\"Liam Delap\",\"Lucas Digne\",\"Lucas Moura\",\"Luka Milivojević\",\"Luke Ayling\",\"Luke Shaw\",\"Luke Thomas\",\"Lys Mousset\",\"Mamadou Sakho\",\"Manuel Lanzini\",\"Marc Albrighton\",\"Marcos Alonso\",\"Marcus Rashford\",\"Marek Rodák\",\"Mario Lemina\",\"Mark Noble\",\"Martin Dúbravka\",\"Martin Kelly\",\"Martin Ødegaard\",\"Martinelli\",\"Marvelous Nakamba\",\"Mason Greenwood\",\"Mason Holgate\",\"Mason Mount\",\"Mateo Kovačić\",\"Mateusz Klich\",\"Matheus Pereira\",\"Mathew Ryan\",\"Matt Doherty\",\"Matt Phillips\",\"Matt Ritchie\",\"Matt Targett\",\"Matthew Longstaff\",\"Matthew Lowton\",\"Matty Cash\",\"Matěj Vydra\",\"Max Kilman\",\"Max Lowe\",\"Maxime Le Marchand\",\"Mbaye Diagne\",\"Michael Hector\",\"Michael Keane\",\"Michael Obafemi\",\"Michail Antonio\",\"Michy Batshuayi\",\"Miguel Almirón\",\"Mohamed Elneny\",\"Mohamed Salah\",\"Mohammed Salisu\",\"Moise Kean\",\"Morgan Gibbs-White\",\"Morgan Sanson\",\"Moussa Djenepo\",\"Moussa Sissoko\",\"N'Golo Kanté\",\"Naby Keïta\",\"Nampalys Mendy\",\"Nathan Aké\",\"Nathan Broadhead\",\"Nathan Redmond\",\"Nathan Tella\",\"Nathaniel Clyne\",\"Nathaniel Phillips\",\"Neal Maupay\",\"Neco Williams\",\"Neeskens Kebano\",\"Neil Taylor\",\"Nemanja Matić\",\"Niall Huggins\",\"Nick Pope\",\"Nicolas Pépé\",\"Niels Nkounkou\",\"Nélson Semedo\",\"Odion Ighalo\",\"Okay Yokuşlu\",\"Ola Aina\",\"Oleksandr Zinchenko\",\"Oliver Burke\",\"Oliver McBurnie\",\"Oliver Norwood\",\"Olivier Giroud\",\"Ollie Watkins\",\"Oriol Romeu\",\"Oskar Buur\",\"Owen Otasowie\",\"Ozan Kabak\",\"Pablo Fornals\",\"Pablo Hernández\",\"Pablo Marí\",\"Pascal Groß\",\"Pascal Struijk\",\"Patrick Bamford\",\"Patrick Cutrone\",\"Patrick van Aanholt\",\"Paul Dummett\",\"Paul Pogba\",\"Pedro Neto\",\"Percy Tau\",\"Phil Bardsley\",\"Phil Foden\",\"Phil Jagielka\",\"Pierre Højbjerg\",\"Pierre-Emerick Aubameyang\",\"Raheem Sterling\",\"Raphael Dias Belloli\",\"Rayan Aït Nouri\",\"Raúl Jiménez\",\"Reda Khadra\",\"Reece James\",\"Reiss Nelson\",\"Rekeem Harper\",\"Rhian Brewster\",\"Rhys Williams\",\"Ricardo Pereira\",\"Richarlison\",\"Riyad Mahrez\",\"Rob Holding\",\"Robbie Brady\",\"Robert Snodgrass\",\"Robert Sánchez\",\"Roberto Firmino\",\"Robin Koch\",\"Robin Olsen\",\"Rodri\",\"Rodrigo\",\"Romain Saïss\",\"Romaine Sawyers\",\"Ross Barkley\",\"Ruben Loftus-Cheek\",\"Rui Patrício\",\"Ryan Bertrand\",\"Ryan Fraser\",\"Ryan Fredericks\",\"Rúben Dias\",\"Rúben Neves\",\"Rúben Vinagre\",\"Rúnar Alex Rúnarsson\",\"Sadio Mané\",\"Sam Field\",\"Sam Johnstone\",\"Sander Berge\",\"Saïd Benrahma\",\"Scott Carson\",\"Scott Dann\",\"Scott McTominay\",\"Sead Kolašinac\",\"Sean Longstaff\",\"Semi Ajayi\",\"Serge Aurier\",\"Sergio Agüero\",\"Sergio Reguilón\",\"Shane Long\",\"Shkodran Mustafi\",\"Shola Shoretire\",\"Sidnei Tavares\",\"Solly March\",\"Son Heung-min\",\"Steven Alzate\",\"Steven Bergwijn\",\"Stuart Armstrong\",\"Stuart Dallas\",\"Séamus Coleman\",\"Sébastien Haller\",\"Takumi Minamino\",\"Tammy Abraham\",\"Tanguy Ndombele\",\"Tariq Lamptey\",\"Terence Kongolo\",\"Theo Corbeanu\",\"Theo Walcott\",\"Thiago Alcántara\",\"Thiago Silva\",\"Thomas Partey\",\"Tim Ream\",\"Timo Werner\",\"Timothy Castagne\",\"Timothy Fosu-Mensah\",\"Toby Alderweireld\",\"Tom Cairney\",\"Tom Davies\",\"Tomáš Souček\",\"Tosin Adarabioyo\",\"Trent Alexander-Arnold\",\"Trézéguet\",\"Tyler Roberts\",\"Tyrese Francois\",\"Tyrick Mitchell\",\"Tyrone Mings\",\"Vicente Guaita\",\"Victor Lindelöf\",\"Virgil van Dijk\",\"Vitinha\",\"Vladimír Coufal\",\"Wes Morgan\",\"Wesley Fofana\",\"Wesley Moraes\",\"Wilfred Ndidi\",\"Wilfried Zaha\",\"Will Norris\",\"William Smallbone\",\"William Thomas Fish\",\"Willian\",\"Willian José\",\"Willy Boly\",\"Willy Caballero\",\"Xherdan Shaqiri\",\"Yan Valery\",\"Yerry Mina\",\"Youri Tielemans\",\"Yves Bissouma\",\"Zack Steffen\",\"Çağlar Söyüncü\",\"Érik Lamela\",\"İlkay Gündoğan\",\"Łukasz Fabiański\"],\"name\":\"\",\"parents\":[\"\",\"\",\"\",\"\",\"\",\"\",\"\",\"\",\"\",\"\",\"\",\"\",\"\",\"\",\"\",\"\",\"\",\"\",\"\",\"\",\"\",\"\",\"\",\"\",\"\",\"\",\"\",\"\",\"\",\"\",\"\",\"\",\"\",\"\",\"\",\"\",\"\",\"\",\"\",\"\",\"\",\"\",\"\",\"\",\"\",\"\",\"\",\"\",\"\",\"\",\"\",\"\",\"\",\"\",\"\",\"\",\"\",\"\",\"\",\"\",\"\",\"\",\"\",\"\",\"\",\"\",\"\",\"\",\"\",\"\",\"\",\"\",\"\",\"\",\"\",\"\",\"\",\"\",\"\",\"\",\"\",\"\",\"\",\"\",\"\",\"\",\"\",\"\",\"\",\"\",\"\",\"\",\"\",\"\",\"\",\"\",\"\",\"\",\"\",\"\",\"\",\"\",\"\",\"\",\"\",\"\",\"\",\"\",\"\",\"\",\"\",\"\",\"\",\"\",\"\",\"\",\"\",\"\",\"\",\"\",\"\",\"\",\"\",\"\",\"\",\"\",\"\",\"\",\"\",\"\",\"\",\"\",\"\",\"\",\"\",\"\",\"\",\"\",\"\",\"\",\"\",\"\",\"\",\"\",\"\",\"\",\"\",\"\",\"\",\"\",\"\",\"\",\"\",\"\",\"\",\"\",\"\",\"\",\"\",\"\",\"\",\"\",\"\",\"\",\"\",\"\",\"\",\"\",\"\",\"\",\"\",\"\",\"\",\"\",\"\",\"\",\"\",\"\",\"\",\"\",\"\",\"\",\"\",\"\",\"\",\"\",\"\",\"\",\"\",\"\",\"\",\"\",\"\",\"\",\"\",\"\",\"\",\"\",\"\",\"\",\"\",\"\",\"\",\"\",\"\",\"\",\"\",\"\",\"\",\"\",\"\",\"\",\"\",\"\",\"\",\"\",\"\",\"\",\"\",\"\",\"\",\"\",\"\",\"\",\"\",\"\",\"\",\"\",\"\",\"\",\"\",\"\",\"\",\"\",\"\",\"\",\"\",\"\",\"\",\"\",\"\",\"\",\"\",\"\",\"\",\"\",\"\",\"\",\"\",\"\",\"\",\"\",\"\",\"\",\"\",\"\",\"\",\"\",\"\",\"\",\"\",\"\",\"\",\"\",\"\",\"\",\"\",\"\",\"\",\"\",\"\",\"\",\"\",\"\",\"\",\"\",\"\",\"\",\"\",\"\",\"\",\"\",\"\",\"\",\"\",\"\",\"\",\"\",\"\",\"\",\"\",\"\",\"\",\"\",\"\",\"\",\"\",\"\",\"\",\"\",\"\",\"\",\"\",\"\",\"\",\"\",\"\",\"\",\"\",\"\",\"\",\"\",\"\",\"\",\"\",\"\",\"\",\"\",\"\",\"\",\"\",\"\",\"\",\"\",\"\",\"\",\"\",\"\",\"\",\"\",\"\",\"\",\"\",\"\",\"\",\"\",\"\",\"\",\"\",\"\",\"\",\"\",\"\",\"\",\"\",\"\",\"\",\"\",\"\",\"\",\"\",\"\",\"\",\"\",\"\",\"\",\"\",\"\",\"\",\"\",\"\",\"\",\"\",\"\",\"\",\"\",\"\",\"\",\"\",\"\",\"\",\"\",\"\",\"\",\"\",\"\",\"\",\"\",\"\",\"\",\"\",\"\",\"\",\"\",\"\",\"\",\"\",\"\",\"\",\"\",\"\",\"\",\"\",\"\",\"\",\"\",\"\",\"\",\"\",\"\",\"\",\"\",\"\",\"\",\"\",\"\",\"\",\"\",\"\",\"\",\"\",\"\",\"\",\"\",\"\",\"\",\"\",\"\",\"\",\"\",\"\",\"\",\"\",\"\",\"\",\"\",\"\",\"\",\"\",\"\",\"\",\"\",\"\",\"\",\"\",\"\",\"\",\"\",\"\",\"\",\"\",\"\",\"\",\"\",\"\",\"\",\"\",\"\",\"\",\"\",\"\",\"\",\"\",\"\",\"\",\"\",\"\",\"\",\"\",\"\",\"\",\"\",\"\",\"\",\"\",\"\",\"\",\"\",\"\",\"\",\"\",\"\",\"\",\"\",\"\",\"\",\"\",\"\",\"\",\"\",\"\",\"\",\"\",\"\",\"\",\"\",\"\",\"\",\"\",\"\",\"\",\"\",\"\",\"\",\"\",\"\",\"\",\"\",\"\",\"\",\"\",\"\",\"\",\"\",\"\",\"\",\"\",\"\",\"\",\"\",\"\",\"\",\"\",\"\",\"\",\"\",\"\",\"\",\"\",\"\",\"\",\"\",\"\",\"\"],\"values\":[78,1540,560,1775,1145,92,792,1483,579,879,76,463,37,533,291,529,687,104,458,2,409,323,196,968,899,347,0,736,54,19,1197,1010,2567,124,586,749,88,810,42,21,404,981,1338,1,432,442,194,1566,235,1160,382,57,1419,609,1101,153,784,662,1469,531,215,62,1280,922,566,191,85,612,119,264,1703,865,7,541,319,255,461,51,24,5,90,8,24,907,443,958,899,440,366,478,552,620,1576,742,115,880,592,890,350,1763,103,952,22,0,1112,399,237,24,478,344,218,565,700,35,15,806,698,457,849,72,110,236,1298,269,6,152,247,567,326,46,479,234,1213,90,920,918,72,905,269,851,1,51,403,634,849,1105,493,1399,321,433,856,1305,1076,205,452,1866,66,357,671,4,0,878,305,359,26,308,153,1554,226,1283,637,45,283,589,910,1629,464,255,1945,749,548,63,190,3,1261,656,1903,554,468,762,1079,242,85,500,3,1090,628,7,475,599,6,412,863,787,59,353,845,415,188,2,283,19,199,486,634,988,862,626,253,775,878,840,129,2116,181,300,1696,1443,193,499,296,208,299,0,533,6,31,429,304,543,103,1528,294,479,364,248,4,784,436,925,946,843,1080,19,1615,1045,46,188,1543,514,1572,761,1556,61,937,156,149,33,8,1794,1540,8,465,1152,246,355,658,1210,31,363,166,885,17,322,57,399,642,198,1068,181,7,260,223,1135,81,168,6,1580,630,29,1695,1295,1021,812,48,15,1935,0,1363,4,1225,448,1029,2110,1644,359,40,71,327,635,483,994,36,733,374,310,2,450,125,233,608,945,1548,1580,1185,765,375,665,392,410,1653,117,1030,959,193,647,144,77,161,138,1631,13,325,117,711,936,1071,309,7,190,122,295,666,1302,311,882,702,2,563,107,436,922,507,155,33,9,882,16,496,510,26,1540,1,440,1329,1330,184,267,1180,161,605,1041,13,44,501,851,290,536,1260,1096,386,4,889,410,1112,955,22,115,687,141,2388,518,962,705,657,206,0,1688,17,13,155,414,411,534,914,1578,266,107,784,1042,647,142,2496,432,1157,605,639,605,534,1180,243,203,2500,1632,82,6,802,14,639,380,411,15,507,1108,54,451,705,768,142,1075,37,40,6,19,680,919,399,347,1002,1813,624,171,297,148,993,390,37,3,307,1498,1749,966,395,637,1267,65,1143,550,573,1183,1594,2214,227,337,13,546,1261,598,1639,296,288,1199,5,1474,4,1200,591,26,64,0,624,249,830,23,356,52,1115,2011,1461,22,1202,288,1553,606],\"type\":\"treemap\"}],                        {\"template\":{\"data\":{\"histogram2dcontour\":[{\"type\":\"histogram2dcontour\",\"colorbar\":{\"outlinewidth\":0,\"ticks\":\"\"},\"colorscale\":[[0.0,\"#0d0887\"],[0.1111111111111111,\"#46039f\"],[0.2222222222222222,\"#7201a8\"],[0.3333333333333333,\"#9c179e\"],[0.4444444444444444,\"#bd3786\"],[0.5555555555555556,\"#d8576b\"],[0.6666666666666666,\"#ed7953\"],[0.7777777777777778,\"#fb9f3a\"],[0.8888888888888888,\"#fdca26\"],[1.0,\"#f0f921\"]]}],\"choropleth\":[{\"type\":\"choropleth\",\"colorbar\":{\"outlinewidth\":0,\"ticks\":\"\"}}],\"histogram2d\":[{\"type\":\"histogram2d\",\"colorbar\":{\"outlinewidth\":0,\"ticks\":\"\"},\"colorscale\":[[0.0,\"#0d0887\"],[0.1111111111111111,\"#46039f\"],[0.2222222222222222,\"#7201a8\"],[0.3333333333333333,\"#9c179e\"],[0.4444444444444444,\"#bd3786\"],[0.5555555555555556,\"#d8576b\"],[0.6666666666666666,\"#ed7953\"],[0.7777777777777778,\"#fb9f3a\"],[0.8888888888888888,\"#fdca26\"],[1.0,\"#f0f921\"]]}],\"heatmap\":[{\"type\":\"heatmap\",\"colorbar\":{\"outlinewidth\":0,\"ticks\":\"\"},\"colorscale\":[[0.0,\"#0d0887\"],[0.1111111111111111,\"#46039f\"],[0.2222222222222222,\"#7201a8\"],[0.3333333333333333,\"#9c179e\"],[0.4444444444444444,\"#bd3786\"],[0.5555555555555556,\"#d8576b\"],[0.6666666666666666,\"#ed7953\"],[0.7777777777777778,\"#fb9f3a\"],[0.8888888888888888,\"#fdca26\"],[1.0,\"#f0f921\"]]}],\"heatmapgl\":[{\"type\":\"heatmapgl\",\"colorbar\":{\"outlinewidth\":0,\"ticks\":\"\"},\"colorscale\":[[0.0,\"#0d0887\"],[0.1111111111111111,\"#46039f\"],[0.2222222222222222,\"#7201a8\"],[0.3333333333333333,\"#9c179e\"],[0.4444444444444444,\"#bd3786\"],[0.5555555555555556,\"#d8576b\"],[0.6666666666666666,\"#ed7953\"],[0.7777777777777778,\"#fb9f3a\"],[0.8888888888888888,\"#fdca26\"],[1.0,\"#f0f921\"]]}],\"contourcarpet\":[{\"type\":\"contourcarpet\",\"colorbar\":{\"outlinewidth\":0,\"ticks\":\"\"}}],\"contour\":[{\"type\":\"contour\",\"colorbar\":{\"outlinewidth\":0,\"ticks\":\"\"},\"colorscale\":[[0.0,\"#0d0887\"],[0.1111111111111111,\"#46039f\"],[0.2222222222222222,\"#7201a8\"],[0.3333333333333333,\"#9c179e\"],[0.4444444444444444,\"#bd3786\"],[0.5555555555555556,\"#d8576b\"],[0.6666666666666666,\"#ed7953\"],[0.7777777777777778,\"#fb9f3a\"],[0.8888888888888888,\"#fdca26\"],[1.0,\"#f0f921\"]]}],\"surface\":[{\"type\":\"surface\",\"colorbar\":{\"outlinewidth\":0,\"ticks\":\"\"},\"colorscale\":[[0.0,\"#0d0887\"],[0.1111111111111111,\"#46039f\"],[0.2222222222222222,\"#7201a8\"],[0.3333333333333333,\"#9c179e\"],[0.4444444444444444,\"#bd3786\"],[0.5555555555555556,\"#d8576b\"],[0.6666666666666666,\"#ed7953\"],[0.7777777777777778,\"#fb9f3a\"],[0.8888888888888888,\"#fdca26\"],[1.0,\"#f0f921\"]]}],\"mesh3d\":[{\"type\":\"mesh3d\",\"colorbar\":{\"outlinewidth\":0,\"ticks\":\"\"}}],\"scatter\":[{\"fillpattern\":{\"fillmode\":\"overlay\",\"size\":10,\"solidity\":0.2},\"type\":\"scatter\"}],\"parcoords\":[{\"type\":\"parcoords\",\"line\":{\"colorbar\":{\"outlinewidth\":0,\"ticks\":\"\"}}}],\"scatterpolargl\":[{\"type\":\"scatterpolargl\",\"marker\":{\"colorbar\":{\"outlinewidth\":0,\"ticks\":\"\"}}}],\"bar\":[{\"error_x\":{\"color\":\"#2a3f5f\"},\"error_y\":{\"color\":\"#2a3f5f\"},\"marker\":{\"line\":{\"color\":\"#E5ECF6\",\"width\":0.5},\"pattern\":{\"fillmode\":\"overlay\",\"size\":10,\"solidity\":0.2}},\"type\":\"bar\"}],\"scattergeo\":[{\"type\":\"scattergeo\",\"marker\":{\"colorbar\":{\"outlinewidth\":0,\"ticks\":\"\"}}}],\"scatterpolar\":[{\"type\":\"scatterpolar\",\"marker\":{\"colorbar\":{\"outlinewidth\":0,\"ticks\":\"\"}}}],\"histogram\":[{\"marker\":{\"pattern\":{\"fillmode\":\"overlay\",\"size\":10,\"solidity\":0.2}},\"type\":\"histogram\"}],\"scattergl\":[{\"type\":\"scattergl\",\"marker\":{\"colorbar\":{\"outlinewidth\":0,\"ticks\":\"\"}}}],\"scatter3d\":[{\"type\":\"scatter3d\",\"line\":{\"colorbar\":{\"outlinewidth\":0,\"ticks\":\"\"}},\"marker\":{\"colorbar\":{\"outlinewidth\":0,\"ticks\":\"\"}}}],\"scattermapbox\":[{\"type\":\"scattermapbox\",\"marker\":{\"colorbar\":{\"outlinewidth\":0,\"ticks\":\"\"}}}],\"scatterternary\":[{\"type\":\"scatterternary\",\"marker\":{\"colorbar\":{\"outlinewidth\":0,\"ticks\":\"\"}}}],\"scattercarpet\":[{\"type\":\"scattercarpet\",\"marker\":{\"colorbar\":{\"outlinewidth\":0,\"ticks\":\"\"}}}],\"carpet\":[{\"aaxis\":{\"endlinecolor\":\"#2a3f5f\",\"gridcolor\":\"white\",\"linecolor\":\"white\",\"minorgridcolor\":\"white\",\"startlinecolor\":\"#2a3f5f\"},\"baxis\":{\"endlinecolor\":\"#2a3f5f\",\"gridcolor\":\"white\",\"linecolor\":\"white\",\"minorgridcolor\":\"white\",\"startlinecolor\":\"#2a3f5f\"},\"type\":\"carpet\"}],\"table\":[{\"cells\":{\"fill\":{\"color\":\"#EBF0F8\"},\"line\":{\"color\":\"white\"}},\"header\":{\"fill\":{\"color\":\"#C8D4E3\"},\"line\":{\"color\":\"white\"}},\"type\":\"table\"}],\"barpolar\":[{\"marker\":{\"line\":{\"color\":\"#E5ECF6\",\"width\":0.5},\"pattern\":{\"fillmode\":\"overlay\",\"size\":10,\"solidity\":0.2}},\"type\":\"barpolar\"}],\"pie\":[{\"automargin\":true,\"type\":\"pie\"}]},\"layout\":{\"autotypenumbers\":\"strict\",\"colorway\":[\"#636efa\",\"#EF553B\",\"#00cc96\",\"#ab63fa\",\"#FFA15A\",\"#19d3f3\",\"#FF6692\",\"#B6E880\",\"#FF97FF\",\"#FECB52\"],\"font\":{\"color\":\"#2a3f5f\"},\"hovermode\":\"closest\",\"hoverlabel\":{\"align\":\"left\"},\"paper_bgcolor\":\"white\",\"plot_bgcolor\":\"#E5ECF6\",\"polar\":{\"bgcolor\":\"#E5ECF6\",\"angularaxis\":{\"gridcolor\":\"white\",\"linecolor\":\"white\",\"ticks\":\"\"},\"radialaxis\":{\"gridcolor\":\"white\",\"linecolor\":\"white\",\"ticks\":\"\"}},\"ternary\":{\"bgcolor\":\"#E5ECF6\",\"aaxis\":{\"gridcolor\":\"white\",\"linecolor\":\"white\",\"ticks\":\"\"},\"baxis\":{\"gridcolor\":\"white\",\"linecolor\":\"white\",\"ticks\":\"\"},\"caxis\":{\"gridcolor\":\"white\",\"linecolor\":\"white\",\"ticks\":\"\"}},\"coloraxis\":{\"colorbar\":{\"outlinewidth\":0,\"ticks\":\"\"}},\"colorscale\":{\"sequential\":[[0.0,\"#0d0887\"],[0.1111111111111111,\"#46039f\"],[0.2222222222222222,\"#7201a8\"],[0.3333333333333333,\"#9c179e\"],[0.4444444444444444,\"#bd3786\"],[0.5555555555555556,\"#d8576b\"],[0.6666666666666666,\"#ed7953\"],[0.7777777777777778,\"#fb9f3a\"],[0.8888888888888888,\"#fdca26\"],[1.0,\"#f0f921\"]],\"sequentialminus\":[[0.0,\"#0d0887\"],[0.1111111111111111,\"#46039f\"],[0.2222222222222222,\"#7201a8\"],[0.3333333333333333,\"#9c179e\"],[0.4444444444444444,\"#bd3786\"],[0.5555555555555556,\"#d8576b\"],[0.6666666666666666,\"#ed7953\"],[0.7777777777777778,\"#fb9f3a\"],[0.8888888888888888,\"#fdca26\"],[1.0,\"#f0f921\"]],\"diverging\":[[0,\"#8e0152\"],[0.1,\"#c51b7d\"],[0.2,\"#de77ae\"],[0.3,\"#f1b6da\"],[0.4,\"#fde0ef\"],[0.5,\"#f7f7f7\"],[0.6,\"#e6f5d0\"],[0.7,\"#b8e186\"],[0.8,\"#7fbc41\"],[0.9,\"#4d9221\"],[1,\"#276419\"]]},\"xaxis\":{\"gridcolor\":\"white\",\"linecolor\":\"white\",\"ticks\":\"\",\"title\":{\"standoff\":15},\"zerolinecolor\":\"white\",\"automargin\":true,\"zerolinewidth\":2},\"yaxis\":{\"gridcolor\":\"white\",\"linecolor\":\"white\",\"ticks\":\"\",\"title\":{\"standoff\":15},\"zerolinecolor\":\"white\",\"automargin\":true,\"zerolinewidth\":2},\"scene\":{\"xaxis\":{\"backgroundcolor\":\"#E5ECF6\",\"gridcolor\":\"white\",\"linecolor\":\"white\",\"showbackground\":true,\"ticks\":\"\",\"zerolinecolor\":\"white\",\"gridwidth\":2},\"yaxis\":{\"backgroundcolor\":\"#E5ECF6\",\"gridcolor\":\"white\",\"linecolor\":\"white\",\"showbackground\":true,\"ticks\":\"\",\"zerolinecolor\":\"white\",\"gridwidth\":2},\"zaxis\":{\"backgroundcolor\":\"#E5ECF6\",\"gridcolor\":\"white\",\"linecolor\":\"white\",\"showbackground\":true,\"ticks\":\"\",\"zerolinecolor\":\"white\",\"gridwidth\":2}},\"shapedefaults\":{\"line\":{\"color\":\"#2a3f5f\"}},\"annotationdefaults\":{\"arrowcolor\":\"#2a3f5f\",\"arrowhead\":0,\"arrowwidth\":1},\"geo\":{\"bgcolor\":\"white\",\"landcolor\":\"#E5ECF6\",\"subunitcolor\":\"white\",\"showland\":true,\"showlakes\":true,\"lakecolor\":\"white\"},\"title\":{\"x\":0.05},\"mapbox\":{\"style\":\"light\"}}},\"legend\":{\"tracegroupgap\":0},\"title\":{\"text\":\"All Players Completed Passes\"},\"height\":500,\"width\":1000,\"margin\":{\"t\":50,\"l\":25,\"r\":25,\"b\":25},\"treemapcolorway\":[\"#fae588\",\"#f79d65\",\"#f9dc5c\",\"#e8ac65\",\"#e76f51\",\"#ef233c\",\"#b7094c\"]},                        {\"responsive\": true}                    ).then(function(){\n",
       "                            \n",
       "var gd = document.getElementById('3283a769-5e42-4035-a4ac-7085ff201873');\n",
       "var x = new MutationObserver(function (mutations, observer) {{\n",
       "        var display = window.getComputedStyle(gd).display;\n",
       "        if (!display || display === 'none') {{\n",
       "            console.log([gd, 'removed!']);\n",
       "            Plotly.purge(gd);\n",
       "            observer.disconnect();\n",
       "        }}\n",
       "}});\n",
       "\n",
       "// Listen for the removal of the full notebook cells\n",
       "var notebookContainer = gd.closest('#notebook-container');\n",
       "if (notebookContainer) {{\n",
       "    x.observe(notebookContainer, {childList: true});\n",
       "}}\n",
       "\n",
       "// Listen for the clearing of the current output cell\n",
       "var outputEl = gd.closest('.output');\n",
       "if (outputEl) {{\n",
       "    x.observe(outputEl, {childList: true});\n",
       "}}\n",
       "\n",
       "                        })                };                });            </script>        </div>"
      ]
     },
     "metadata": {},
     "output_type": "display_data"
    }
   ],
   "source": [
    "import plotly.express as px\n",
    "\n",
    "colors=['#fae588','#f79d65','#f9dc5c','#e8ac65','#e76f51','#ef233c','#b7094c'] #color palette\n",
    "\n",
    "fig = px.treemap(C_Pass_df, path=['Name'],values='Passes_Completed', width=1000, height=500, title = \"All Players Completed Passes\")\n",
    "fig.update_layout(\n",
    "    treemapcolorway = colors, #defines the colors in the treemap\n",
    "    margin = dict(t=50, l=25, r=25, b=25))\n",
    "\n",
    "fig.show()"
   ]
  },
  {
   "cell_type": "code",
   "execution_count": 22,
   "id": "c7882282",
   "metadata": {
    "execution": {
     "iopub.execute_input": "2022-11-10T15:42:01.990986Z",
     "iopub.status.busy": "2022-11-10T15:42:01.990437Z",
     "iopub.status.idle": "2022-11-10T15:42:02.061750Z",
     "shell.execute_reply": "2022-11-10T15:42:02.060495Z"
    },
    "papermill": {
     "duration": 0.10042,
     "end_time": "2022-11-10T15:42:02.064249",
     "exception": false,
     "start_time": "2022-11-10T15:42:01.963829",
     "status": "completed"
    },
    "tags": []
   },
   "outputs": [
    {
     "data": {
      "application/vnd.plotly.v1+json": {
       "config": {
        "plotlyServerURL": "https://plot.ly"
       },
       "data": [
        {
         "domain": {
          "x": [
           0,
           1
          ],
          "y": [
           0,
           1
          ]
         },
         "hovertemplate": "Name=%{label}<br>Passes_Completed=%{value}<extra></extra>",
         "labels": [
          "Andrew Robertson",
          "Rúben Dias",
          "Rodri",
          "Pierre Højbjerg",
          "Trent Alexander-Arnold",
          "James Ward-Prowse",
          "Luke Ayling",
          "Youri Tielemans",
          "Granit Xhaka",
          "Lewis Dunk"
         ],
         "legendgroup": "",
         "name": "",
         "showlegend": true,
         "type": "pie",
         "values": [
          2567,
          2500,
          2496,
          2388,
          2214,
          2116,
          2110,
          2011,
          1945,
          1935
         ]
        }
       ],
       "layout": {
        "legend": {
         "tracegroupgap": 0
        },
        "template": {
         "data": {
          "bar": [
           {
            "error_x": {
             "color": "#2a3f5f"
            },
            "error_y": {
             "color": "#2a3f5f"
            },
            "marker": {
             "line": {
              "color": "#E5ECF6",
              "width": 0.5
             },
             "pattern": {
              "fillmode": "overlay",
              "size": 10,
              "solidity": 0.2
             }
            },
            "type": "bar"
           }
          ],
          "barpolar": [
           {
            "marker": {
             "line": {
              "color": "#E5ECF6",
              "width": 0.5
             },
             "pattern": {
              "fillmode": "overlay",
              "size": 10,
              "solidity": 0.2
             }
            },
            "type": "barpolar"
           }
          ],
          "carpet": [
           {
            "aaxis": {
             "endlinecolor": "#2a3f5f",
             "gridcolor": "white",
             "linecolor": "white",
             "minorgridcolor": "white",
             "startlinecolor": "#2a3f5f"
            },
            "baxis": {
             "endlinecolor": "#2a3f5f",
             "gridcolor": "white",
             "linecolor": "white",
             "minorgridcolor": "white",
             "startlinecolor": "#2a3f5f"
            },
            "type": "carpet"
           }
          ],
          "choropleth": [
           {
            "colorbar": {
             "outlinewidth": 0,
             "ticks": ""
            },
            "type": "choropleth"
           }
          ],
          "contour": [
           {
            "colorbar": {
             "outlinewidth": 0,
             "ticks": ""
            },
            "colorscale": [
             [
              0,
              "#0d0887"
             ],
             [
              0.1111111111111111,
              "#46039f"
             ],
             [
              0.2222222222222222,
              "#7201a8"
             ],
             [
              0.3333333333333333,
              "#9c179e"
             ],
             [
              0.4444444444444444,
              "#bd3786"
             ],
             [
              0.5555555555555556,
              "#d8576b"
             ],
             [
              0.6666666666666666,
              "#ed7953"
             ],
             [
              0.7777777777777778,
              "#fb9f3a"
             ],
             [
              0.8888888888888888,
              "#fdca26"
             ],
             [
              1,
              "#f0f921"
             ]
            ],
            "type": "contour"
           }
          ],
          "contourcarpet": [
           {
            "colorbar": {
             "outlinewidth": 0,
             "ticks": ""
            },
            "type": "contourcarpet"
           }
          ],
          "heatmap": [
           {
            "colorbar": {
             "outlinewidth": 0,
             "ticks": ""
            },
            "colorscale": [
             [
              0,
              "#0d0887"
             ],
             [
              0.1111111111111111,
              "#46039f"
             ],
             [
              0.2222222222222222,
              "#7201a8"
             ],
             [
              0.3333333333333333,
              "#9c179e"
             ],
             [
              0.4444444444444444,
              "#bd3786"
             ],
             [
              0.5555555555555556,
              "#d8576b"
             ],
             [
              0.6666666666666666,
              "#ed7953"
             ],
             [
              0.7777777777777778,
              "#fb9f3a"
             ],
             [
              0.8888888888888888,
              "#fdca26"
             ],
             [
              1,
              "#f0f921"
             ]
            ],
            "type": "heatmap"
           }
          ],
          "heatmapgl": [
           {
            "colorbar": {
             "outlinewidth": 0,
             "ticks": ""
            },
            "colorscale": [
             [
              0,
              "#0d0887"
             ],
             [
              0.1111111111111111,
              "#46039f"
             ],
             [
              0.2222222222222222,
              "#7201a8"
             ],
             [
              0.3333333333333333,
              "#9c179e"
             ],
             [
              0.4444444444444444,
              "#bd3786"
             ],
             [
              0.5555555555555556,
              "#d8576b"
             ],
             [
              0.6666666666666666,
              "#ed7953"
             ],
             [
              0.7777777777777778,
              "#fb9f3a"
             ],
             [
              0.8888888888888888,
              "#fdca26"
             ],
             [
              1,
              "#f0f921"
             ]
            ],
            "type": "heatmapgl"
           }
          ],
          "histogram": [
           {
            "marker": {
             "pattern": {
              "fillmode": "overlay",
              "size": 10,
              "solidity": 0.2
             }
            },
            "type": "histogram"
           }
          ],
          "histogram2d": [
           {
            "colorbar": {
             "outlinewidth": 0,
             "ticks": ""
            },
            "colorscale": [
             [
              0,
              "#0d0887"
             ],
             [
              0.1111111111111111,
              "#46039f"
             ],
             [
              0.2222222222222222,
              "#7201a8"
             ],
             [
              0.3333333333333333,
              "#9c179e"
             ],
             [
              0.4444444444444444,
              "#bd3786"
             ],
             [
              0.5555555555555556,
              "#d8576b"
             ],
             [
              0.6666666666666666,
              "#ed7953"
             ],
             [
              0.7777777777777778,
              "#fb9f3a"
             ],
             [
              0.8888888888888888,
              "#fdca26"
             ],
             [
              1,
              "#f0f921"
             ]
            ],
            "type": "histogram2d"
           }
          ],
          "histogram2dcontour": [
           {
            "colorbar": {
             "outlinewidth": 0,
             "ticks": ""
            },
            "colorscale": [
             [
              0,
              "#0d0887"
             ],
             [
              0.1111111111111111,
              "#46039f"
             ],
             [
              0.2222222222222222,
              "#7201a8"
             ],
             [
              0.3333333333333333,
              "#9c179e"
             ],
             [
              0.4444444444444444,
              "#bd3786"
             ],
             [
              0.5555555555555556,
              "#d8576b"
             ],
             [
              0.6666666666666666,
              "#ed7953"
             ],
             [
              0.7777777777777778,
              "#fb9f3a"
             ],
             [
              0.8888888888888888,
              "#fdca26"
             ],
             [
              1,
              "#f0f921"
             ]
            ],
            "type": "histogram2dcontour"
           }
          ],
          "mesh3d": [
           {
            "colorbar": {
             "outlinewidth": 0,
             "ticks": ""
            },
            "type": "mesh3d"
           }
          ],
          "parcoords": [
           {
            "line": {
             "colorbar": {
              "outlinewidth": 0,
              "ticks": ""
             }
            },
            "type": "parcoords"
           }
          ],
          "pie": [
           {
            "automargin": true,
            "type": "pie"
           }
          ],
          "scatter": [
           {
            "fillpattern": {
             "fillmode": "overlay",
             "size": 10,
             "solidity": 0.2
            },
            "type": "scatter"
           }
          ],
          "scatter3d": [
           {
            "line": {
             "colorbar": {
              "outlinewidth": 0,
              "ticks": ""
             }
            },
            "marker": {
             "colorbar": {
              "outlinewidth": 0,
              "ticks": ""
             }
            },
            "type": "scatter3d"
           }
          ],
          "scattercarpet": [
           {
            "marker": {
             "colorbar": {
              "outlinewidth": 0,
              "ticks": ""
             }
            },
            "type": "scattercarpet"
           }
          ],
          "scattergeo": [
           {
            "marker": {
             "colorbar": {
              "outlinewidth": 0,
              "ticks": ""
             }
            },
            "type": "scattergeo"
           }
          ],
          "scattergl": [
           {
            "marker": {
             "colorbar": {
              "outlinewidth": 0,
              "ticks": ""
             }
            },
            "type": "scattergl"
           }
          ],
          "scattermapbox": [
           {
            "marker": {
             "colorbar": {
              "outlinewidth": 0,
              "ticks": ""
             }
            },
            "type": "scattermapbox"
           }
          ],
          "scatterpolar": [
           {
            "marker": {
             "colorbar": {
              "outlinewidth": 0,
              "ticks": ""
             }
            },
            "type": "scatterpolar"
           }
          ],
          "scatterpolargl": [
           {
            "marker": {
             "colorbar": {
              "outlinewidth": 0,
              "ticks": ""
             }
            },
            "type": "scatterpolargl"
           }
          ],
          "scatterternary": [
           {
            "marker": {
             "colorbar": {
              "outlinewidth": 0,
              "ticks": ""
             }
            },
            "type": "scatterternary"
           }
          ],
          "surface": [
           {
            "colorbar": {
             "outlinewidth": 0,
             "ticks": ""
            },
            "colorscale": [
             [
              0,
              "#0d0887"
             ],
             [
              0.1111111111111111,
              "#46039f"
             ],
             [
              0.2222222222222222,
              "#7201a8"
             ],
             [
              0.3333333333333333,
              "#9c179e"
             ],
             [
              0.4444444444444444,
              "#bd3786"
             ],
             [
              0.5555555555555556,
              "#d8576b"
             ],
             [
              0.6666666666666666,
              "#ed7953"
             ],
             [
              0.7777777777777778,
              "#fb9f3a"
             ],
             [
              0.8888888888888888,
              "#fdca26"
             ],
             [
              1,
              "#f0f921"
             ]
            ],
            "type": "surface"
           }
          ],
          "table": [
           {
            "cells": {
             "fill": {
              "color": "#EBF0F8"
             },
             "line": {
              "color": "white"
             }
            },
            "header": {
             "fill": {
              "color": "#C8D4E3"
             },
             "line": {
              "color": "white"
             }
            },
            "type": "table"
           }
          ]
         },
         "layout": {
          "annotationdefaults": {
           "arrowcolor": "#2a3f5f",
           "arrowhead": 0,
           "arrowwidth": 1
          },
          "autotypenumbers": "strict",
          "coloraxis": {
           "colorbar": {
            "outlinewidth": 0,
            "ticks": ""
           }
          },
          "colorscale": {
           "diverging": [
            [
             0,
             "#8e0152"
            ],
            [
             0.1,
             "#c51b7d"
            ],
            [
             0.2,
             "#de77ae"
            ],
            [
             0.3,
             "#f1b6da"
            ],
            [
             0.4,
             "#fde0ef"
            ],
            [
             0.5,
             "#f7f7f7"
            ],
            [
             0.6,
             "#e6f5d0"
            ],
            [
             0.7,
             "#b8e186"
            ],
            [
             0.8,
             "#7fbc41"
            ],
            [
             0.9,
             "#4d9221"
            ],
            [
             1,
             "#276419"
            ]
           ],
           "sequential": [
            [
             0,
             "#0d0887"
            ],
            [
             0.1111111111111111,
             "#46039f"
            ],
            [
             0.2222222222222222,
             "#7201a8"
            ],
            [
             0.3333333333333333,
             "#9c179e"
            ],
            [
             0.4444444444444444,
             "#bd3786"
            ],
            [
             0.5555555555555556,
             "#d8576b"
            ],
            [
             0.6666666666666666,
             "#ed7953"
            ],
            [
             0.7777777777777778,
             "#fb9f3a"
            ],
            [
             0.8888888888888888,
             "#fdca26"
            ],
            [
             1,
             "#f0f921"
            ]
           ],
           "sequentialminus": [
            [
             0,
             "#0d0887"
            ],
            [
             0.1111111111111111,
             "#46039f"
            ],
            [
             0.2222222222222222,
             "#7201a8"
            ],
            [
             0.3333333333333333,
             "#9c179e"
            ],
            [
             0.4444444444444444,
             "#bd3786"
            ],
            [
             0.5555555555555556,
             "#d8576b"
            ],
            [
             0.6666666666666666,
             "#ed7953"
            ],
            [
             0.7777777777777778,
             "#fb9f3a"
            ],
            [
             0.8888888888888888,
             "#fdca26"
            ],
            [
             1,
             "#f0f921"
            ]
           ]
          },
          "colorway": [
           "#636efa",
           "#EF553B",
           "#00cc96",
           "#ab63fa",
           "#FFA15A",
           "#19d3f3",
           "#FF6692",
           "#B6E880",
           "#FF97FF",
           "#FECB52"
          ],
          "font": {
           "color": "#2a3f5f"
          },
          "geo": {
           "bgcolor": "white",
           "lakecolor": "white",
           "landcolor": "#E5ECF6",
           "showlakes": true,
           "showland": true,
           "subunitcolor": "white"
          },
          "hoverlabel": {
           "align": "left"
          },
          "hovermode": "closest",
          "mapbox": {
           "style": "light"
          },
          "paper_bgcolor": "white",
          "plot_bgcolor": "#E5ECF6",
          "polar": {
           "angularaxis": {
            "gridcolor": "white",
            "linecolor": "white",
            "ticks": ""
           },
           "bgcolor": "#E5ECF6",
           "radialaxis": {
            "gridcolor": "white",
            "linecolor": "white",
            "ticks": ""
           }
          },
          "scene": {
           "xaxis": {
            "backgroundcolor": "#E5ECF6",
            "gridcolor": "white",
            "gridwidth": 2,
            "linecolor": "white",
            "showbackground": true,
            "ticks": "",
            "zerolinecolor": "white"
           },
           "yaxis": {
            "backgroundcolor": "#E5ECF6",
            "gridcolor": "white",
            "gridwidth": 2,
            "linecolor": "white",
            "showbackground": true,
            "ticks": "",
            "zerolinecolor": "white"
           },
           "zaxis": {
            "backgroundcolor": "#E5ECF6",
            "gridcolor": "white",
            "gridwidth": 2,
            "linecolor": "white",
            "showbackground": true,
            "ticks": "",
            "zerolinecolor": "white"
           }
          },
          "shapedefaults": {
           "line": {
            "color": "#2a3f5f"
           }
          },
          "ternary": {
           "aaxis": {
            "gridcolor": "white",
            "linecolor": "white",
            "ticks": ""
           },
           "baxis": {
            "gridcolor": "white",
            "linecolor": "white",
            "ticks": ""
           },
           "bgcolor": "#E5ECF6",
           "caxis": {
            "gridcolor": "white",
            "linecolor": "white",
            "ticks": ""
           }
          },
          "title": {
           "x": 0.05
          },
          "xaxis": {
           "automargin": true,
           "gridcolor": "white",
           "linecolor": "white",
           "ticks": "",
           "title": {
            "standoff": 15
           },
           "zerolinecolor": "white",
           "zerolinewidth": 2
          },
          "yaxis": {
           "automargin": true,
           "gridcolor": "white",
           "linecolor": "white",
           "ticks": "",
           "title": {
            "standoff": 15
           },
           "zerolinecolor": "white",
           "zerolinewidth": 2
          }
         }
        },
        "title": {
         "text": "Top 10 Players Completed Passes"
        }
       }
      },
      "text/html": [
       "<div>                            <div id=\"45782327-f52b-4c19-8dd3-38b10c3ecd0f\" class=\"plotly-graph-div\" style=\"height:525px; width:100%;\"></div>            <script type=\"text/javascript\">                require([\"plotly\"], function(Plotly) {                    window.PLOTLYENV=window.PLOTLYENV || {};                                    if (document.getElementById(\"45782327-f52b-4c19-8dd3-38b10c3ecd0f\")) {                    Plotly.newPlot(                        \"45782327-f52b-4c19-8dd3-38b10c3ecd0f\",                        [{\"domain\":{\"x\":[0.0,1.0],\"y\":[0.0,1.0]},\"hovertemplate\":\"Name=%{label}<br>Passes_Completed=%{value}<extra></extra>\",\"labels\":[\"Andrew Robertson\",\"Rúben Dias\",\"Rodri\",\"Pierre Højbjerg\",\"Trent Alexander-Arnold\",\"James Ward-Prowse\",\"Luke Ayling\",\"Youri Tielemans\",\"Granit Xhaka\",\"Lewis Dunk\"],\"legendgroup\":\"\",\"name\":\"\",\"showlegend\":true,\"values\":[2567,2500,2496,2388,2214,2116,2110,2011,1945,1935],\"type\":\"pie\"}],                        {\"template\":{\"data\":{\"histogram2dcontour\":[{\"type\":\"histogram2dcontour\",\"colorbar\":{\"outlinewidth\":0,\"ticks\":\"\"},\"colorscale\":[[0.0,\"#0d0887\"],[0.1111111111111111,\"#46039f\"],[0.2222222222222222,\"#7201a8\"],[0.3333333333333333,\"#9c179e\"],[0.4444444444444444,\"#bd3786\"],[0.5555555555555556,\"#d8576b\"],[0.6666666666666666,\"#ed7953\"],[0.7777777777777778,\"#fb9f3a\"],[0.8888888888888888,\"#fdca26\"],[1.0,\"#f0f921\"]]}],\"choropleth\":[{\"type\":\"choropleth\",\"colorbar\":{\"outlinewidth\":0,\"ticks\":\"\"}}],\"histogram2d\":[{\"type\":\"histogram2d\",\"colorbar\":{\"outlinewidth\":0,\"ticks\":\"\"},\"colorscale\":[[0.0,\"#0d0887\"],[0.1111111111111111,\"#46039f\"],[0.2222222222222222,\"#7201a8\"],[0.3333333333333333,\"#9c179e\"],[0.4444444444444444,\"#bd3786\"],[0.5555555555555556,\"#d8576b\"],[0.6666666666666666,\"#ed7953\"],[0.7777777777777778,\"#fb9f3a\"],[0.8888888888888888,\"#fdca26\"],[1.0,\"#f0f921\"]]}],\"heatmap\":[{\"type\":\"heatmap\",\"colorbar\":{\"outlinewidth\":0,\"ticks\":\"\"},\"colorscale\":[[0.0,\"#0d0887\"],[0.1111111111111111,\"#46039f\"],[0.2222222222222222,\"#7201a8\"],[0.3333333333333333,\"#9c179e\"],[0.4444444444444444,\"#bd3786\"],[0.5555555555555556,\"#d8576b\"],[0.6666666666666666,\"#ed7953\"],[0.7777777777777778,\"#fb9f3a\"],[0.8888888888888888,\"#fdca26\"],[1.0,\"#f0f921\"]]}],\"heatmapgl\":[{\"type\":\"heatmapgl\",\"colorbar\":{\"outlinewidth\":0,\"ticks\":\"\"},\"colorscale\":[[0.0,\"#0d0887\"],[0.1111111111111111,\"#46039f\"],[0.2222222222222222,\"#7201a8\"],[0.3333333333333333,\"#9c179e\"],[0.4444444444444444,\"#bd3786\"],[0.5555555555555556,\"#d8576b\"],[0.6666666666666666,\"#ed7953\"],[0.7777777777777778,\"#fb9f3a\"],[0.8888888888888888,\"#fdca26\"],[1.0,\"#f0f921\"]]}],\"contourcarpet\":[{\"type\":\"contourcarpet\",\"colorbar\":{\"outlinewidth\":0,\"ticks\":\"\"}}],\"contour\":[{\"type\":\"contour\",\"colorbar\":{\"outlinewidth\":0,\"ticks\":\"\"},\"colorscale\":[[0.0,\"#0d0887\"],[0.1111111111111111,\"#46039f\"],[0.2222222222222222,\"#7201a8\"],[0.3333333333333333,\"#9c179e\"],[0.4444444444444444,\"#bd3786\"],[0.5555555555555556,\"#d8576b\"],[0.6666666666666666,\"#ed7953\"],[0.7777777777777778,\"#fb9f3a\"],[0.8888888888888888,\"#fdca26\"],[1.0,\"#f0f921\"]]}],\"surface\":[{\"type\":\"surface\",\"colorbar\":{\"outlinewidth\":0,\"ticks\":\"\"},\"colorscale\":[[0.0,\"#0d0887\"],[0.1111111111111111,\"#46039f\"],[0.2222222222222222,\"#7201a8\"],[0.3333333333333333,\"#9c179e\"],[0.4444444444444444,\"#bd3786\"],[0.5555555555555556,\"#d8576b\"],[0.6666666666666666,\"#ed7953\"],[0.7777777777777778,\"#fb9f3a\"],[0.8888888888888888,\"#fdca26\"],[1.0,\"#f0f921\"]]}],\"mesh3d\":[{\"type\":\"mesh3d\",\"colorbar\":{\"outlinewidth\":0,\"ticks\":\"\"}}],\"scatter\":[{\"fillpattern\":{\"fillmode\":\"overlay\",\"size\":10,\"solidity\":0.2},\"type\":\"scatter\"}],\"parcoords\":[{\"type\":\"parcoords\",\"line\":{\"colorbar\":{\"outlinewidth\":0,\"ticks\":\"\"}}}],\"scatterpolargl\":[{\"type\":\"scatterpolargl\",\"marker\":{\"colorbar\":{\"outlinewidth\":0,\"ticks\":\"\"}}}],\"bar\":[{\"error_x\":{\"color\":\"#2a3f5f\"},\"error_y\":{\"color\":\"#2a3f5f\"},\"marker\":{\"line\":{\"color\":\"#E5ECF6\",\"width\":0.5},\"pattern\":{\"fillmode\":\"overlay\",\"size\":10,\"solidity\":0.2}},\"type\":\"bar\"}],\"scattergeo\":[{\"type\":\"scattergeo\",\"marker\":{\"colorbar\":{\"outlinewidth\":0,\"ticks\":\"\"}}}],\"scatterpolar\":[{\"type\":\"scatterpolar\",\"marker\":{\"colorbar\":{\"outlinewidth\":0,\"ticks\":\"\"}}}],\"histogram\":[{\"marker\":{\"pattern\":{\"fillmode\":\"overlay\",\"size\":10,\"solidity\":0.2}},\"type\":\"histogram\"}],\"scattergl\":[{\"type\":\"scattergl\",\"marker\":{\"colorbar\":{\"outlinewidth\":0,\"ticks\":\"\"}}}],\"scatter3d\":[{\"type\":\"scatter3d\",\"line\":{\"colorbar\":{\"outlinewidth\":0,\"ticks\":\"\"}},\"marker\":{\"colorbar\":{\"outlinewidth\":0,\"ticks\":\"\"}}}],\"scattermapbox\":[{\"type\":\"scattermapbox\",\"marker\":{\"colorbar\":{\"outlinewidth\":0,\"ticks\":\"\"}}}],\"scatterternary\":[{\"type\":\"scatterternary\",\"marker\":{\"colorbar\":{\"outlinewidth\":0,\"ticks\":\"\"}}}],\"scattercarpet\":[{\"type\":\"scattercarpet\",\"marker\":{\"colorbar\":{\"outlinewidth\":0,\"ticks\":\"\"}}}],\"carpet\":[{\"aaxis\":{\"endlinecolor\":\"#2a3f5f\",\"gridcolor\":\"white\",\"linecolor\":\"white\",\"minorgridcolor\":\"white\",\"startlinecolor\":\"#2a3f5f\"},\"baxis\":{\"endlinecolor\":\"#2a3f5f\",\"gridcolor\":\"white\",\"linecolor\":\"white\",\"minorgridcolor\":\"white\",\"startlinecolor\":\"#2a3f5f\"},\"type\":\"carpet\"}],\"table\":[{\"cells\":{\"fill\":{\"color\":\"#EBF0F8\"},\"line\":{\"color\":\"white\"}},\"header\":{\"fill\":{\"color\":\"#C8D4E3\"},\"line\":{\"color\":\"white\"}},\"type\":\"table\"}],\"barpolar\":[{\"marker\":{\"line\":{\"color\":\"#E5ECF6\",\"width\":0.5},\"pattern\":{\"fillmode\":\"overlay\",\"size\":10,\"solidity\":0.2}},\"type\":\"barpolar\"}],\"pie\":[{\"automargin\":true,\"type\":\"pie\"}]},\"layout\":{\"autotypenumbers\":\"strict\",\"colorway\":[\"#636efa\",\"#EF553B\",\"#00cc96\",\"#ab63fa\",\"#FFA15A\",\"#19d3f3\",\"#FF6692\",\"#B6E880\",\"#FF97FF\",\"#FECB52\"],\"font\":{\"color\":\"#2a3f5f\"},\"hovermode\":\"closest\",\"hoverlabel\":{\"align\":\"left\"},\"paper_bgcolor\":\"white\",\"plot_bgcolor\":\"#E5ECF6\",\"polar\":{\"bgcolor\":\"#E5ECF6\",\"angularaxis\":{\"gridcolor\":\"white\",\"linecolor\":\"white\",\"ticks\":\"\"},\"radialaxis\":{\"gridcolor\":\"white\",\"linecolor\":\"white\",\"ticks\":\"\"}},\"ternary\":{\"bgcolor\":\"#E5ECF6\",\"aaxis\":{\"gridcolor\":\"white\",\"linecolor\":\"white\",\"ticks\":\"\"},\"baxis\":{\"gridcolor\":\"white\",\"linecolor\":\"white\",\"ticks\":\"\"},\"caxis\":{\"gridcolor\":\"white\",\"linecolor\":\"white\",\"ticks\":\"\"}},\"coloraxis\":{\"colorbar\":{\"outlinewidth\":0,\"ticks\":\"\"}},\"colorscale\":{\"sequential\":[[0.0,\"#0d0887\"],[0.1111111111111111,\"#46039f\"],[0.2222222222222222,\"#7201a8\"],[0.3333333333333333,\"#9c179e\"],[0.4444444444444444,\"#bd3786\"],[0.5555555555555556,\"#d8576b\"],[0.6666666666666666,\"#ed7953\"],[0.7777777777777778,\"#fb9f3a\"],[0.8888888888888888,\"#fdca26\"],[1.0,\"#f0f921\"]],\"sequentialminus\":[[0.0,\"#0d0887\"],[0.1111111111111111,\"#46039f\"],[0.2222222222222222,\"#7201a8\"],[0.3333333333333333,\"#9c179e\"],[0.4444444444444444,\"#bd3786\"],[0.5555555555555556,\"#d8576b\"],[0.6666666666666666,\"#ed7953\"],[0.7777777777777778,\"#fb9f3a\"],[0.8888888888888888,\"#fdca26\"],[1.0,\"#f0f921\"]],\"diverging\":[[0,\"#8e0152\"],[0.1,\"#c51b7d\"],[0.2,\"#de77ae\"],[0.3,\"#f1b6da\"],[0.4,\"#fde0ef\"],[0.5,\"#f7f7f7\"],[0.6,\"#e6f5d0\"],[0.7,\"#b8e186\"],[0.8,\"#7fbc41\"],[0.9,\"#4d9221\"],[1,\"#276419\"]]},\"xaxis\":{\"gridcolor\":\"white\",\"linecolor\":\"white\",\"ticks\":\"\",\"title\":{\"standoff\":15},\"zerolinecolor\":\"white\",\"automargin\":true,\"zerolinewidth\":2},\"yaxis\":{\"gridcolor\":\"white\",\"linecolor\":\"white\",\"ticks\":\"\",\"title\":{\"standoff\":15},\"zerolinecolor\":\"white\",\"automargin\":true,\"zerolinewidth\":2},\"scene\":{\"xaxis\":{\"backgroundcolor\":\"#E5ECF6\",\"gridcolor\":\"white\",\"linecolor\":\"white\",\"showbackground\":true,\"ticks\":\"\",\"zerolinecolor\":\"white\",\"gridwidth\":2},\"yaxis\":{\"backgroundcolor\":\"#E5ECF6\",\"gridcolor\":\"white\",\"linecolor\":\"white\",\"showbackground\":true,\"ticks\":\"\",\"zerolinecolor\":\"white\",\"gridwidth\":2},\"zaxis\":{\"backgroundcolor\":\"#E5ECF6\",\"gridcolor\":\"white\",\"linecolor\":\"white\",\"showbackground\":true,\"ticks\":\"\",\"zerolinecolor\":\"white\",\"gridwidth\":2}},\"shapedefaults\":{\"line\":{\"color\":\"#2a3f5f\"}},\"annotationdefaults\":{\"arrowcolor\":\"#2a3f5f\",\"arrowhead\":0,\"arrowwidth\":1},\"geo\":{\"bgcolor\":\"white\",\"landcolor\":\"#E5ECF6\",\"subunitcolor\":\"white\",\"showland\":true,\"showlakes\":true,\"lakecolor\":\"white\"},\"title\":{\"x\":0.05},\"mapbox\":{\"style\":\"light\"}}},\"legend\":{\"tracegroupgap\":0},\"title\":{\"text\":\"Top 10 Players Completed Passes\"}},                        {\"responsive\": true}                    ).then(function(){\n",
       "                            \n",
       "var gd = document.getElementById('45782327-f52b-4c19-8dd3-38b10c3ecd0f');\n",
       "var x = new MutationObserver(function (mutations, observer) {{\n",
       "        var display = window.getComputedStyle(gd).display;\n",
       "        if (!display || display === 'none') {{\n",
       "            console.log([gd, 'removed!']);\n",
       "            Plotly.purge(gd);\n",
       "            observer.disconnect();\n",
       "        }}\n",
       "}});\n",
       "\n",
       "// Listen for the removal of the full notebook cells\n",
       "var notebookContainer = gd.closest('#notebook-container');\n",
       "if (notebookContainer) {{\n",
       "    x.observe(notebookContainer, {childList: true});\n",
       "}}\n",
       "\n",
       "// Listen for the clearing of the current output cell\n",
       "var outputEl = gd.closest('.output');\n",
       "if (outputEl) {{\n",
       "    x.observe(outputEl, {childList: true});\n",
       "}}\n",
       "\n",
       "                        })                };                });            </script>        </div>"
      ]
     },
     "metadata": {},
     "output_type": "display_data"
    }
   ],
   "source": [
    "# Top 10 Players Completed Passes\n",
    "fig = px.pie(Top_C_Pass_df, values='Passes_Completed', names='Name' ,title = \"Top 10 Players Completed Passes\")\n",
    "fig.show()"
   ]
  },
  {
   "cell_type": "code",
   "execution_count": 23,
   "id": "875b526c",
   "metadata": {
    "execution": {
     "iopub.execute_input": "2022-11-10T15:42:02.127922Z",
     "iopub.status.busy": "2022-11-10T15:42:02.126543Z",
     "iopub.status.idle": "2022-11-10T15:42:02.148166Z",
     "shell.execute_reply": "2022-11-10T15:42:02.146911Z"
    },
    "papermill": {
     "duration": 0.055998,
     "end_time": "2022-11-10T15:42:02.150896",
     "exception": false,
     "start_time": "2022-11-10T15:42:02.094898",
     "status": "completed"
    },
    "tags": []
   },
   "outputs": [
    {
     "data": {
      "text/html": [
       "<div>\n",
       "<style scoped>\n",
       "    .dataframe tbody tr th:only-of-type {\n",
       "        vertical-align: middle;\n",
       "    }\n",
       "\n",
       "    .dataframe tbody tr th {\n",
       "        vertical-align: top;\n",
       "    }\n",
       "\n",
       "    .dataframe thead th {\n",
       "        text-align: right;\n",
       "    }\n",
       "</style>\n",
       "<table border=\"1\" class=\"dataframe\">\n",
       "  <thead>\n",
       "    <tr style=\"text-align: right;\">\n",
       "      <th></th>\n",
       "      <th>Name</th>\n",
       "      <th>Club</th>\n",
       "      <th>Nationality</th>\n",
       "      <th>Position</th>\n",
       "      <th>Age</th>\n",
       "      <th>Matches</th>\n",
       "      <th>Starts</th>\n",
       "      <th>Mins</th>\n",
       "      <th>Goals</th>\n",
       "      <th>Assists</th>\n",
       "      <th>Passes_Attempted</th>\n",
       "      <th>Perc_Passes_Completed</th>\n",
       "      <th>Penalty_Goals</th>\n",
       "      <th>Penalty_Attempted</th>\n",
       "      <th>xG</th>\n",
       "      <th>xA</th>\n",
       "      <th>Yellow_Cards</th>\n",
       "      <th>Red_Cards</th>\n",
       "      <th>Passes_Completed</th>\n",
       "    </tr>\n",
       "  </thead>\n",
       "  <tbody>\n",
       "    <tr>\n",
       "      <th>0</th>\n",
       "      <td>Mason Mount</td>\n",
       "      <td>Chelsea</td>\n",
       "      <td>ENG</td>\n",
       "      <td>MF,FW</td>\n",
       "      <td>21</td>\n",
       "      <td>36</td>\n",
       "      <td>32</td>\n",
       "      <td>2890</td>\n",
       "      <td>6</td>\n",
       "      <td>5</td>\n",
       "      <td>1881</td>\n",
       "      <td>82.3</td>\n",
       "      <td>1</td>\n",
       "      <td>1</td>\n",
       "      <td>0.21</td>\n",
       "      <td>0.24</td>\n",
       "      <td>2</td>\n",
       "      <td>0</td>\n",
       "      <td>1548</td>\n",
       "    </tr>\n",
       "    <tr>\n",
       "      <th>1</th>\n",
       "      <td>Edouard Mendy</td>\n",
       "      <td>Chelsea</td>\n",
       "      <td>SEN</td>\n",
       "      <td>GK</td>\n",
       "      <td>28</td>\n",
       "      <td>31</td>\n",
       "      <td>31</td>\n",
       "      <td>2745</td>\n",
       "      <td>0</td>\n",
       "      <td>0</td>\n",
       "      <td>1007</td>\n",
       "      <td>84.6</td>\n",
       "      <td>0</td>\n",
       "      <td>0</td>\n",
       "      <td>0.00</td>\n",
       "      <td>0.00</td>\n",
       "      <td>2</td>\n",
       "      <td>0</td>\n",
       "      <td>851</td>\n",
       "    </tr>\n",
       "    <tr>\n",
       "      <th>2</th>\n",
       "      <td>Timo Werner</td>\n",
       "      <td>Chelsea</td>\n",
       "      <td>GER</td>\n",
       "      <td>FW</td>\n",
       "      <td>24</td>\n",
       "      <td>35</td>\n",
       "      <td>29</td>\n",
       "      <td>2602</td>\n",
       "      <td>6</td>\n",
       "      <td>8</td>\n",
       "      <td>826</td>\n",
       "      <td>77.2</td>\n",
       "      <td>0</td>\n",
       "      <td>0</td>\n",
       "      <td>0.41</td>\n",
       "      <td>0.21</td>\n",
       "      <td>2</td>\n",
       "      <td>0</td>\n",
       "      <td>637</td>\n",
       "    </tr>\n",
       "    <tr>\n",
       "      <th>3</th>\n",
       "      <td>Ben Chilwell</td>\n",
       "      <td>Chelsea</td>\n",
       "      <td>ENG</td>\n",
       "      <td>DF</td>\n",
       "      <td>23</td>\n",
       "      <td>27</td>\n",
       "      <td>27</td>\n",
       "      <td>2286</td>\n",
       "      <td>3</td>\n",
       "      <td>5</td>\n",
       "      <td>1806</td>\n",
       "      <td>78.6</td>\n",
       "      <td>0</td>\n",
       "      <td>0</td>\n",
       "      <td>0.10</td>\n",
       "      <td>0.11</td>\n",
       "      <td>3</td>\n",
       "      <td>0</td>\n",
       "      <td>1419</td>\n",
       "    </tr>\n",
       "    <tr>\n",
       "      <th>4</th>\n",
       "      <td>Reece James</td>\n",
       "      <td>Chelsea</td>\n",
       "      <td>ENG</td>\n",
       "      <td>DF</td>\n",
       "      <td>20</td>\n",
       "      <td>32</td>\n",
       "      <td>25</td>\n",
       "      <td>2373</td>\n",
       "      <td>1</td>\n",
       "      <td>2</td>\n",
       "      <td>1987</td>\n",
       "      <td>85.0</td>\n",
       "      <td>0</td>\n",
       "      <td>0</td>\n",
       "      <td>0.06</td>\n",
       "      <td>0.12</td>\n",
       "      <td>3</td>\n",
       "      <td>0</td>\n",
       "      <td>1688</td>\n",
       "    </tr>\n",
       "  </tbody>\n",
       "</table>\n",
       "</div>"
      ],
      "text/plain": [
       "            Name     Club Nationality Position  Age  Matches  Starts  Mins  \\\n",
       "0    Mason Mount  Chelsea         ENG    MF,FW   21       36      32  2890   \n",
       "1  Edouard Mendy  Chelsea         SEN       GK   28       31      31  2745   \n",
       "2    Timo Werner  Chelsea         GER       FW   24       35      29  2602   \n",
       "3   Ben Chilwell  Chelsea         ENG       DF   23       27      27  2286   \n",
       "4    Reece James  Chelsea         ENG       DF   20       32      25  2373   \n",
       "\n",
       "   Goals  Assists  Passes_Attempted  Perc_Passes_Completed  Penalty_Goals  \\\n",
       "0      6        5              1881                   82.3              1   \n",
       "1      0        0              1007                   84.6              0   \n",
       "2      6        8               826                   77.2              0   \n",
       "3      3        5              1806                   78.6              0   \n",
       "4      1        2              1987                   85.0              0   \n",
       "\n",
       "   Penalty_Attempted    xG    xA  Yellow_Cards  Red_Cards  Passes_Completed  \n",
       "0                  1  0.21  0.24             2          0              1548  \n",
       "1                  0  0.00  0.00             2          0               851  \n",
       "2                  0  0.41  0.21             2          0               637  \n",
       "3                  0  0.10  0.11             3          0              1419  \n",
       "4                  0  0.06  0.12             3          0              1688  "
      ]
     },
     "execution_count": 23,
     "metadata": {},
     "output_type": "execute_result"
    }
   ],
   "source": [
    "df.head()"
   ]
  },
  {
   "cell_type": "code",
   "execution_count": 24,
   "id": "822b1aec",
   "metadata": {
    "execution": {
     "iopub.execute_input": "2022-11-10T15:42:02.215285Z",
     "iopub.status.busy": "2022-11-10T15:42:02.214762Z",
     "iopub.status.idle": "2022-11-10T15:42:02.228556Z",
     "shell.execute_reply": "2022-11-10T15:42:02.227015Z"
    },
    "papermill": {
     "duration": 0.050124,
     "end_time": "2022-11-10T15:42:02.231264",
     "exception": false,
     "start_time": "2022-11-10T15:42:02.181140",
     "status": "completed"
    },
    "tags": []
   },
   "outputs": [
    {
     "data": {
      "text/plain": [
       "array([17788, 12768, 15587, 10631, 21633, 11383, 14657, 15164, 15988,\n",
       "       16716, 21513, 23570, 18481, 10601, 12041, 14744, 16126,  9727,\n",
       "       12525, 15223])"
      ]
     },
     "execution_count": 24,
     "metadata": {},
     "output_type": "execute_result"
    }
   ],
   "source": [
    "index = df.groupby(\"Club\").Passes_Completed.sum().index\n",
    "value = df.groupby(\"Club\").Passes_Completed.sum().values\n",
    "value"
   ]
  },
  {
   "cell_type": "code",
   "execution_count": 25,
   "id": "4ede5e2a",
   "metadata": {
    "execution": {
     "iopub.execute_input": "2022-11-10T15:42:02.295699Z",
     "iopub.status.busy": "2022-11-10T15:42:02.294209Z",
     "iopub.status.idle": "2022-11-10T15:42:02.380304Z",
     "shell.execute_reply": "2022-11-10T15:42:02.378952Z"
    },
    "papermill": {
     "duration": 0.121297,
     "end_time": "2022-11-10T15:42:02.383217",
     "exception": false,
     "start_time": "2022-11-10T15:42:02.261920",
     "status": "completed"
    },
    "tags": []
   },
   "outputs": [
    {
     "data": {
      "application/vnd.plotly.v1+json": {
       "config": {
        "plotlyServerURL": "https://plot.ly"
       },
       "data": [
        {
         "alignmentgroup": "True",
         "hovertemplate": "x=%{x}<br>y=%{y}<extra></extra>",
         "legendgroup": "",
         "marker": {
          "color": "#636efa",
          "pattern": {
           "shape": ""
          }
         },
         "name": "",
         "offsetgroup": "",
         "orientation": "v",
         "showlegend": false,
         "textposition": "auto",
         "type": "bar",
         "x": [
          "Arsenal",
          "Aston Villa",
          "Brighton",
          "Burnley",
          "Chelsea",
          "Crystal Palace",
          "Everton",
          "Fulham",
          "Leeds United",
          "Leicester City",
          "Liverpool FC",
          "Manchester City",
          "Manchester United",
          "Newcastle United",
          "Sheffield United",
          "Southampton",
          "Tottenham Hotspur",
          "West Bromwich Albion",
          "West Ham United",
          "Wolverhampton Wanderers"
         ],
         "xaxis": "x",
         "y": [
          17788,
          12768,
          15587,
          10631,
          21633,
          11383,
          14657,
          15164,
          15988,
          16716,
          21513,
          23570,
          18481,
          10601,
          12041,
          14744,
          16126,
          9727,
          12525,
          15223
         ],
         "yaxis": "y"
        }
       ],
       "layout": {
        "barmode": "relative",
        "legend": {
         "tracegroupgap": 0
        },
        "template": {
         "data": {
          "bar": [
           {
            "error_x": {
             "color": "#2a3f5f"
            },
            "error_y": {
             "color": "#2a3f5f"
            },
            "marker": {
             "line": {
              "color": "#E5ECF6",
              "width": 0.5
             },
             "pattern": {
              "fillmode": "overlay",
              "size": 10,
              "solidity": 0.2
             }
            },
            "type": "bar"
           }
          ],
          "barpolar": [
           {
            "marker": {
             "line": {
              "color": "#E5ECF6",
              "width": 0.5
             },
             "pattern": {
              "fillmode": "overlay",
              "size": 10,
              "solidity": 0.2
             }
            },
            "type": "barpolar"
           }
          ],
          "carpet": [
           {
            "aaxis": {
             "endlinecolor": "#2a3f5f",
             "gridcolor": "white",
             "linecolor": "white",
             "minorgridcolor": "white",
             "startlinecolor": "#2a3f5f"
            },
            "baxis": {
             "endlinecolor": "#2a3f5f",
             "gridcolor": "white",
             "linecolor": "white",
             "minorgridcolor": "white",
             "startlinecolor": "#2a3f5f"
            },
            "type": "carpet"
           }
          ],
          "choropleth": [
           {
            "colorbar": {
             "outlinewidth": 0,
             "ticks": ""
            },
            "type": "choropleth"
           }
          ],
          "contour": [
           {
            "colorbar": {
             "outlinewidth": 0,
             "ticks": ""
            },
            "colorscale": [
             [
              0,
              "#0d0887"
             ],
             [
              0.1111111111111111,
              "#46039f"
             ],
             [
              0.2222222222222222,
              "#7201a8"
             ],
             [
              0.3333333333333333,
              "#9c179e"
             ],
             [
              0.4444444444444444,
              "#bd3786"
             ],
             [
              0.5555555555555556,
              "#d8576b"
             ],
             [
              0.6666666666666666,
              "#ed7953"
             ],
             [
              0.7777777777777778,
              "#fb9f3a"
             ],
             [
              0.8888888888888888,
              "#fdca26"
             ],
             [
              1,
              "#f0f921"
             ]
            ],
            "type": "contour"
           }
          ],
          "contourcarpet": [
           {
            "colorbar": {
             "outlinewidth": 0,
             "ticks": ""
            },
            "type": "contourcarpet"
           }
          ],
          "heatmap": [
           {
            "colorbar": {
             "outlinewidth": 0,
             "ticks": ""
            },
            "colorscale": [
             [
              0,
              "#0d0887"
             ],
             [
              0.1111111111111111,
              "#46039f"
             ],
             [
              0.2222222222222222,
              "#7201a8"
             ],
             [
              0.3333333333333333,
              "#9c179e"
             ],
             [
              0.4444444444444444,
              "#bd3786"
             ],
             [
              0.5555555555555556,
              "#d8576b"
             ],
             [
              0.6666666666666666,
              "#ed7953"
             ],
             [
              0.7777777777777778,
              "#fb9f3a"
             ],
             [
              0.8888888888888888,
              "#fdca26"
             ],
             [
              1,
              "#f0f921"
             ]
            ],
            "type": "heatmap"
           }
          ],
          "heatmapgl": [
           {
            "colorbar": {
             "outlinewidth": 0,
             "ticks": ""
            },
            "colorscale": [
             [
              0,
              "#0d0887"
             ],
             [
              0.1111111111111111,
              "#46039f"
             ],
             [
              0.2222222222222222,
              "#7201a8"
             ],
             [
              0.3333333333333333,
              "#9c179e"
             ],
             [
              0.4444444444444444,
              "#bd3786"
             ],
             [
              0.5555555555555556,
              "#d8576b"
             ],
             [
              0.6666666666666666,
              "#ed7953"
             ],
             [
              0.7777777777777778,
              "#fb9f3a"
             ],
             [
              0.8888888888888888,
              "#fdca26"
             ],
             [
              1,
              "#f0f921"
             ]
            ],
            "type": "heatmapgl"
           }
          ],
          "histogram": [
           {
            "marker": {
             "pattern": {
              "fillmode": "overlay",
              "size": 10,
              "solidity": 0.2
             }
            },
            "type": "histogram"
           }
          ],
          "histogram2d": [
           {
            "colorbar": {
             "outlinewidth": 0,
             "ticks": ""
            },
            "colorscale": [
             [
              0,
              "#0d0887"
             ],
             [
              0.1111111111111111,
              "#46039f"
             ],
             [
              0.2222222222222222,
              "#7201a8"
             ],
             [
              0.3333333333333333,
              "#9c179e"
             ],
             [
              0.4444444444444444,
              "#bd3786"
             ],
             [
              0.5555555555555556,
              "#d8576b"
             ],
             [
              0.6666666666666666,
              "#ed7953"
             ],
             [
              0.7777777777777778,
              "#fb9f3a"
             ],
             [
              0.8888888888888888,
              "#fdca26"
             ],
             [
              1,
              "#f0f921"
             ]
            ],
            "type": "histogram2d"
           }
          ],
          "histogram2dcontour": [
           {
            "colorbar": {
             "outlinewidth": 0,
             "ticks": ""
            },
            "colorscale": [
             [
              0,
              "#0d0887"
             ],
             [
              0.1111111111111111,
              "#46039f"
             ],
             [
              0.2222222222222222,
              "#7201a8"
             ],
             [
              0.3333333333333333,
              "#9c179e"
             ],
             [
              0.4444444444444444,
              "#bd3786"
             ],
             [
              0.5555555555555556,
              "#d8576b"
             ],
             [
              0.6666666666666666,
              "#ed7953"
             ],
             [
              0.7777777777777778,
              "#fb9f3a"
             ],
             [
              0.8888888888888888,
              "#fdca26"
             ],
             [
              1,
              "#f0f921"
             ]
            ],
            "type": "histogram2dcontour"
           }
          ],
          "mesh3d": [
           {
            "colorbar": {
             "outlinewidth": 0,
             "ticks": ""
            },
            "type": "mesh3d"
           }
          ],
          "parcoords": [
           {
            "line": {
             "colorbar": {
              "outlinewidth": 0,
              "ticks": ""
             }
            },
            "type": "parcoords"
           }
          ],
          "pie": [
           {
            "automargin": true,
            "type": "pie"
           }
          ],
          "scatter": [
           {
            "fillpattern": {
             "fillmode": "overlay",
             "size": 10,
             "solidity": 0.2
            },
            "type": "scatter"
           }
          ],
          "scatter3d": [
           {
            "line": {
             "colorbar": {
              "outlinewidth": 0,
              "ticks": ""
             }
            },
            "marker": {
             "colorbar": {
              "outlinewidth": 0,
              "ticks": ""
             }
            },
            "type": "scatter3d"
           }
          ],
          "scattercarpet": [
           {
            "marker": {
             "colorbar": {
              "outlinewidth": 0,
              "ticks": ""
             }
            },
            "type": "scattercarpet"
           }
          ],
          "scattergeo": [
           {
            "marker": {
             "colorbar": {
              "outlinewidth": 0,
              "ticks": ""
             }
            },
            "type": "scattergeo"
           }
          ],
          "scattergl": [
           {
            "marker": {
             "colorbar": {
              "outlinewidth": 0,
              "ticks": ""
             }
            },
            "type": "scattergl"
           }
          ],
          "scattermapbox": [
           {
            "marker": {
             "colorbar": {
              "outlinewidth": 0,
              "ticks": ""
             }
            },
            "type": "scattermapbox"
           }
          ],
          "scatterpolar": [
           {
            "marker": {
             "colorbar": {
              "outlinewidth": 0,
              "ticks": ""
             }
            },
            "type": "scatterpolar"
           }
          ],
          "scatterpolargl": [
           {
            "marker": {
             "colorbar": {
              "outlinewidth": 0,
              "ticks": ""
             }
            },
            "type": "scatterpolargl"
           }
          ],
          "scatterternary": [
           {
            "marker": {
             "colorbar": {
              "outlinewidth": 0,
              "ticks": ""
             }
            },
            "type": "scatterternary"
           }
          ],
          "surface": [
           {
            "colorbar": {
             "outlinewidth": 0,
             "ticks": ""
            },
            "colorscale": [
             [
              0,
              "#0d0887"
             ],
             [
              0.1111111111111111,
              "#46039f"
             ],
             [
              0.2222222222222222,
              "#7201a8"
             ],
             [
              0.3333333333333333,
              "#9c179e"
             ],
             [
              0.4444444444444444,
              "#bd3786"
             ],
             [
              0.5555555555555556,
              "#d8576b"
             ],
             [
              0.6666666666666666,
              "#ed7953"
             ],
             [
              0.7777777777777778,
              "#fb9f3a"
             ],
             [
              0.8888888888888888,
              "#fdca26"
             ],
             [
              1,
              "#f0f921"
             ]
            ],
            "type": "surface"
           }
          ],
          "table": [
           {
            "cells": {
             "fill": {
              "color": "#EBF0F8"
             },
             "line": {
              "color": "white"
             }
            },
            "header": {
             "fill": {
              "color": "#C8D4E3"
             },
             "line": {
              "color": "white"
             }
            },
            "type": "table"
           }
          ]
         },
         "layout": {
          "annotationdefaults": {
           "arrowcolor": "#2a3f5f",
           "arrowhead": 0,
           "arrowwidth": 1
          },
          "autotypenumbers": "strict",
          "coloraxis": {
           "colorbar": {
            "outlinewidth": 0,
            "ticks": ""
           }
          },
          "colorscale": {
           "diverging": [
            [
             0,
             "#8e0152"
            ],
            [
             0.1,
             "#c51b7d"
            ],
            [
             0.2,
             "#de77ae"
            ],
            [
             0.3,
             "#f1b6da"
            ],
            [
             0.4,
             "#fde0ef"
            ],
            [
             0.5,
             "#f7f7f7"
            ],
            [
             0.6,
             "#e6f5d0"
            ],
            [
             0.7,
             "#b8e186"
            ],
            [
             0.8,
             "#7fbc41"
            ],
            [
             0.9,
             "#4d9221"
            ],
            [
             1,
             "#276419"
            ]
           ],
           "sequential": [
            [
             0,
             "#0d0887"
            ],
            [
             0.1111111111111111,
             "#46039f"
            ],
            [
             0.2222222222222222,
             "#7201a8"
            ],
            [
             0.3333333333333333,
             "#9c179e"
            ],
            [
             0.4444444444444444,
             "#bd3786"
            ],
            [
             0.5555555555555556,
             "#d8576b"
            ],
            [
             0.6666666666666666,
             "#ed7953"
            ],
            [
             0.7777777777777778,
             "#fb9f3a"
            ],
            [
             0.8888888888888888,
             "#fdca26"
            ],
            [
             1,
             "#f0f921"
            ]
           ],
           "sequentialminus": [
            [
             0,
             "#0d0887"
            ],
            [
             0.1111111111111111,
             "#46039f"
            ],
            [
             0.2222222222222222,
             "#7201a8"
            ],
            [
             0.3333333333333333,
             "#9c179e"
            ],
            [
             0.4444444444444444,
             "#bd3786"
            ],
            [
             0.5555555555555556,
             "#d8576b"
            ],
            [
             0.6666666666666666,
             "#ed7953"
            ],
            [
             0.7777777777777778,
             "#fb9f3a"
            ],
            [
             0.8888888888888888,
             "#fdca26"
            ],
            [
             1,
             "#f0f921"
            ]
           ]
          },
          "colorway": [
           "#636efa",
           "#EF553B",
           "#00cc96",
           "#ab63fa",
           "#FFA15A",
           "#19d3f3",
           "#FF6692",
           "#B6E880",
           "#FF97FF",
           "#FECB52"
          ],
          "font": {
           "color": "#2a3f5f"
          },
          "geo": {
           "bgcolor": "white",
           "lakecolor": "white",
           "landcolor": "#E5ECF6",
           "showlakes": true,
           "showland": true,
           "subunitcolor": "white"
          },
          "hoverlabel": {
           "align": "left"
          },
          "hovermode": "closest",
          "mapbox": {
           "style": "light"
          },
          "paper_bgcolor": "white",
          "plot_bgcolor": "#E5ECF6",
          "polar": {
           "angularaxis": {
            "gridcolor": "white",
            "linecolor": "white",
            "ticks": ""
           },
           "bgcolor": "#E5ECF6",
           "radialaxis": {
            "gridcolor": "white",
            "linecolor": "white",
            "ticks": ""
           }
          },
          "scene": {
           "xaxis": {
            "backgroundcolor": "#E5ECF6",
            "gridcolor": "white",
            "gridwidth": 2,
            "linecolor": "white",
            "showbackground": true,
            "ticks": "",
            "zerolinecolor": "white"
           },
           "yaxis": {
            "backgroundcolor": "#E5ECF6",
            "gridcolor": "white",
            "gridwidth": 2,
            "linecolor": "white",
            "showbackground": true,
            "ticks": "",
            "zerolinecolor": "white"
           },
           "zaxis": {
            "backgroundcolor": "#E5ECF6",
            "gridcolor": "white",
            "gridwidth": 2,
            "linecolor": "white",
            "showbackground": true,
            "ticks": "",
            "zerolinecolor": "white"
           }
          },
          "shapedefaults": {
           "line": {
            "color": "#2a3f5f"
           }
          },
          "ternary": {
           "aaxis": {
            "gridcolor": "white",
            "linecolor": "white",
            "ticks": ""
           },
           "baxis": {
            "gridcolor": "white",
            "linecolor": "white",
            "ticks": ""
           },
           "bgcolor": "#E5ECF6",
           "caxis": {
            "gridcolor": "white",
            "linecolor": "white",
            "ticks": ""
           }
          },
          "title": {
           "x": 0.05
          },
          "xaxis": {
           "automargin": true,
           "gridcolor": "white",
           "linecolor": "white",
           "ticks": "",
           "title": {
            "standoff": 15
           },
           "zerolinecolor": "white",
           "zerolinewidth": 2
          },
          "yaxis": {
           "automargin": true,
           "gridcolor": "white",
           "linecolor": "white",
           "ticks": "",
           "title": {
            "standoff": 15
           },
           "zerolinecolor": "white",
           "zerolinewidth": 2
          }
         }
        },
        "title": {
         "text": "Clubs Completed Passes"
        },
        "xaxis": {
         "anchor": "y",
         "domain": [
          0,
          1
         ],
         "title": {
          "text": "x"
         }
        },
        "yaxis": {
         "anchor": "x",
         "domain": [
          0,
          1
         ],
         "title": {
          "text": "y"
         }
        }
       }
      },
      "text/html": [
       "<div>                            <div id=\"701243a6-62a7-4aad-81d1-7bdad83b8b65\" class=\"plotly-graph-div\" style=\"height:525px; width:100%;\"></div>            <script type=\"text/javascript\">                require([\"plotly\"], function(Plotly) {                    window.PLOTLYENV=window.PLOTLYENV || {};                                    if (document.getElementById(\"701243a6-62a7-4aad-81d1-7bdad83b8b65\")) {                    Plotly.newPlot(                        \"701243a6-62a7-4aad-81d1-7bdad83b8b65\",                        [{\"alignmentgroup\":\"True\",\"hovertemplate\":\"x=%{x}<br>y=%{y}<extra></extra>\",\"legendgroup\":\"\",\"marker\":{\"color\":\"#636efa\",\"pattern\":{\"shape\":\"\"}},\"name\":\"\",\"offsetgroup\":\"\",\"orientation\":\"v\",\"showlegend\":false,\"textposition\":\"auto\",\"x\":[\"Arsenal\",\"Aston Villa\",\"Brighton\",\"Burnley\",\"Chelsea\",\"Crystal Palace\",\"Everton\",\"Fulham\",\"Leeds United\",\"Leicester City\",\"Liverpool FC\",\"Manchester City\",\"Manchester United\",\"Newcastle United\",\"Sheffield United\",\"Southampton\",\"Tottenham Hotspur\",\"West Bromwich Albion\",\"West Ham United\",\"Wolverhampton Wanderers\"],\"xaxis\":\"x\",\"y\":[17788,12768,15587,10631,21633,11383,14657,15164,15988,16716,21513,23570,18481,10601,12041,14744,16126,9727,12525,15223],\"yaxis\":\"y\",\"type\":\"bar\"}],                        {\"template\":{\"data\":{\"histogram2dcontour\":[{\"type\":\"histogram2dcontour\",\"colorbar\":{\"outlinewidth\":0,\"ticks\":\"\"},\"colorscale\":[[0.0,\"#0d0887\"],[0.1111111111111111,\"#46039f\"],[0.2222222222222222,\"#7201a8\"],[0.3333333333333333,\"#9c179e\"],[0.4444444444444444,\"#bd3786\"],[0.5555555555555556,\"#d8576b\"],[0.6666666666666666,\"#ed7953\"],[0.7777777777777778,\"#fb9f3a\"],[0.8888888888888888,\"#fdca26\"],[1.0,\"#f0f921\"]]}],\"choropleth\":[{\"type\":\"choropleth\",\"colorbar\":{\"outlinewidth\":0,\"ticks\":\"\"}}],\"histogram2d\":[{\"type\":\"histogram2d\",\"colorbar\":{\"outlinewidth\":0,\"ticks\":\"\"},\"colorscale\":[[0.0,\"#0d0887\"],[0.1111111111111111,\"#46039f\"],[0.2222222222222222,\"#7201a8\"],[0.3333333333333333,\"#9c179e\"],[0.4444444444444444,\"#bd3786\"],[0.5555555555555556,\"#d8576b\"],[0.6666666666666666,\"#ed7953\"],[0.7777777777777778,\"#fb9f3a\"],[0.8888888888888888,\"#fdca26\"],[1.0,\"#f0f921\"]]}],\"heatmap\":[{\"type\":\"heatmap\",\"colorbar\":{\"outlinewidth\":0,\"ticks\":\"\"},\"colorscale\":[[0.0,\"#0d0887\"],[0.1111111111111111,\"#46039f\"],[0.2222222222222222,\"#7201a8\"],[0.3333333333333333,\"#9c179e\"],[0.4444444444444444,\"#bd3786\"],[0.5555555555555556,\"#d8576b\"],[0.6666666666666666,\"#ed7953\"],[0.7777777777777778,\"#fb9f3a\"],[0.8888888888888888,\"#fdca26\"],[1.0,\"#f0f921\"]]}],\"heatmapgl\":[{\"type\":\"heatmapgl\",\"colorbar\":{\"outlinewidth\":0,\"ticks\":\"\"},\"colorscale\":[[0.0,\"#0d0887\"],[0.1111111111111111,\"#46039f\"],[0.2222222222222222,\"#7201a8\"],[0.3333333333333333,\"#9c179e\"],[0.4444444444444444,\"#bd3786\"],[0.5555555555555556,\"#d8576b\"],[0.6666666666666666,\"#ed7953\"],[0.7777777777777778,\"#fb9f3a\"],[0.8888888888888888,\"#fdca26\"],[1.0,\"#f0f921\"]]}],\"contourcarpet\":[{\"type\":\"contourcarpet\",\"colorbar\":{\"outlinewidth\":0,\"ticks\":\"\"}}],\"contour\":[{\"type\":\"contour\",\"colorbar\":{\"outlinewidth\":0,\"ticks\":\"\"},\"colorscale\":[[0.0,\"#0d0887\"],[0.1111111111111111,\"#46039f\"],[0.2222222222222222,\"#7201a8\"],[0.3333333333333333,\"#9c179e\"],[0.4444444444444444,\"#bd3786\"],[0.5555555555555556,\"#d8576b\"],[0.6666666666666666,\"#ed7953\"],[0.7777777777777778,\"#fb9f3a\"],[0.8888888888888888,\"#fdca26\"],[1.0,\"#f0f921\"]]}],\"surface\":[{\"type\":\"surface\",\"colorbar\":{\"outlinewidth\":0,\"ticks\":\"\"},\"colorscale\":[[0.0,\"#0d0887\"],[0.1111111111111111,\"#46039f\"],[0.2222222222222222,\"#7201a8\"],[0.3333333333333333,\"#9c179e\"],[0.4444444444444444,\"#bd3786\"],[0.5555555555555556,\"#d8576b\"],[0.6666666666666666,\"#ed7953\"],[0.7777777777777778,\"#fb9f3a\"],[0.8888888888888888,\"#fdca26\"],[1.0,\"#f0f921\"]]}],\"mesh3d\":[{\"type\":\"mesh3d\",\"colorbar\":{\"outlinewidth\":0,\"ticks\":\"\"}}],\"scatter\":[{\"fillpattern\":{\"fillmode\":\"overlay\",\"size\":10,\"solidity\":0.2},\"type\":\"scatter\"}],\"parcoords\":[{\"type\":\"parcoords\",\"line\":{\"colorbar\":{\"outlinewidth\":0,\"ticks\":\"\"}}}],\"scatterpolargl\":[{\"type\":\"scatterpolargl\",\"marker\":{\"colorbar\":{\"outlinewidth\":0,\"ticks\":\"\"}}}],\"bar\":[{\"error_x\":{\"color\":\"#2a3f5f\"},\"error_y\":{\"color\":\"#2a3f5f\"},\"marker\":{\"line\":{\"color\":\"#E5ECF6\",\"width\":0.5},\"pattern\":{\"fillmode\":\"overlay\",\"size\":10,\"solidity\":0.2}},\"type\":\"bar\"}],\"scattergeo\":[{\"type\":\"scattergeo\",\"marker\":{\"colorbar\":{\"outlinewidth\":0,\"ticks\":\"\"}}}],\"scatterpolar\":[{\"type\":\"scatterpolar\",\"marker\":{\"colorbar\":{\"outlinewidth\":0,\"ticks\":\"\"}}}],\"histogram\":[{\"marker\":{\"pattern\":{\"fillmode\":\"overlay\",\"size\":10,\"solidity\":0.2}},\"type\":\"histogram\"}],\"scattergl\":[{\"type\":\"scattergl\",\"marker\":{\"colorbar\":{\"outlinewidth\":0,\"ticks\":\"\"}}}],\"scatter3d\":[{\"type\":\"scatter3d\",\"line\":{\"colorbar\":{\"outlinewidth\":0,\"ticks\":\"\"}},\"marker\":{\"colorbar\":{\"outlinewidth\":0,\"ticks\":\"\"}}}],\"scattermapbox\":[{\"type\":\"scattermapbox\",\"marker\":{\"colorbar\":{\"outlinewidth\":0,\"ticks\":\"\"}}}],\"scatterternary\":[{\"type\":\"scatterternary\",\"marker\":{\"colorbar\":{\"outlinewidth\":0,\"ticks\":\"\"}}}],\"scattercarpet\":[{\"type\":\"scattercarpet\",\"marker\":{\"colorbar\":{\"outlinewidth\":0,\"ticks\":\"\"}}}],\"carpet\":[{\"aaxis\":{\"endlinecolor\":\"#2a3f5f\",\"gridcolor\":\"white\",\"linecolor\":\"white\",\"minorgridcolor\":\"white\",\"startlinecolor\":\"#2a3f5f\"},\"baxis\":{\"endlinecolor\":\"#2a3f5f\",\"gridcolor\":\"white\",\"linecolor\":\"white\",\"minorgridcolor\":\"white\",\"startlinecolor\":\"#2a3f5f\"},\"type\":\"carpet\"}],\"table\":[{\"cells\":{\"fill\":{\"color\":\"#EBF0F8\"},\"line\":{\"color\":\"white\"}},\"header\":{\"fill\":{\"color\":\"#C8D4E3\"},\"line\":{\"color\":\"white\"}},\"type\":\"table\"}],\"barpolar\":[{\"marker\":{\"line\":{\"color\":\"#E5ECF6\",\"width\":0.5},\"pattern\":{\"fillmode\":\"overlay\",\"size\":10,\"solidity\":0.2}},\"type\":\"barpolar\"}],\"pie\":[{\"automargin\":true,\"type\":\"pie\"}]},\"layout\":{\"autotypenumbers\":\"strict\",\"colorway\":[\"#636efa\",\"#EF553B\",\"#00cc96\",\"#ab63fa\",\"#FFA15A\",\"#19d3f3\",\"#FF6692\",\"#B6E880\",\"#FF97FF\",\"#FECB52\"],\"font\":{\"color\":\"#2a3f5f\"},\"hovermode\":\"closest\",\"hoverlabel\":{\"align\":\"left\"},\"paper_bgcolor\":\"white\",\"plot_bgcolor\":\"#E5ECF6\",\"polar\":{\"bgcolor\":\"#E5ECF6\",\"angularaxis\":{\"gridcolor\":\"white\",\"linecolor\":\"white\",\"ticks\":\"\"},\"radialaxis\":{\"gridcolor\":\"white\",\"linecolor\":\"white\",\"ticks\":\"\"}},\"ternary\":{\"bgcolor\":\"#E5ECF6\",\"aaxis\":{\"gridcolor\":\"white\",\"linecolor\":\"white\",\"ticks\":\"\"},\"baxis\":{\"gridcolor\":\"white\",\"linecolor\":\"white\",\"ticks\":\"\"},\"caxis\":{\"gridcolor\":\"white\",\"linecolor\":\"white\",\"ticks\":\"\"}},\"coloraxis\":{\"colorbar\":{\"outlinewidth\":0,\"ticks\":\"\"}},\"colorscale\":{\"sequential\":[[0.0,\"#0d0887\"],[0.1111111111111111,\"#46039f\"],[0.2222222222222222,\"#7201a8\"],[0.3333333333333333,\"#9c179e\"],[0.4444444444444444,\"#bd3786\"],[0.5555555555555556,\"#d8576b\"],[0.6666666666666666,\"#ed7953\"],[0.7777777777777778,\"#fb9f3a\"],[0.8888888888888888,\"#fdca26\"],[1.0,\"#f0f921\"]],\"sequentialminus\":[[0.0,\"#0d0887\"],[0.1111111111111111,\"#46039f\"],[0.2222222222222222,\"#7201a8\"],[0.3333333333333333,\"#9c179e\"],[0.4444444444444444,\"#bd3786\"],[0.5555555555555556,\"#d8576b\"],[0.6666666666666666,\"#ed7953\"],[0.7777777777777778,\"#fb9f3a\"],[0.8888888888888888,\"#fdca26\"],[1.0,\"#f0f921\"]],\"diverging\":[[0,\"#8e0152\"],[0.1,\"#c51b7d\"],[0.2,\"#de77ae\"],[0.3,\"#f1b6da\"],[0.4,\"#fde0ef\"],[0.5,\"#f7f7f7\"],[0.6,\"#e6f5d0\"],[0.7,\"#b8e186\"],[0.8,\"#7fbc41\"],[0.9,\"#4d9221\"],[1,\"#276419\"]]},\"xaxis\":{\"gridcolor\":\"white\",\"linecolor\":\"white\",\"ticks\":\"\",\"title\":{\"standoff\":15},\"zerolinecolor\":\"white\",\"automargin\":true,\"zerolinewidth\":2},\"yaxis\":{\"gridcolor\":\"white\",\"linecolor\":\"white\",\"ticks\":\"\",\"title\":{\"standoff\":15},\"zerolinecolor\":\"white\",\"automargin\":true,\"zerolinewidth\":2},\"scene\":{\"xaxis\":{\"backgroundcolor\":\"#E5ECF6\",\"gridcolor\":\"white\",\"linecolor\":\"white\",\"showbackground\":true,\"ticks\":\"\",\"zerolinecolor\":\"white\",\"gridwidth\":2},\"yaxis\":{\"backgroundcolor\":\"#E5ECF6\",\"gridcolor\":\"white\",\"linecolor\":\"white\",\"showbackground\":true,\"ticks\":\"\",\"zerolinecolor\":\"white\",\"gridwidth\":2},\"zaxis\":{\"backgroundcolor\":\"#E5ECF6\",\"gridcolor\":\"white\",\"linecolor\":\"white\",\"showbackground\":true,\"ticks\":\"\",\"zerolinecolor\":\"white\",\"gridwidth\":2}},\"shapedefaults\":{\"line\":{\"color\":\"#2a3f5f\"}},\"annotationdefaults\":{\"arrowcolor\":\"#2a3f5f\",\"arrowhead\":0,\"arrowwidth\":1},\"geo\":{\"bgcolor\":\"white\",\"landcolor\":\"#E5ECF6\",\"subunitcolor\":\"white\",\"showland\":true,\"showlakes\":true,\"lakecolor\":\"white\"},\"title\":{\"x\":0.05},\"mapbox\":{\"style\":\"light\"}}},\"xaxis\":{\"anchor\":\"y\",\"domain\":[0.0,1.0],\"title\":{\"text\":\"x\"}},\"yaxis\":{\"anchor\":\"x\",\"domain\":[0.0,1.0],\"title\":{\"text\":\"y\"}},\"legend\":{\"tracegroupgap\":0},\"title\":{\"text\":\"Clubs Completed Passes\"},\"barmode\":\"relative\"},                        {\"responsive\": true}                    ).then(function(){\n",
       "                            \n",
       "var gd = document.getElementById('701243a6-62a7-4aad-81d1-7bdad83b8b65');\n",
       "var x = new MutationObserver(function (mutations, observer) {{\n",
       "        var display = window.getComputedStyle(gd).display;\n",
       "        if (!display || display === 'none') {{\n",
       "            console.log([gd, 'removed!']);\n",
       "            Plotly.purge(gd);\n",
       "            observer.disconnect();\n",
       "        }}\n",
       "}});\n",
       "\n",
       "// Listen for the removal of the full notebook cells\n",
       "var notebookContainer = gd.closest('#notebook-container');\n",
       "if (notebookContainer) {{\n",
       "    x.observe(notebookContainer, {childList: true});\n",
       "}}\n",
       "\n",
       "// Listen for the clearing of the current output cell\n",
       "var outputEl = gd.closest('.output');\n",
       "if (outputEl) {{\n",
       "    x.observe(outputEl, {childList: true});\n",
       "}}\n",
       "\n",
       "                        })                };                });            </script>        </div>"
      ]
     },
     "metadata": {},
     "output_type": "display_data"
    }
   ],
   "source": [
    "fig = px.bar(x=index, y=value , title=\"Clubs Completed Passes\")\n",
    "fig.show()"
   ]
  },
  {
   "cell_type": "markdown",
   "id": "2debe679",
   "metadata": {
    "papermill": {
     "duration": 0.036276,
     "end_time": "2022-11-10T15:42:02.457149",
     "exception": false,
     "start_time": "2022-11-10T15:42:02.420873",
     "status": "completed"
    },
    "tags": []
   },
   "source": [
    "# Q4: The nationality of the players with the most aggressiveness"
   ]
  },
  {
   "cell_type": "code",
   "execution_count": 26,
   "id": "a2eafff1",
   "metadata": {
    "execution": {
     "iopub.execute_input": "2022-11-10T15:42:02.534906Z",
     "iopub.status.busy": "2022-11-10T15:42:02.533382Z",
     "iopub.status.idle": "2022-11-10T15:42:02.553159Z",
     "shell.execute_reply": "2022-11-10T15:42:02.551760Z"
    },
    "papermill": {
     "duration": 0.061618,
     "end_time": "2022-11-10T15:42:02.555786",
     "exception": false,
     "start_time": "2022-11-10T15:42:02.494168",
     "status": "completed"
    },
    "tags": []
   },
   "outputs": [
    {
     "data": {
      "text/html": [
       "<div>\n",
       "<style scoped>\n",
       "    .dataframe tbody tr th:only-of-type {\n",
       "        vertical-align: middle;\n",
       "    }\n",
       "\n",
       "    .dataframe tbody tr th {\n",
       "        vertical-align: top;\n",
       "    }\n",
       "\n",
       "    .dataframe thead th {\n",
       "        text-align: right;\n",
       "    }\n",
       "</style>\n",
       "<table border=\"1\" class=\"dataframe\">\n",
       "  <thead>\n",
       "    <tr style=\"text-align: right;\">\n",
       "      <th></th>\n",
       "      <th>Yellow_Cards</th>\n",
       "      <th>Nationality</th>\n",
       "      <th>Player</th>\n",
       "    </tr>\n",
       "  </thead>\n",
       "  <tbody>\n",
       "    <tr>\n",
       "      <th>266</th>\n",
       "      <td>12</td>\n",
       "      <td>SCO</td>\n",
       "      <td>John McGinn</td>\n",
       "    </tr>\n",
       "    <tr>\n",
       "      <th>53</th>\n",
       "      <td>11</td>\n",
       "      <td>ENG</td>\n",
       "      <td>Harry Maguire</td>\n",
       "    </tr>\n",
       "    <tr>\n",
       "      <th>480</th>\n",
       "      <td>11</td>\n",
       "      <td>ENG</td>\n",
       "      <td>Conor Gallagher</td>\n",
       "    </tr>\n",
       "    <tr>\n",
       "      <th>218</th>\n",
       "      <td>10</td>\n",
       "      <td>ENG</td>\n",
       "      <td>Kalvin Phillips</td>\n",
       "    </tr>\n",
       "    <tr>\n",
       "      <th>270</th>\n",
       "      <td>10</td>\n",
       "      <td>BRA</td>\n",
       "      <td>Douglas Luiz</td>\n",
       "    </tr>\n",
       "    <tr>\n",
       "      <th>...</th>\n",
       "      <td>...</td>\n",
       "      <td>...</td>\n",
       "      <td>...</td>\n",
       "    </tr>\n",
       "    <tr>\n",
       "      <th>362</th>\n",
       "      <td>0</td>\n",
       "      <td>FRA</td>\n",
       "      <td>Mamadou Sakho</td>\n",
       "    </tr>\n",
       "    <tr>\n",
       "      <th>363</th>\n",
       "      <td>0</td>\n",
       "      <td>FRA</td>\n",
       "      <td>Jean-Philippe Mateta</td>\n",
       "    </tr>\n",
       "    <tr>\n",
       "      <th>364</th>\n",
       "      <td>0</td>\n",
       "      <td>ENG</td>\n",
       "      <td>Jack Butland</td>\n",
       "    </tr>\n",
       "    <tr>\n",
       "      <th>365</th>\n",
       "      <td>0</td>\n",
       "      <td>ENG</td>\n",
       "      <td>Martin Kelly</td>\n",
       "    </tr>\n",
       "    <tr>\n",
       "      <th>531</th>\n",
       "      <td>0</td>\n",
       "      <td>ENG</td>\n",
       "      <td>Femi Seriki</td>\n",
       "    </tr>\n",
       "  </tbody>\n",
       "</table>\n",
       "<p>532 rows × 3 columns</p>\n",
       "</div>"
      ],
      "text/plain": [
       "     Yellow_Cards Nationality                Player\n",
       "266            12         SCO           John McGinn\n",
       "53             11         ENG         Harry Maguire\n",
       "480            11         ENG       Conor Gallagher\n",
       "218            10         ENG       Kalvin Phillips\n",
       "270            10         BRA          Douglas Luiz\n",
       "..            ...         ...                   ...\n",
       "362             0         FRA         Mamadou Sakho\n",
       "363             0         FRA  Jean-Philippe Mateta\n",
       "364             0         ENG          Jack Butland\n",
       "365             0         ENG          Martin Kelly\n",
       "531             0         ENG           Femi Seriki\n",
       "\n",
       "[532 rows x 3 columns]"
      ]
     },
     "execution_count": 26,
     "metadata": {},
     "output_type": "execute_result"
    }
   ],
   "source": [
    "nation_df = pd.DataFrame(df.Yellow_Cards.sort_values(ascending= False))\n",
    "nation_df['Nationality'] = df[\"Nationality\"]\n",
    "nation_df['Player'] = df.Name\n",
    "nation_df"
   ]
  },
  {
   "cell_type": "code",
   "execution_count": 27,
   "id": "cff8096f",
   "metadata": {
    "execution": {
     "iopub.execute_input": "2022-11-10T15:42:02.632897Z",
     "iopub.status.busy": "2022-11-10T15:42:02.631682Z",
     "iopub.status.idle": "2022-11-10T15:42:02.697000Z",
     "shell.execute_reply": "2022-11-10T15:42:02.695758Z"
    },
    "papermill": {
     "duration": 0.108438,
     "end_time": "2022-11-10T15:42:02.701257",
     "exception": false,
     "start_time": "2022-11-10T15:42:02.592819",
     "status": "completed"
    },
    "tags": []
   },
   "outputs": [
    {
     "data": {
      "application/vnd.plotly.v1+json": {
       "config": {
        "plotlyServerURL": "https://plot.ly"
       },
       "data": [
        {
         "autocolorscale": false,
         "colorscale": [
          [
           0,
           "rgb(247,251,255)"
          ],
          [
           0.125,
           "rgb(222,235,247)"
          ],
          [
           0.25,
           "rgb(198,219,239)"
          ],
          [
           0.375,
           "rgb(158,202,225)"
          ],
          [
           0.5,
           "rgb(107,174,214)"
          ],
          [
           0.625,
           "rgb(66,146,198)"
          ],
          [
           0.75,
           "rgb(33,113,181)"
          ],
          [
           0.875,
           "rgb(8,81,156)"
          ],
          [
           1,
           "rgb(8,48,107)"
          ]
         ],
         "locations": [
          "SCO",
          "ENG",
          "ENG",
          "ENG",
          "BRA",
          "DEN",
          "ENG",
          "ENG",
          "SRB",
          "POR",
          "ENG",
          "ENG",
          "ESP",
          "ENG",
          "MLI",
          "ENG",
          "FRA",
          "JAM",
          "CZE",
          "ENG",
          "NIR",
          "ENG",
          "MKD",
          "FRA",
          "ENG",
          "NIR",
          "IRL",
          "ENG",
          "IRL",
          "SUI",
          "DEN",
          "CMR",
          "BRA",
          "FRA",
          "BRA",
          "CIV",
          "ENG",
          "BRA",
          "NGA",
          "BEL",
          "ESP",
          "ARG",
          "POR",
          "ENG",
          "NIR",
          "IRL",
          "ENG",
          "POL",
          "ESP",
          "ENG",
          "ENG",
          "ITA",
          "POR",
          "POR",
          "ENG",
          "ENG",
          "SEN",
          "ENG",
          "POL",
          "GHA",
          "ENG",
          "ENG",
          "ENG",
          "MLI",
          "ENG",
          "ENG",
          "POR",
          "ESP",
          "POR",
          "BRA",
          "GAB",
          "ESP",
          "ARG",
          "ENG",
          "ENG",
          "ENG",
          "BRA",
          "ENG",
          "IRL",
          "SWE",
          "BRA",
          "ENG",
          "SUI",
          "ENG",
          "ENG",
          "ENG",
          "ENG",
          "COL",
          "ENG",
          "SCO",
          "SEN",
          "SCO",
          "AUT",
          "NED",
          "GHA",
          "POR",
          "ENG",
          "BRA",
          "ESP",
          "ESP",
          "ARG",
          "BEL",
          "NIR",
          "ENG",
          "NOR",
          "ENG",
          "POR",
          "URU",
          "USA",
          "ENG",
          "ENG",
          "ENG",
          "ESP",
          "SCO",
          "CRO",
          "NED",
          "ENG",
          "TUR",
          "ENG",
          "ENG",
          "ENG",
          "SCO",
          "FRA",
          "ENG",
          "BRA",
          "WAL",
          "UKR",
          "POR",
          "ZIM",
          "CIV",
          "EGY",
          "ENG",
          "FRA",
          "IRL",
          "NED",
          "FRA",
          "ENG",
          "ENG",
          "FRA",
          "BRA",
          "SRB",
          "BRA",
          "IRL",
          "NED",
          "ENG",
          "MAR",
          "WAL",
          "NGA",
          "FRA",
          "FRA",
          "NED",
          "ENG",
          "GHA",
          "POR",
          "ENG",
          "ENG",
          "SEN",
          "SCO",
          "IRN",
          "ENG",
          "ENG",
          "TUR",
          "NED",
          "ENG",
          "DEN",
          "GER",
          "FRA",
          "ENG",
          "GHA",
          "PAR",
          "SCO",
          "ENG",
          "ENG",
          "NGA",
          "ENG",
          "WAL",
          "ESP",
          "ESP",
          "ENG",
          "CZE",
          "POR",
          "ENG",
          "IRL",
          "ENG",
          "BEL",
          "ENG",
          "FRA",
          "IRL",
          "SRB",
          "ENG",
          "SCO",
          "WAL",
          "SEN",
          "BRA",
          "SCO",
          "SCO",
          "COL",
          "ENG",
          "ISL",
          "FRA",
          "NED",
          "WAL",
          "EGY",
          "ENG",
          "ESP",
          "POR",
          "FRA",
          "SCO",
          "IRL",
          "NED",
          "ISL",
          "ENG",
          "ENG",
          "ENG",
          "COL",
          "ESP",
          "ENG",
          "BEL",
          "BRA",
          "POR",
          "CIV",
          "MAR",
          "SCO",
          "SCO",
          "ENG",
          "SCO",
          "JAM",
          "ENG",
          "FRA",
          "BRA",
          "ENG",
          "SKN",
          "ENG",
          "ENG",
          "SEN",
          "ENG",
          "ENG",
          "ENG",
          "ENG",
          "GER",
          "DEN",
          "ESP",
          "ENG",
          "POL",
          "ENG",
          "ENG",
          "ESP",
          "CMR",
          "SCO",
          "COD",
          "FRA",
          "SUI",
          "GAB",
          "ENG",
          "ENG",
          "BRA",
          "ENG",
          "BEL",
          "USA",
          "POR",
          "BRA",
          "TUR",
          "ITA",
          "ESP",
          "ENG",
          "BRA",
          "SRB",
          "ENG",
          "GER",
          "ENG",
          "ENG",
          "ENG",
          "NED",
          "NGA",
          "ENG",
          "FRA",
          "ENG",
          "ARG",
          "SCO",
          "IRL",
          "FRA",
          "ESP",
          "AUS",
          "ENG",
          "POR",
          "SCO",
          "ENG",
          "NED",
          "ENG",
          "ENG",
          "BEL",
          "ENG",
          "ENG",
          "JPN",
          "ENG",
          "GHA",
          "ENG",
          "IRL",
          "ENG",
          "PAR",
          "ENG",
          "SWE",
          "ENG",
          "MTN",
          "USA",
          "ENG",
          "ENG",
          "ENG",
          "ENG",
          "NED",
          "ENG",
          "ARG",
          "ENG",
          "ESP",
          "ENG",
          "AUS",
          "BFA",
          "ESP",
          "ENG",
          "FRA",
          "ARG",
          "ENG",
          "TUR",
          "ENG",
          "FRA",
          "ENG",
          "ENG",
          "SWE",
          "ENG",
          "ESP",
          "ENG",
          "ENG",
          "GER",
          "NED",
          "ESP",
          "ENG",
          "BRA",
          "ENG",
          "POR",
          "BRA",
          "NED",
          "BEL",
          "GER",
          "ENG",
          "ENG",
          "ENG",
          "BRA",
          "CIV",
          "FRA",
          "WAL",
          "BEL",
          "COL",
          "ENG",
          "WAL",
          "NED",
          "GUI",
          "WAL",
          "WAL",
          "ENG",
          "NIR",
          "NGA",
          "ENG",
          "ENG",
          "ENG",
          "CIV",
          "SWE",
          "ENG",
          "NZL",
          "ENG",
          "CZE",
          "EGY",
          "FRA",
          "ENG",
          "ESP",
          "BRA",
          "ENG",
          "CRO",
          "ITA",
          "POL",
          "ENG",
          "ENG",
          "EGY",
          "ENG",
          "ENG",
          "ENG",
          "ENG",
          "ARG",
          "SCO",
          "ENG",
          "ENG",
          "GER",
          "ENG",
          "FRA",
          "ENG",
          "FRA",
          "ENG",
          "ENG",
          "ENG",
          "ALG",
          "ENG",
          "FRA",
          "ESP",
          "SWE",
          "ENG",
          "NGA",
          "USA",
          "ENG",
          "USA",
          "ESP",
          "SVK",
          "IRL",
          "ARG",
          "COD",
          "NED",
          "AUS",
          "IRL",
          "UKR",
          "ENG",
          "ENG",
          "ENG",
          "ENG",
          "ENG",
          "GER",
          "FRA",
          "NOR",
          "ENG",
          "IRL",
          "ENG",
          "ENG",
          "BRA",
          "ENG",
          "BRA",
          "ENG",
          "GER",
          "ENG",
          "ENG",
          "EGY",
          "WAL",
          "SVK",
          "ENG",
          "CIV",
          "USA",
          "ENG",
          "ENG",
          "SCO",
          "KOR",
          "FRA",
          "BRA",
          "ENG",
          "BRA",
          "COL",
          "NOR",
          "WAL",
          "ENG",
          "SUI",
          "ESP",
          "ENG",
          "POR",
          "IRL",
          "NGA",
          "FRA",
          "ENG",
          "ENG",
          "POR",
          "ENG",
          "ITA",
          "ENG",
          "CIV",
          "WAL",
          "ISL",
          "GER",
          "ENG",
          "BIH",
          "AUS",
          "ENG",
          "ENG",
          "SCO",
          "IRL",
          "BRA",
          "JPN",
          "IRL",
          "BEL",
          "ENG",
          "IRL",
          "IRL",
          "FRA",
          "ENG",
          "SUI",
          "ENG",
          "IRL",
          "FRA",
          "ESP",
          "CIV",
          "ENG",
          "ENG",
          "ENG",
          "ENG",
          "ENG",
          "IRL",
          "POL",
          "NED",
          "BRA",
          "RSA",
          "SUI",
          "GRE",
          "ENG",
          "DEN",
          "ENG",
          "MEX",
          "ESP",
          "POR",
          "POR",
          "ENG",
          "ITA",
          "DEN",
          "CAN",
          "ALG",
          "ENG",
          "ENG",
          "RSA",
          "JAM",
          "ENG",
          "ALG",
          "POR",
          "TUR",
          "BEL",
          "BEL",
          "FRA",
          "FRA",
          "ENG",
          "ENG",
          "ENG"
         ],
         "marker": {
          "line": {
           "color": "darkgray",
           "width": 0.5
          }
         },
         "reversescale": true,
         "text": [
          "John McGinn",
          "Harry Maguire",
          "Conor Gallagher",
          "Kalvin Phillips",
          "Douglas Luiz",
          "Pierre Højbjerg",
          "Mason Holgate",
          "John Lundstram",
          "Luka Milivojević",
          "Rúben Neves",
          "Luke Shaw",
          "Isaac Hayden",
          "Héctor Bellerín",
          "Matty Cash",
          "Yves Bissouma",
          "Luke Ayling",
          "N'Golo Kanté",
          "Bobby Reid",
          "Tomáš Souček",
          "Jonjo Shelvey",
          "Stuart Dallas",
          "Ashley Westwood",
          "Ezgjan Alioski",
          "Wesley Fofana",
          "George Baldock",
          "Jonny Evans",
          "John Egan",
          "Matt Targett",
          "David McGoldrick",
          "Granit Xhaka",
          "Joachim Andersen",
          "Andre-Frank Zambo Anguissa",
          "Allan",
          "Abdoulaye Doucouré",
          "Fabinho",
          "Wilfried Zaha",
          "James Tarkowski",
          "Fernandinho",
          "Wilfred Ndidi",
          "Youri Tielemans",
          "Oriol Romeu",
          "Érik Lamela",
          "Bruno Fernandes",
          "Jack Grealish",
          "Oliver Norwood",
          "Enda Stevens",
          "Tyrone Mings",
          "Mateusz Klich",
          "Rodri",
          "Matthew Lowton",
          "Darnell Furlong",
          "Angelo Ogbonna",
          "Bernardo Silva",
          "João Cancelo",
          "Joel Ward",
          "James Ward-Prowse",
          "Nampalys Mendy",
          "Ademola Lookman",
          "Jan Bednarek",
          "Thomas Partey",
          "Dan Burn",
          "Ryan Bertrand",
          "Chris Basham",
          "Moussa Djenepo",
          "Lewis Dunk",
          "Craig Dawson",
          "Nélson Semedo",
          "Sergio Reguilón",
          "João Moutinho",
          "Fred",
          "Mario Lemina",
          "César Azpilicueta",
          "Giovani Lo Celso",
          "Ben White",
          "Harrison Reed",
          "Harry Winks",
          "Thiago Silva",
          "Conor Coady",
          "Matt Doherty",
          "Emil Krafth",
          "Richarlison",
          "Ollie Watkins",
          "Fabian Schär",
          "James Maddison",
          "James Justin",
          "Jamaal Lascelles",
          "Kyle Walker-Peters",
          "James Rodríguez",
          "Max Kilman",
          "Kieran Tierney",
          "Cheikhou Kouyaté",
          "Liam Cooper",
          "Christian Fuchs",
          "Jaïro Riedewald",
          "Jordan Ayew",
          "Pedro Neto",
          "Ben Godfrey",
          "Gabriel Dos Santos",
          "Adama Traoré",
          "Dani Ceballos",
          "Federico Fernández",
          "Leander Dendoncker",
          "Jamal Lewis",
          "Michael Keane",
          "Sander Berge",
          "Tariq Lamptey",
          "Rúben Dias",
          "Edinson Cavani",
          "Antonee Robinson",
          "Ashley Barnes",
          "Marcus Rashford",
          "Raheem Sterling",
          "Thiago Alcántara",
          "John Fleck",
          "Mateo Kovačić",
          "Nathan Aké",
          "Adam Webster",
          "Okay Yokuşlu",
          "Kyle Bartley",
          "Jacob Murphy",
          "Dean Henderson",
          "Scott McTominay",
          "Paul Pogba",
          "Ruben Loftus-Cheek",
          "Joelinton",
          "Daniel James",
          "Andriy Yarmolenko",
          "Daniel Podence",
          "Marvelous Nakamba",
          "Eric Bailly",
          "Mohamed Elneny",
          "Eric Dier",
          "Tanguy Ndombele",
          "Jeff Hendrick",
          "Kenny Tete",
          "Alexandre Lacazette",
          "Tom Davies",
          "Aaron Wan-Bissaka",
          "Moussa Sissoko",
          "Raphael Dias Belloli",
          "Aleksandar Mitrović",
          "Ederson",
          "Ciaran Clark",
          "Steven Bergwijn",
          "Patrick Bamford",
          "Hakim Ziyech",
          "Ethan Ampadu",
          "Semi Ajayi",
          "Ibrahima Diallo",
          "Issa Diop",
          "Pascal Struijk",
          "Ben Chilwell",
          "Jeffrey Schlupp",
          "Ricardo Pereira",
          "Ben Mee",
          "Reece James",
          "Sadio Mané",
          "Stuart Armstrong",
          "Alireza Jahanbakhsh",
          "James Milner",
          "Ezri Konsa",
          "Ozan Kabak",
          "Joël Veltman",
          "Jack Robinson",
          "Jannik Vestergaard",
          "Pascal Groß",
          "Morgan Sanson",
          "Dominic Calvert-Lewin",
          "Daniel Amartey",
          "Miguel Almirón",
          "James McArthur",
          "Karl Darlow",
          "Jesse Lingard",
          "Ola Aina",
          "Michail Antonio",
          "Tyler Roberts",
          "Rodrigo",
          "Pablo Fornals",
          "Eberechi Eze",
          "Vladimír Coufal",
          "André Gomes",
          "Aaron Cresswell",
          "Robbie Brady",
          "Jay Rodriguez",
          "Christian Benteke",
          "Gary Cahill",
          "Kurt Zouma",
          "Dara O'Shea",
          "Branislav Ivanović",
          "Nathan Tella",
          "Robert Snodgrass",
          "Hal Robson-Kanu",
          "Edouard Mendy",
          "Bernard",
          "Oliver Burke",
          "Oliver McBurnie",
          "Yerry Mina",
          "Jayden Bogle",
          "Gylfi Sigurðsson",
          "Lucas Digne",
          "Anwar El Ghazi",
          "Paul Dummett",
          "Ahmed Elmohamady",
          "Jack Cork",
          "Vicente Guaita",
          "Ivan Cavaleiro",
          "Alphonse Areola",
          "Phil Bardsley",
          "Kevin Long",
          "Patrick van Aanholt",
          "Jóhann Berg Guðmundsson",
          "Kortney Hause",
          "Nathaniel Clyne",
          "Josh Brownhill",
          "Steven Alzate",
          "Robert Sánchez",
          "Jack Stephens",
          "Leandro Trossard",
          "Fernando Marçal",
          "Fábio Silva",
          "Willy Boly",
          "Romain Saïss",
          "Ryan Fraser",
          "Tom Cairney",
          "Joe Bryan",
          "Matt Ritchie",
          "Michael Hector",
          "Sean Longstaff",
          "Maxime Le Marchand",
          "Matheus Pereira",
          "Callum Wilson",
          "Romaine Sawyers",
          "Jake Livermore",
          "Ainsley Maitland-Niles",
          "Mbaye Diagne",
          "Alex McCarthy",
          "Mason Mount",
          "Axel Tuanzebe",
          "Nathaniel Phillips",
          "Kai Havertz",
          "Andreas Christensen",
          "Marcos Alonso",
          "Trent Alexander-Arnold",
          "Łukasz Fabiański",
          "Declan Rice",
          "Curtis Jones",
          "Pablo Marí",
          "Joël Matip",
          "Andrew Robertson",
          "Arthur Masuaku",
          "Benjamin Mendy",
          "Xherdan Shaqiri",
          "Pierre-Emerick Aubameyang",
          "Rob Holding",
          "Ryan Fredericks",
          "Carlos Vinícius",
          "Japhet Tanganga",
          "Toby Alderweireld",
          "Christian Pulisic",
          "Diogo Jota",
          "Gabriel Jesus",
          "Çağlar Söyüncü",
          "Jorginho",
          "Ayoze Pérez",
          "Mason Greenwood",
          "Roberto Firmino",
          "Nemanja Matić",
          "Luke Thomas",
          "Timo Werner",
          "Jack Harrison",
          "Marc Albrighton",
          "Jamie Vardy",
          "Donny van de Beek",
          "Kelechi Iheanacho",
          "Mark Noble",
          "Rayan Aït Nouri",
          "Ben Johnson",
          "Manuel Lanzini",
          "Che Adams",
          "Jimmy Dunne",
          "Aymeric Laporte",
          "Ferrán Torres",
          "Caleb Watts",
          "Harry Kane",
          "Rui Patrício",
          "Matt Phillips",
          "Andy Carroll",
          "Timothy Fosu-Mensah",
          "Tyrick Mitchell",
          "Danny Ings",
          "Denis Odoi",
          "Nathan Redmond",
          "Tosin Adarabioyo",
          "Takumi Minamino",
          "Scott Dann",
          "Mohammed Salisu",
          "Josh Onomah",
          "James McCarthy",
          "Kyle Walker",
          "Fabián Balbuena",
          "Kayne Ramsey",
          "Joel Mumbongo",
          "Jordan Pickford",
          "Aboubakar Kamara",
          "Owen Otasowie",
          "Morgan Gibbs-White",
          "James Tomkins",
          "Dale Stephens",
          "Hamza Choudhury",
          "Ki-Jana Hoever",
          "Sam Johnstone",
          "Alexis Mac Allister",
          "Charlie Taylor",
          "Javier Manquillo",
          "Aaron Ramsdale",
          "Mathew Ryan",
          "Bertrand Traoré",
          "Kepa Arrizabalaga",
          "Joe Willock",
          "Olivier Giroud",
          "Emiliano Martínez",
          "Ben Osborn",
          "Cenk Tosun",
          "Rhian Brewster",
          "Niels Nkounkou",
          "Kean Bryan",
          "Fabian Delph",
          "Robin Olsen",
          "Billy Sharp",
          "Diego Llorente",
          "Max Lowe",
          "Phil Jagielka",
          "Robin Koch",
          "Georginio Wijnaldum",
          "Pablo Hernández",
          "Nick Pope",
          "Alisson",
          "Dwight McNeil",
          "Cédric Soares",
          "Lucas Moura",
          "Virgil van Dijk",
          "Kevin De Bruyne",
          "İlkay Gündoğan",
          "Karlan Grant",
          "Kieran Gibbs",
          "Bukayo Saka",
          "David Luiz",
          "Nicolas Pépé",
          "Neal Maupay",
          "Ben Davies",
          "Timothy Castagne",
          "Davinson Sánchez",
          "Lee Peltier",
          "Neil Taylor",
          "Erik Pieters",
          "Naby Keïta",
          "Neco Williams",
          "Gareth Bale",
          "Shola Shoretire",
          "Bailey Peacock-Farrell",
          "Odion Ighalo",
          "Will Norris",
          "Brandon Williams",
          "Josh Benson",
          "Amad Diallo",
          "Anthony Elanga",
          "Lewis Richardson",
          "Chris Wood",
          "William Thomas Fish",
          "Matěj Vydra",
          "Mohamed Salah",
          "Hannibal Mejbri",
          "Leif Davis",
          "Juan Mata",
          "Alex Telles",
          "Fikayo Tomori",
          "Filip Krovinović",
          "Emerson Palmieri",
          "Kamil Grosicki",
          "Kyle Edwards",
          "David Button",
          "Ahmed Hegazi",
          "Charlie Austin",
          "Sam Field",
          "Rekeem Harper",
          "Ruben Loftus-Cheek",
          "Willy Caballero",
          "Billy Gilmour",
          "Callum Hudson-Odoi",
          "Tammy Abraham",
          "Antonio Rüdiger",
          "Daniel Jebbison",
          "Lys Mousset",
          "Jack O'Connell",
          "Iliman Ndiaye",
          "Antwoine Hackford",
          "Ross Barkley",
          "Grady Diangana",
          "Riyad Mahrez",
          "Fabio Carvalho",
          "Anthony Martial",
          "David de Gea",
          "Victor Lindelöf",
          "Liam Delap",
          "Josh Maja",
          "Zack Steffen",
          "Scott Carson",
          "Tim Ream",
          "Eric García",
          "Marek Rodák",
          "Callum Robinson",
          "Sergio Agüero",
          "Neeskens Kebano",
          "Terence Kongolo",
          "Tyrese Francois",
          "Jayson Molumby",
          "Oleksandr Zinchenko",
          "Phil Foden",
          "Conor Townsend",
          "John Stones",
          "Jordan Henderson",
          "Alex Oxlade-Chamberlain",
          "Reda Khadra",
          "Allan Saint-Maximin",
          "Martin Ødegaard",
          "Jacob Ramsey",
          "Conor Hourihane",
          "Keinan Davis",
          "Carney Chukwuemeka",
          "Wesley Moraes",
          "Jaden Philogene Bidace",
          "Willian",
          "Emile Smith-Rowe",
          "Bernd Leno",
          "Dane Scarlett",
          "Dele Alli",
          "Trézéguet",
          "Joe Rodon",
          "Martin Dúbravka",
          "Joe Willock",
          "Serge Aurier",
          "DeAndre Yedlin",
          "Dwight Gayle",
          "Matthew Longstaff",
          "Elliot Anderson",
          "Son Heung-min",
          "Hugo Lloris",
          "Felipe Anderson",
          "Calum Chambers",
          "Martinelli",
          "José Izquierdo",
          "Joshua King",
          "Niall Huggins",
          "Ian Carlo Poveda",
          "Gaetano Berardi",
          "Kiko Casilla",
          "Jamie Shackleton",
          "Hélder Costa",
          "Séamus Coleman",
          "Alex Iwobi",
          "Illan Meslier",
          "Anthony Gordon",
          "Jonjoe Kenny",
          "João Virgínia",
          "Ross Barkley",
          "Moise Kean",
          "Theo Walcott",
          "Jean-Philippe Gbamin",
          "Nathan Broadhead",
          "Rúnar Alex Rúnarsson",
          "Shkodran Mustafi",
          "Reiss Nelson",
          "Sead Kolašinac",
          "Mathew Ryan",
          "Eddie Nketiah",
          "Ainsley Maitland-Niles",
          "Robert Snodgrass",
          "Darren Randolph",
          "Willian José",
          "Takumi Minamino",
          "Caoimhín Kelleher",
          "Divock Origi",
          "Fraser Forster",
          "William Smallbone",
          "Shane Long",
          "Yan Valery",
          "Jake Vokins",
          "Alexandre Jankewitz",
          "Dan Nlundulu",
          "Michael Obafemi",
          "Allan Tchaptchet",
          "Adrián",
          "Sébastien Haller",
          "Joe Gomez",
          "Rhys Williams",
          "Solly March",
          "Danny Welbeck",
          "Adam Lallana",
          "Aaron Connolly",
          "Jakub Moder",
          "Davy Pröpper",
          "Bernardo",
          "Percy Tau",
          "Andi Zeqiri",
          "Kostas Tsimikas",
          "Theo Walcott",
          "Kasper Schmeichel",
          "Harvey Barnes",
          "Raúl Jiménez",
          "Jonny Castro",
          "Vitinha",
          "Rúben Vinagre",
          "John Ruddy",
          "Patrick Cutrone",
          "Oskar Buur",
          "Theo Corbeanu",
          "Saïd Benrahma",
          "Jarrod Bowen",
          "Andros Townsend",
          "Khanya Leshabela",
          "Wes Morgan",
          "Demarai Gray",
          "Islam Slimani",
          "Sidnei Tavares",
          "Cengiz Ünder",
          "Dennis Praet",
          "Michy Batshuayi",
          "Mamadou Sakho",
          "Jean-Philippe Mateta",
          "Jack Butland",
          "Martin Kelly",
          "Femi Seriki"
         ],
         "type": "choropleth",
         "z": [
          12,
          11,
          11,
          10,
          10,
          9,
          9,
          8,
          8,
          8,
          8,
          8,
          8,
          8,
          8,
          7,
          7,
          7,
          7,
          7,
          7,
          7,
          7,
          7,
          7,
          7,
          7,
          7,
          7,
          7,
          7,
          6,
          6,
          6,
          6,
          6,
          6,
          6,
          6,
          6,
          6,
          6,
          6,
          6,
          6,
          6,
          6,
          6,
          6,
          5,
          5,
          5,
          5,
          5,
          5,
          5,
          5,
          5,
          5,
          5,
          5,
          5,
          5,
          5,
          5,
          5,
          5,
          5,
          5,
          5,
          5,
          5,
          5,
          5,
          5,
          5,
          5,
          5,
          4,
          4,
          4,
          4,
          4,
          4,
          4,
          4,
          4,
          4,
          4,
          4,
          4,
          4,
          4,
          4,
          4,
          4,
          4,
          4,
          4,
          4,
          4,
          4,
          4,
          4,
          4,
          4,
          4,
          4,
          4,
          4,
          4,
          4,
          4,
          4,
          4,
          4,
          4,
          4,
          4,
          3,
          3,
          3,
          3,
          3,
          3,
          3,
          3,
          3,
          3,
          3,
          3,
          3,
          3,
          3,
          3,
          3,
          3,
          3,
          3,
          3,
          3,
          3,
          3,
          3,
          3,
          3,
          3,
          3,
          3,
          3,
          3,
          3,
          3,
          3,
          3,
          3,
          3,
          3,
          3,
          3,
          3,
          3,
          3,
          3,
          3,
          3,
          3,
          3,
          3,
          3,
          3,
          3,
          3,
          3,
          3,
          3,
          3,
          3,
          3,
          3,
          3,
          3,
          3,
          3,
          3,
          3,
          3,
          3,
          2,
          2,
          2,
          2,
          2,
          2,
          2,
          2,
          2,
          2,
          2,
          2,
          2,
          2,
          2,
          2,
          2,
          2,
          2,
          2,
          2,
          2,
          2,
          2,
          2,
          2,
          2,
          2,
          2,
          2,
          2,
          2,
          2,
          2,
          2,
          2,
          2,
          2,
          2,
          2,
          2,
          2,
          2,
          2,
          2,
          2,
          2,
          2,
          2,
          2,
          2,
          2,
          2,
          2,
          2,
          2,
          2,
          2,
          2,
          2,
          2,
          2,
          2,
          2,
          2,
          2,
          2,
          2,
          2,
          2,
          2,
          2,
          2,
          2,
          2,
          2,
          2,
          2,
          2,
          2,
          2,
          2,
          2,
          1,
          1,
          1,
          1,
          1,
          1,
          1,
          1,
          1,
          1,
          1,
          1,
          1,
          1,
          1,
          1,
          1,
          1,
          1,
          1,
          1,
          1,
          1,
          1,
          1,
          1,
          1,
          1,
          1,
          1,
          1,
          1,
          1,
          1,
          1,
          1,
          1,
          1,
          1,
          1,
          1,
          1,
          1,
          1,
          1,
          1,
          1,
          1,
          1,
          1,
          1,
          1,
          1,
          1,
          1,
          1,
          1,
          1,
          1,
          1,
          1,
          1,
          1,
          1,
          1,
          1,
          1,
          1,
          1,
          1,
          1,
          1,
          1,
          1,
          1,
          1,
          1,
          1,
          1,
          1,
          1,
          1,
          1,
          1,
          1,
          1,
          1,
          0,
          0,
          0,
          0,
          0,
          0,
          0,
          0,
          0,
          0,
          0,
          0,
          0,
          0,
          0,
          0,
          0,
          0,
          0,
          0,
          0,
          0,
          0,
          0,
          0,
          0,
          0,
          0,
          0,
          0,
          0,
          0,
          0,
          0,
          0,
          0,
          0,
          0,
          0,
          0,
          0,
          0,
          0,
          0,
          0,
          0,
          0,
          0,
          0,
          0,
          0,
          0,
          0,
          0,
          0,
          0,
          0,
          0,
          0,
          0,
          0,
          0,
          0,
          0,
          0,
          0,
          0,
          0,
          0,
          0,
          0,
          0,
          0,
          0,
          0,
          0,
          0,
          0,
          0,
          0,
          0,
          0,
          0,
          0,
          0,
          0,
          0,
          0,
          0,
          0,
          0,
          0,
          0,
          0,
          0,
          0,
          0,
          0,
          0,
          0,
          0,
          0,
          0,
          0,
          0,
          0,
          0,
          0,
          0,
          0,
          0,
          0,
          0,
          0,
          0,
          0,
          0,
          0,
          0,
          0,
          0,
          0,
          0,
          0,
          0,
          0,
          0,
          0,
          0,
          0,
          0,
          0,
          0,
          0,
          0,
          0,
          0,
          0,
          0,
          0,
          0,
          0,
          0,
          0,
          0,
          0,
          0,
          0,
          0,
          0,
          0,
          0,
          0,
          0,
          0,
          0,
          0,
          0,
          0,
          0,
          0,
          0,
          0,
          0,
          0,
          0,
          0,
          0,
          0,
          0,
          0,
          0,
          0,
          0
         ]
        }
       ],
       "layout": {
        "annotations": [
         {
          "showarrow": false,
          "text": "Source: <a href=\"https://www.cia.gov/library/publications/the-world-factbook/fields/2195.html\">            CIA World Factbook</a>",
          "x": 0.55,
          "xref": "paper",
          "y": 0.1,
          "yref": "paper"
         }
        ],
        "geo": {
         "projection": {
          "type": "equirectangular"
         },
         "showcoastlines": false,
         "showframe": false
        },
        "template": {
         "data": {
          "bar": [
           {
            "error_x": {
             "color": "#2a3f5f"
            },
            "error_y": {
             "color": "#2a3f5f"
            },
            "marker": {
             "line": {
              "color": "#E5ECF6",
              "width": 0.5
             },
             "pattern": {
              "fillmode": "overlay",
              "size": 10,
              "solidity": 0.2
             }
            },
            "type": "bar"
           }
          ],
          "barpolar": [
           {
            "marker": {
             "line": {
              "color": "#E5ECF6",
              "width": 0.5
             },
             "pattern": {
              "fillmode": "overlay",
              "size": 10,
              "solidity": 0.2
             }
            },
            "type": "barpolar"
           }
          ],
          "carpet": [
           {
            "aaxis": {
             "endlinecolor": "#2a3f5f",
             "gridcolor": "white",
             "linecolor": "white",
             "minorgridcolor": "white",
             "startlinecolor": "#2a3f5f"
            },
            "baxis": {
             "endlinecolor": "#2a3f5f",
             "gridcolor": "white",
             "linecolor": "white",
             "minorgridcolor": "white",
             "startlinecolor": "#2a3f5f"
            },
            "type": "carpet"
           }
          ],
          "choropleth": [
           {
            "colorbar": {
             "outlinewidth": 0,
             "ticks": ""
            },
            "type": "choropleth"
           }
          ],
          "contour": [
           {
            "colorbar": {
             "outlinewidth": 0,
             "ticks": ""
            },
            "colorscale": [
             [
              0,
              "#0d0887"
             ],
             [
              0.1111111111111111,
              "#46039f"
             ],
             [
              0.2222222222222222,
              "#7201a8"
             ],
             [
              0.3333333333333333,
              "#9c179e"
             ],
             [
              0.4444444444444444,
              "#bd3786"
             ],
             [
              0.5555555555555556,
              "#d8576b"
             ],
             [
              0.6666666666666666,
              "#ed7953"
             ],
             [
              0.7777777777777778,
              "#fb9f3a"
             ],
             [
              0.8888888888888888,
              "#fdca26"
             ],
             [
              1,
              "#f0f921"
             ]
            ],
            "type": "contour"
           }
          ],
          "contourcarpet": [
           {
            "colorbar": {
             "outlinewidth": 0,
             "ticks": ""
            },
            "type": "contourcarpet"
           }
          ],
          "heatmap": [
           {
            "colorbar": {
             "outlinewidth": 0,
             "ticks": ""
            },
            "colorscale": [
             [
              0,
              "#0d0887"
             ],
             [
              0.1111111111111111,
              "#46039f"
             ],
             [
              0.2222222222222222,
              "#7201a8"
             ],
             [
              0.3333333333333333,
              "#9c179e"
             ],
             [
              0.4444444444444444,
              "#bd3786"
             ],
             [
              0.5555555555555556,
              "#d8576b"
             ],
             [
              0.6666666666666666,
              "#ed7953"
             ],
             [
              0.7777777777777778,
              "#fb9f3a"
             ],
             [
              0.8888888888888888,
              "#fdca26"
             ],
             [
              1,
              "#f0f921"
             ]
            ],
            "type": "heatmap"
           }
          ],
          "heatmapgl": [
           {
            "colorbar": {
             "outlinewidth": 0,
             "ticks": ""
            },
            "colorscale": [
             [
              0,
              "#0d0887"
             ],
             [
              0.1111111111111111,
              "#46039f"
             ],
             [
              0.2222222222222222,
              "#7201a8"
             ],
             [
              0.3333333333333333,
              "#9c179e"
             ],
             [
              0.4444444444444444,
              "#bd3786"
             ],
             [
              0.5555555555555556,
              "#d8576b"
             ],
             [
              0.6666666666666666,
              "#ed7953"
             ],
             [
              0.7777777777777778,
              "#fb9f3a"
             ],
             [
              0.8888888888888888,
              "#fdca26"
             ],
             [
              1,
              "#f0f921"
             ]
            ],
            "type": "heatmapgl"
           }
          ],
          "histogram": [
           {
            "marker": {
             "pattern": {
              "fillmode": "overlay",
              "size": 10,
              "solidity": 0.2
             }
            },
            "type": "histogram"
           }
          ],
          "histogram2d": [
           {
            "colorbar": {
             "outlinewidth": 0,
             "ticks": ""
            },
            "colorscale": [
             [
              0,
              "#0d0887"
             ],
             [
              0.1111111111111111,
              "#46039f"
             ],
             [
              0.2222222222222222,
              "#7201a8"
             ],
             [
              0.3333333333333333,
              "#9c179e"
             ],
             [
              0.4444444444444444,
              "#bd3786"
             ],
             [
              0.5555555555555556,
              "#d8576b"
             ],
             [
              0.6666666666666666,
              "#ed7953"
             ],
             [
              0.7777777777777778,
              "#fb9f3a"
             ],
             [
              0.8888888888888888,
              "#fdca26"
             ],
             [
              1,
              "#f0f921"
             ]
            ],
            "type": "histogram2d"
           }
          ],
          "histogram2dcontour": [
           {
            "colorbar": {
             "outlinewidth": 0,
             "ticks": ""
            },
            "colorscale": [
             [
              0,
              "#0d0887"
             ],
             [
              0.1111111111111111,
              "#46039f"
             ],
             [
              0.2222222222222222,
              "#7201a8"
             ],
             [
              0.3333333333333333,
              "#9c179e"
             ],
             [
              0.4444444444444444,
              "#bd3786"
             ],
             [
              0.5555555555555556,
              "#d8576b"
             ],
             [
              0.6666666666666666,
              "#ed7953"
             ],
             [
              0.7777777777777778,
              "#fb9f3a"
             ],
             [
              0.8888888888888888,
              "#fdca26"
             ],
             [
              1,
              "#f0f921"
             ]
            ],
            "type": "histogram2dcontour"
           }
          ],
          "mesh3d": [
           {
            "colorbar": {
             "outlinewidth": 0,
             "ticks": ""
            },
            "type": "mesh3d"
           }
          ],
          "parcoords": [
           {
            "line": {
             "colorbar": {
              "outlinewidth": 0,
              "ticks": ""
             }
            },
            "type": "parcoords"
           }
          ],
          "pie": [
           {
            "automargin": true,
            "type": "pie"
           }
          ],
          "scatter": [
           {
            "fillpattern": {
             "fillmode": "overlay",
             "size": 10,
             "solidity": 0.2
            },
            "type": "scatter"
           }
          ],
          "scatter3d": [
           {
            "line": {
             "colorbar": {
              "outlinewidth": 0,
              "ticks": ""
             }
            },
            "marker": {
             "colorbar": {
              "outlinewidth": 0,
              "ticks": ""
             }
            },
            "type": "scatter3d"
           }
          ],
          "scattercarpet": [
           {
            "marker": {
             "colorbar": {
              "outlinewidth": 0,
              "ticks": ""
             }
            },
            "type": "scattercarpet"
           }
          ],
          "scattergeo": [
           {
            "marker": {
             "colorbar": {
              "outlinewidth": 0,
              "ticks": ""
             }
            },
            "type": "scattergeo"
           }
          ],
          "scattergl": [
           {
            "marker": {
             "colorbar": {
              "outlinewidth": 0,
              "ticks": ""
             }
            },
            "type": "scattergl"
           }
          ],
          "scattermapbox": [
           {
            "marker": {
             "colorbar": {
              "outlinewidth": 0,
              "ticks": ""
             }
            },
            "type": "scattermapbox"
           }
          ],
          "scatterpolar": [
           {
            "marker": {
             "colorbar": {
              "outlinewidth": 0,
              "ticks": ""
             }
            },
            "type": "scatterpolar"
           }
          ],
          "scatterpolargl": [
           {
            "marker": {
             "colorbar": {
              "outlinewidth": 0,
              "ticks": ""
             }
            },
            "type": "scatterpolargl"
           }
          ],
          "scatterternary": [
           {
            "marker": {
             "colorbar": {
              "outlinewidth": 0,
              "ticks": ""
             }
            },
            "type": "scatterternary"
           }
          ],
          "surface": [
           {
            "colorbar": {
             "outlinewidth": 0,
             "ticks": ""
            },
            "colorscale": [
             [
              0,
              "#0d0887"
             ],
             [
              0.1111111111111111,
              "#46039f"
             ],
             [
              0.2222222222222222,
              "#7201a8"
             ],
             [
              0.3333333333333333,
              "#9c179e"
             ],
             [
              0.4444444444444444,
              "#bd3786"
             ],
             [
              0.5555555555555556,
              "#d8576b"
             ],
             [
              0.6666666666666666,
              "#ed7953"
             ],
             [
              0.7777777777777778,
              "#fb9f3a"
             ],
             [
              0.8888888888888888,
              "#fdca26"
             ],
             [
              1,
              "#f0f921"
             ]
            ],
            "type": "surface"
           }
          ],
          "table": [
           {
            "cells": {
             "fill": {
              "color": "#EBF0F8"
             },
             "line": {
              "color": "white"
             }
            },
            "header": {
             "fill": {
              "color": "#C8D4E3"
             },
             "line": {
              "color": "white"
             }
            },
            "type": "table"
           }
          ]
         },
         "layout": {
          "annotationdefaults": {
           "arrowcolor": "#2a3f5f",
           "arrowhead": 0,
           "arrowwidth": 1
          },
          "autotypenumbers": "strict",
          "coloraxis": {
           "colorbar": {
            "outlinewidth": 0,
            "ticks": ""
           }
          },
          "colorscale": {
           "diverging": [
            [
             0,
             "#8e0152"
            ],
            [
             0.1,
             "#c51b7d"
            ],
            [
             0.2,
             "#de77ae"
            ],
            [
             0.3,
             "#f1b6da"
            ],
            [
             0.4,
             "#fde0ef"
            ],
            [
             0.5,
             "#f7f7f7"
            ],
            [
             0.6,
             "#e6f5d0"
            ],
            [
             0.7,
             "#b8e186"
            ],
            [
             0.8,
             "#7fbc41"
            ],
            [
             0.9,
             "#4d9221"
            ],
            [
             1,
             "#276419"
            ]
           ],
           "sequential": [
            [
             0,
             "#0d0887"
            ],
            [
             0.1111111111111111,
             "#46039f"
            ],
            [
             0.2222222222222222,
             "#7201a8"
            ],
            [
             0.3333333333333333,
             "#9c179e"
            ],
            [
             0.4444444444444444,
             "#bd3786"
            ],
            [
             0.5555555555555556,
             "#d8576b"
            ],
            [
             0.6666666666666666,
             "#ed7953"
            ],
            [
             0.7777777777777778,
             "#fb9f3a"
            ],
            [
             0.8888888888888888,
             "#fdca26"
            ],
            [
             1,
             "#f0f921"
            ]
           ],
           "sequentialminus": [
            [
             0,
             "#0d0887"
            ],
            [
             0.1111111111111111,
             "#46039f"
            ],
            [
             0.2222222222222222,
             "#7201a8"
            ],
            [
             0.3333333333333333,
             "#9c179e"
            ],
            [
             0.4444444444444444,
             "#bd3786"
            ],
            [
             0.5555555555555556,
             "#d8576b"
            ],
            [
             0.6666666666666666,
             "#ed7953"
            ],
            [
             0.7777777777777778,
             "#fb9f3a"
            ],
            [
             0.8888888888888888,
             "#fdca26"
            ],
            [
             1,
             "#f0f921"
            ]
           ]
          },
          "colorway": [
           "#636efa",
           "#EF553B",
           "#00cc96",
           "#ab63fa",
           "#FFA15A",
           "#19d3f3",
           "#FF6692",
           "#B6E880",
           "#FF97FF",
           "#FECB52"
          ],
          "font": {
           "color": "#2a3f5f"
          },
          "geo": {
           "bgcolor": "white",
           "lakecolor": "white",
           "landcolor": "#E5ECF6",
           "showlakes": true,
           "showland": true,
           "subunitcolor": "white"
          },
          "hoverlabel": {
           "align": "left"
          },
          "hovermode": "closest",
          "mapbox": {
           "style": "light"
          },
          "paper_bgcolor": "white",
          "plot_bgcolor": "#E5ECF6",
          "polar": {
           "angularaxis": {
            "gridcolor": "white",
            "linecolor": "white",
            "ticks": ""
           },
           "bgcolor": "#E5ECF6",
           "radialaxis": {
            "gridcolor": "white",
            "linecolor": "white",
            "ticks": ""
           }
          },
          "scene": {
           "xaxis": {
            "backgroundcolor": "#E5ECF6",
            "gridcolor": "white",
            "gridwidth": 2,
            "linecolor": "white",
            "showbackground": true,
            "ticks": "",
            "zerolinecolor": "white"
           },
           "yaxis": {
            "backgroundcolor": "#E5ECF6",
            "gridcolor": "white",
            "gridwidth": 2,
            "linecolor": "white",
            "showbackground": true,
            "ticks": "",
            "zerolinecolor": "white"
           },
           "zaxis": {
            "backgroundcolor": "#E5ECF6",
            "gridcolor": "white",
            "gridwidth": 2,
            "linecolor": "white",
            "showbackground": true,
            "ticks": "",
            "zerolinecolor": "white"
           }
          },
          "shapedefaults": {
           "line": {
            "color": "#2a3f5f"
           }
          },
          "ternary": {
           "aaxis": {
            "gridcolor": "white",
            "linecolor": "white",
            "ticks": ""
           },
           "baxis": {
            "gridcolor": "white",
            "linecolor": "white",
            "ticks": ""
           },
           "bgcolor": "#E5ECF6",
           "caxis": {
            "gridcolor": "white",
            "linecolor": "white",
            "ticks": ""
           }
          },
          "title": {
           "x": 0.05
          },
          "xaxis": {
           "automargin": true,
           "gridcolor": "white",
           "linecolor": "white",
           "ticks": "",
           "title": {
            "standoff": 15
           },
           "zerolinecolor": "white",
           "zerolinewidth": 2
          },
          "yaxis": {
           "automargin": true,
           "gridcolor": "white",
           "linecolor": "white",
           "ticks": "",
           "title": {
            "standoff": 15
           },
           "zerolinecolor": "white",
           "zerolinewidth": 2
          }
         }
        }
       }
      },
      "text/html": [
       "<div>                            <div id=\"c6df0840-e065-454d-9820-3c4b65ce45b2\" class=\"plotly-graph-div\" style=\"height:525px; width:100%;\"></div>            <script type=\"text/javascript\">                require([\"plotly\"], function(Plotly) {                    window.PLOTLYENV=window.PLOTLYENV || {};                                    if (document.getElementById(\"c6df0840-e065-454d-9820-3c4b65ce45b2\")) {                    Plotly.newPlot(                        \"c6df0840-e065-454d-9820-3c4b65ce45b2\",                        [{\"autocolorscale\":false,\"colorscale\":[[0.0,\"rgb(247,251,255)\"],[0.125,\"rgb(222,235,247)\"],[0.25,\"rgb(198,219,239)\"],[0.375,\"rgb(158,202,225)\"],[0.5,\"rgb(107,174,214)\"],[0.625,\"rgb(66,146,198)\"],[0.75,\"rgb(33,113,181)\"],[0.875,\"rgb(8,81,156)\"],[1.0,\"rgb(8,48,107)\"]],\"locations\":[\"SCO\",\"ENG\",\"ENG\",\"ENG\",\"BRA\",\"DEN\",\"ENG\",\"ENG\",\"SRB\",\"POR\",\"ENG\",\"ENG\",\"ESP\",\"ENG\",\"MLI\",\"ENG\",\"FRA\",\"JAM\",\"CZE\",\"ENG\",\"NIR\",\"ENG\",\"MKD\",\"FRA\",\"ENG\",\"NIR\",\"IRL\",\"ENG\",\"IRL\",\"SUI\",\"DEN\",\"CMR\",\"BRA\",\"FRA\",\"BRA\",\"CIV\",\"ENG\",\"BRA\",\"NGA\",\"BEL\",\"ESP\",\"ARG\",\"POR\",\"ENG\",\"NIR\",\"IRL\",\"ENG\",\"POL\",\"ESP\",\"ENG\",\"ENG\",\"ITA\",\"POR\",\"POR\",\"ENG\",\"ENG\",\"SEN\",\"ENG\",\"POL\",\"GHA\",\"ENG\",\"ENG\",\"ENG\",\"MLI\",\"ENG\",\"ENG\",\"POR\",\"ESP\",\"POR\",\"BRA\",\"GAB\",\"ESP\",\"ARG\",\"ENG\",\"ENG\",\"ENG\",\"BRA\",\"ENG\",\"IRL\",\"SWE\",\"BRA\",\"ENG\",\"SUI\",\"ENG\",\"ENG\",\"ENG\",\"ENG\",\"COL\",\"ENG\",\"SCO\",\"SEN\",\"SCO\",\"AUT\",\"NED\",\"GHA\",\"POR\",\"ENG\",\"BRA\",\"ESP\",\"ESP\",\"ARG\",\"BEL\",\"NIR\",\"ENG\",\"NOR\",\"ENG\",\"POR\",\"URU\",\"USA\",\"ENG\",\"ENG\",\"ENG\",\"ESP\",\"SCO\",\"CRO\",\"NED\",\"ENG\",\"TUR\",\"ENG\",\"ENG\",\"ENG\",\"SCO\",\"FRA\",\"ENG\",\"BRA\",\"WAL\",\"UKR\",\"POR\",\"ZIM\",\"CIV\",\"EGY\",\"ENG\",\"FRA\",\"IRL\",\"NED\",\"FRA\",\"ENG\",\"ENG\",\"FRA\",\"BRA\",\"SRB\",\"BRA\",\"IRL\",\"NED\",\"ENG\",\"MAR\",\"WAL\",\"NGA\",\"FRA\",\"FRA\",\"NED\",\"ENG\",\"GHA\",\"POR\",\"ENG\",\"ENG\",\"SEN\",\"SCO\",\"IRN\",\"ENG\",\"ENG\",\"TUR\",\"NED\",\"ENG\",\"DEN\",\"GER\",\"FRA\",\"ENG\",\"GHA\",\"PAR\",\"SCO\",\"ENG\",\"ENG\",\"NGA\",\"ENG\",\"WAL\",\"ESP\",\"ESP\",\"ENG\",\"CZE\",\"POR\",\"ENG\",\"IRL\",\"ENG\",\"BEL\",\"ENG\",\"FRA\",\"IRL\",\"SRB\",\"ENG\",\"SCO\",\"WAL\",\"SEN\",\"BRA\",\"SCO\",\"SCO\",\"COL\",\"ENG\",\"ISL\",\"FRA\",\"NED\",\"WAL\",\"EGY\",\"ENG\",\"ESP\",\"POR\",\"FRA\",\"SCO\",\"IRL\",\"NED\",\"ISL\",\"ENG\",\"ENG\",\"ENG\",\"COL\",\"ESP\",\"ENG\",\"BEL\",\"BRA\",\"POR\",\"CIV\",\"MAR\",\"SCO\",\"SCO\",\"ENG\",\"SCO\",\"JAM\",\"ENG\",\"FRA\",\"BRA\",\"ENG\",\"SKN\",\"ENG\",\"ENG\",\"SEN\",\"ENG\",\"ENG\",\"ENG\",\"ENG\",\"GER\",\"DEN\",\"ESP\",\"ENG\",\"POL\",\"ENG\",\"ENG\",\"ESP\",\"CMR\",\"SCO\",\"COD\",\"FRA\",\"SUI\",\"GAB\",\"ENG\",\"ENG\",\"BRA\",\"ENG\",\"BEL\",\"USA\",\"POR\",\"BRA\",\"TUR\",\"ITA\",\"ESP\",\"ENG\",\"BRA\",\"SRB\",\"ENG\",\"GER\",\"ENG\",\"ENG\",\"ENG\",\"NED\",\"NGA\",\"ENG\",\"FRA\",\"ENG\",\"ARG\",\"SCO\",\"IRL\",\"FRA\",\"ESP\",\"AUS\",\"ENG\",\"POR\",\"SCO\",\"ENG\",\"NED\",\"ENG\",\"ENG\",\"BEL\",\"ENG\",\"ENG\",\"JPN\",\"ENG\",\"GHA\",\"ENG\",\"IRL\",\"ENG\",\"PAR\",\"ENG\",\"SWE\",\"ENG\",\"MTN\",\"USA\",\"ENG\",\"ENG\",\"ENG\",\"ENG\",\"NED\",\"ENG\",\"ARG\",\"ENG\",\"ESP\",\"ENG\",\"AUS\",\"BFA\",\"ESP\",\"ENG\",\"FRA\",\"ARG\",\"ENG\",\"TUR\",\"ENG\",\"FRA\",\"ENG\",\"ENG\",\"SWE\",\"ENG\",\"ESP\",\"ENG\",\"ENG\",\"GER\",\"NED\",\"ESP\",\"ENG\",\"BRA\",\"ENG\",\"POR\",\"BRA\",\"NED\",\"BEL\",\"GER\",\"ENG\",\"ENG\",\"ENG\",\"BRA\",\"CIV\",\"FRA\",\"WAL\",\"BEL\",\"COL\",\"ENG\",\"WAL\",\"NED\",\"GUI\",\"WAL\",\"WAL\",\"ENG\",\"NIR\",\"NGA\",\"ENG\",\"ENG\",\"ENG\",\"CIV\",\"SWE\",\"ENG\",\"NZL\",\"ENG\",\"CZE\",\"EGY\",\"FRA\",\"ENG\",\"ESP\",\"BRA\",\"ENG\",\"CRO\",\"ITA\",\"POL\",\"ENG\",\"ENG\",\"EGY\",\"ENG\",\"ENG\",\"ENG\",\"ENG\",\"ARG\",\"SCO\",\"ENG\",\"ENG\",\"GER\",\"ENG\",\"FRA\",\"ENG\",\"FRA\",\"ENG\",\"ENG\",\"ENG\",\"ALG\",\"ENG\",\"FRA\",\"ESP\",\"SWE\",\"ENG\",\"NGA\",\"USA\",\"ENG\",\"USA\",\"ESP\",\"SVK\",\"IRL\",\"ARG\",\"COD\",\"NED\",\"AUS\",\"IRL\",\"UKR\",\"ENG\",\"ENG\",\"ENG\",\"ENG\",\"ENG\",\"GER\",\"FRA\",\"NOR\",\"ENG\",\"IRL\",\"ENG\",\"ENG\",\"BRA\",\"ENG\",\"BRA\",\"ENG\",\"GER\",\"ENG\",\"ENG\",\"EGY\",\"WAL\",\"SVK\",\"ENG\",\"CIV\",\"USA\",\"ENG\",\"ENG\",\"SCO\",\"KOR\",\"FRA\",\"BRA\",\"ENG\",\"BRA\",\"COL\",\"NOR\",\"WAL\",\"ENG\",\"SUI\",\"ESP\",\"ENG\",\"POR\",\"IRL\",\"NGA\",\"FRA\",\"ENG\",\"ENG\",\"POR\",\"ENG\",\"ITA\",\"ENG\",\"CIV\",\"WAL\",\"ISL\",\"GER\",\"ENG\",\"BIH\",\"AUS\",\"ENG\",\"ENG\",\"SCO\",\"IRL\",\"BRA\",\"JPN\",\"IRL\",\"BEL\",\"ENG\",\"IRL\",\"IRL\",\"FRA\",\"ENG\",\"SUI\",\"ENG\",\"IRL\",\"FRA\",\"ESP\",\"CIV\",\"ENG\",\"ENG\",\"ENG\",\"ENG\",\"ENG\",\"IRL\",\"POL\",\"NED\",\"BRA\",\"RSA\",\"SUI\",\"GRE\",\"ENG\",\"DEN\",\"ENG\",\"MEX\",\"ESP\",\"POR\",\"POR\",\"ENG\",\"ITA\",\"DEN\",\"CAN\",\"ALG\",\"ENG\",\"ENG\",\"RSA\",\"JAM\",\"ENG\",\"ALG\",\"POR\",\"TUR\",\"BEL\",\"BEL\",\"FRA\",\"FRA\",\"ENG\",\"ENG\",\"ENG\"],\"marker\":{\"line\":{\"color\":\"darkgray\",\"width\":0.5}},\"reversescale\":true,\"text\":[\"John McGinn\",\"Harry Maguire\",\"Conor Gallagher\",\"Kalvin Phillips\",\"Douglas Luiz\",\"Pierre Højbjerg\",\"Mason Holgate\",\"John Lundstram\",\"Luka Milivojević\",\"Rúben Neves\",\"Luke Shaw\",\"Isaac Hayden\",\"Héctor Bellerín\",\"Matty Cash\",\"Yves Bissouma\",\"Luke Ayling\",\"N'Golo Kanté\",\"Bobby Reid\",\"Tomáš Souček\",\"Jonjo Shelvey\",\"Stuart Dallas\",\"Ashley Westwood\",\"Ezgjan Alioski\",\"Wesley Fofana\",\"George Baldock\",\"Jonny Evans\",\"John Egan\",\"Matt Targett\",\"David McGoldrick\",\"Granit Xhaka\",\"Joachim Andersen\",\"Andre-Frank Zambo Anguissa\",\"Allan\",\"Abdoulaye Doucouré\",\"Fabinho\",\"Wilfried Zaha\",\"James Tarkowski\",\"Fernandinho\",\"Wilfred Ndidi\",\"Youri Tielemans\",\"Oriol Romeu\",\"Érik Lamela\",\"Bruno Fernandes\",\"Jack Grealish\",\"Oliver Norwood\",\"Enda Stevens\",\"Tyrone Mings\",\"Mateusz Klich\",\"Rodri\",\"Matthew Lowton\",\"Darnell Furlong\",\"Angelo Ogbonna\",\"Bernardo Silva\",\"João Cancelo\",\"Joel Ward\",\"James Ward-Prowse\",\"Nampalys Mendy\",\"Ademola Lookman\",\"Jan Bednarek\",\"Thomas Partey\",\"Dan Burn\",\"Ryan Bertrand\",\"Chris Basham\",\"Moussa Djenepo\",\"Lewis Dunk\",\"Craig Dawson\",\"Nélson Semedo\",\"Sergio Reguilón\",\"João Moutinho\",\"Fred\",\"Mario Lemina\",\"César Azpilicueta\",\"Giovani Lo Celso\",\"Ben White\",\"Harrison Reed\",\"Harry Winks\",\"Thiago Silva\",\"Conor Coady\",\"Matt Doherty\",\"Emil Krafth\",\"Richarlison\",\"Ollie Watkins\",\"Fabian Schär\",\"James Maddison\",\"James Justin\",\"Jamaal Lascelles\",\"Kyle Walker-Peters\",\"James Rodríguez\",\"Max Kilman\",\"Kieran Tierney\",\"Cheikhou Kouyaté\",\"Liam Cooper\",\"Christian Fuchs\",\"Jaïro Riedewald\",\"Jordan Ayew\",\"Pedro Neto\",\"Ben Godfrey\",\"Gabriel Dos Santos\",\"Adama Traoré\",\"Dani Ceballos\",\"Federico Fernández\",\"Leander Dendoncker\",\"Jamal Lewis\",\"Michael Keane\",\"Sander Berge\",\"Tariq Lamptey\",\"Rúben Dias\",\"Edinson Cavani\",\"Antonee Robinson\",\"Ashley Barnes\",\"Marcus Rashford\",\"Raheem Sterling\",\"Thiago Alcántara\",\"John Fleck\",\"Mateo Kovačić\",\"Nathan Aké\",\"Adam Webster\",\"Okay Yokuşlu\",\"Kyle Bartley\",\"Jacob Murphy\",\"Dean Henderson\",\"Scott McTominay\",\"Paul Pogba\",\"Ruben Loftus-Cheek\",\"Joelinton\",\"Daniel James\",\"Andriy Yarmolenko\",\"Daniel Podence\",\"Marvelous Nakamba\",\"Eric Bailly\",\"Mohamed Elneny\",\"Eric Dier\",\"Tanguy Ndombele\",\"Jeff Hendrick\",\"Kenny Tete\",\"Alexandre Lacazette\",\"Tom Davies\",\"Aaron Wan-Bissaka\",\"Moussa Sissoko\",\"Raphael Dias Belloli\",\"Aleksandar Mitrović\",\"Ederson\",\"Ciaran Clark\",\"Steven Bergwijn\",\"Patrick Bamford\",\"Hakim Ziyech\",\"Ethan Ampadu\",\"Semi Ajayi\",\"Ibrahima Diallo\",\"Issa Diop\",\"Pascal Struijk\",\"Ben Chilwell\",\"Jeffrey Schlupp\",\"Ricardo Pereira\",\"Ben Mee\",\"Reece James\",\"Sadio Mané\",\"Stuart Armstrong\",\"Alireza Jahanbakhsh\",\"James Milner\",\"Ezri Konsa\",\"Ozan Kabak\",\"Joël Veltman\",\"Jack Robinson\",\"Jannik Vestergaard\",\"Pascal Groß\",\"Morgan Sanson\",\"Dominic Calvert-Lewin\",\"Daniel Amartey\",\"Miguel Almirón\",\"James McArthur\",\"Karl Darlow\",\"Jesse Lingard\",\"Ola Aina\",\"Michail Antonio\",\"Tyler Roberts\",\"Rodrigo\",\"Pablo Fornals\",\"Eberechi Eze\",\"Vladimír Coufal\",\"André Gomes\",\"Aaron Cresswell\",\"Robbie Brady\",\"Jay Rodriguez\",\"Christian Benteke\",\"Gary Cahill\",\"Kurt Zouma\",\"Dara O'Shea\",\"Branislav Ivanović\",\"Nathan Tella\",\"Robert Snodgrass\",\"Hal Robson-Kanu\",\"Edouard Mendy\",\"Bernard\",\"Oliver Burke\",\"Oliver McBurnie\",\"Yerry Mina\",\"Jayden Bogle\",\"Gylfi Sigurðsson\",\"Lucas Digne\",\"Anwar El Ghazi\",\"Paul Dummett\",\"Ahmed Elmohamady\",\"Jack Cork\",\"Vicente Guaita\",\"Ivan Cavaleiro\",\"Alphonse Areola\",\"Phil Bardsley\",\"Kevin Long\",\"Patrick van Aanholt\",\"Jóhann Berg Guðmundsson\",\"Kortney Hause\",\"Nathaniel Clyne\",\"Josh Brownhill\",\"Steven Alzate\",\"Robert Sánchez\",\"Jack Stephens\",\"Leandro Trossard\",\"Fernando Marçal\",\"Fábio Silva\",\"Willy Boly\",\"Romain Saïss\",\"Ryan Fraser\",\"Tom Cairney\",\"Joe Bryan\",\"Matt Ritchie\",\"Michael Hector\",\"Sean Longstaff\",\"Maxime Le Marchand\",\"Matheus Pereira\",\"Callum Wilson\",\"Romaine Sawyers\",\"Jake Livermore\",\"Ainsley Maitland-Niles\",\"Mbaye Diagne\",\"Alex McCarthy\",\"Mason Mount\",\"Axel Tuanzebe\",\"Nathaniel Phillips\",\"Kai Havertz\",\"Andreas Christensen\",\"Marcos Alonso\",\"Trent Alexander-Arnold\",\"Łukasz Fabiański\",\"Declan Rice\",\"Curtis Jones\",\"Pablo Marí\",\"Joël Matip\",\"Andrew Robertson\",\"Arthur Masuaku\",\"Benjamin Mendy\",\"Xherdan Shaqiri\",\"Pierre-Emerick Aubameyang\",\"Rob Holding\",\"Ryan Fredericks\",\"Carlos Vinícius\",\"Japhet Tanganga\",\"Toby Alderweireld\",\"Christian Pulisic\",\"Diogo Jota\",\"Gabriel Jesus\",\"Çağlar Söyüncü\",\"Jorginho\",\"Ayoze Pérez\",\"Mason Greenwood\",\"Roberto Firmino\",\"Nemanja Matić\",\"Luke Thomas\",\"Timo Werner\",\"Jack Harrison\",\"Marc Albrighton\",\"Jamie Vardy\",\"Donny van de Beek\",\"Kelechi Iheanacho\",\"Mark Noble\",\"Rayan Aït Nouri\",\"Ben Johnson\",\"Manuel Lanzini\",\"Che Adams\",\"Jimmy Dunne\",\"Aymeric Laporte\",\"Ferrán Torres\",\"Caleb Watts\",\"Harry Kane\",\"Rui Patrício\",\"Matt Phillips\",\"Andy Carroll\",\"Timothy Fosu-Mensah\",\"Tyrick Mitchell\",\"Danny Ings\",\"Denis Odoi\",\"Nathan Redmond\",\"Tosin Adarabioyo\",\"Takumi Minamino\",\"Scott Dann\",\"Mohammed Salisu\",\"Josh Onomah\",\"James McCarthy\",\"Kyle Walker\",\"Fabián Balbuena\",\"Kayne Ramsey\",\"Joel Mumbongo\",\"Jordan Pickford\",\"Aboubakar Kamara\",\"Owen Otasowie\",\"Morgan Gibbs-White\",\"James Tomkins\",\"Dale Stephens\",\"Hamza Choudhury\",\"Ki-Jana Hoever\",\"Sam Johnstone\",\"Alexis Mac Allister\",\"Charlie Taylor\",\"Javier Manquillo\",\"Aaron Ramsdale\",\"Mathew Ryan\",\"Bertrand Traoré\",\"Kepa Arrizabalaga\",\"Joe Willock\",\"Olivier Giroud\",\"Emiliano Martínez\",\"Ben Osborn\",\"Cenk Tosun\",\"Rhian Brewster\",\"Niels Nkounkou\",\"Kean Bryan\",\"Fabian Delph\",\"Robin Olsen\",\"Billy Sharp\",\"Diego Llorente\",\"Max Lowe\",\"Phil Jagielka\",\"Robin Koch\",\"Georginio Wijnaldum\",\"Pablo Hernández\",\"Nick Pope\",\"Alisson\",\"Dwight McNeil\",\"Cédric Soares\",\"Lucas Moura\",\"Virgil van Dijk\",\"Kevin De Bruyne\",\"İlkay Gündoğan\",\"Karlan Grant\",\"Kieran Gibbs\",\"Bukayo Saka\",\"David Luiz\",\"Nicolas Pépé\",\"Neal Maupay\",\"Ben Davies\",\"Timothy Castagne\",\"Davinson Sánchez\",\"Lee Peltier\",\"Neil Taylor\",\"Erik Pieters\",\"Naby Keïta\",\"Neco Williams\",\"Gareth Bale\",\"Shola Shoretire\",\"Bailey Peacock-Farrell\",\"Odion Ighalo\",\"Will Norris\",\"Brandon Williams\",\"Josh Benson\",\"Amad Diallo\",\"Anthony Elanga\",\"Lewis Richardson\",\"Chris Wood\",\"William Thomas Fish\",\"Matěj Vydra\",\"Mohamed Salah\",\"Hannibal Mejbri\",\"Leif Davis\",\"Juan Mata\",\"Alex Telles\",\"Fikayo Tomori\",\"Filip Krovinović\",\"Emerson Palmieri\",\"Kamil Grosicki\",\"Kyle Edwards\",\"David Button\",\"Ahmed Hegazi\",\"Charlie Austin\",\"Sam Field\",\"Rekeem Harper\",\"Ruben Loftus-Cheek\",\"Willy Caballero\",\"Billy Gilmour\",\"Callum Hudson-Odoi\",\"Tammy Abraham\",\"Antonio Rüdiger\",\"Daniel Jebbison\",\"Lys Mousset\",\"Jack O'Connell\",\"Iliman Ndiaye\",\"Antwoine Hackford\",\"Ross Barkley\",\"Grady Diangana\",\"Riyad Mahrez\",\"Fabio Carvalho\",\"Anthony Martial\",\"David de Gea\",\"Victor Lindelöf\",\"Liam Delap\",\"Josh Maja\",\"Zack Steffen\",\"Scott Carson\",\"Tim Ream\",\"Eric García\",\"Marek Rodák\",\"Callum Robinson\",\"Sergio Agüero\",\"Neeskens Kebano\",\"Terence Kongolo\",\"Tyrese Francois\",\"Jayson Molumby\",\"Oleksandr Zinchenko\",\"Phil Foden\",\"Conor Townsend\",\"John Stones\",\"Jordan Henderson\",\"Alex Oxlade-Chamberlain\",\"Reda Khadra\",\"Allan Saint-Maximin\",\"Martin Ødegaard\",\"Jacob Ramsey\",\"Conor Hourihane\",\"Keinan Davis\",\"Carney Chukwuemeka\",\"Wesley Moraes\",\"Jaden Philogene Bidace\",\"Willian\",\"Emile Smith-Rowe\",\"Bernd Leno\",\"Dane Scarlett\",\"Dele Alli\",\"Trézéguet\",\"Joe Rodon\",\"Martin Dúbravka\",\"Joe Willock\",\"Serge Aurier\",\"DeAndre Yedlin\",\"Dwight Gayle\",\"Matthew Longstaff\",\"Elliot Anderson\",\"Son Heung-min\",\"Hugo Lloris\",\"Felipe Anderson\",\"Calum Chambers\",\"Martinelli\",\"José Izquierdo\",\"Joshua King\",\"Niall Huggins\",\"Ian Carlo Poveda\",\"Gaetano Berardi\",\"Kiko Casilla\",\"Jamie Shackleton\",\"Hélder Costa\",\"Séamus Coleman\",\"Alex Iwobi\",\"Illan Meslier\",\"Anthony Gordon\",\"Jonjoe Kenny\",\"João Virgínia\",\"Ross Barkley\",\"Moise Kean\",\"Theo Walcott\",\"Jean-Philippe Gbamin\",\"Nathan Broadhead\",\"Rúnar Alex Rúnarsson\",\"Shkodran Mustafi\",\"Reiss Nelson\",\"Sead Kolašinac\",\"Mathew Ryan\",\"Eddie Nketiah\",\"Ainsley Maitland-Niles\",\"Robert Snodgrass\",\"Darren Randolph\",\"Willian José\",\"Takumi Minamino\",\"Caoimhín Kelleher\",\"Divock Origi\",\"Fraser Forster\",\"William Smallbone\",\"Shane Long\",\"Yan Valery\",\"Jake Vokins\",\"Alexandre Jankewitz\",\"Dan Nlundulu\",\"Michael Obafemi\",\"Allan Tchaptchet\",\"Adrián\",\"Sébastien Haller\",\"Joe Gomez\",\"Rhys Williams\",\"Solly March\",\"Danny Welbeck\",\"Adam Lallana\",\"Aaron Connolly\",\"Jakub Moder\",\"Davy Pröpper\",\"Bernardo\",\"Percy Tau\",\"Andi Zeqiri\",\"Kostas Tsimikas\",\"Theo Walcott\",\"Kasper Schmeichel\",\"Harvey Barnes\",\"Raúl Jiménez\",\"Jonny Castro\",\"Vitinha\",\"Rúben Vinagre\",\"John Ruddy\",\"Patrick Cutrone\",\"Oskar Buur\",\"Theo Corbeanu\",\"Saïd Benrahma\",\"Jarrod Bowen\",\"Andros Townsend\",\"Khanya Leshabela\",\"Wes Morgan\",\"Demarai Gray\",\"Islam Slimani\",\"Sidnei Tavares\",\"Cengiz Ünder\",\"Dennis Praet\",\"Michy Batshuayi\",\"Mamadou Sakho\",\"Jean-Philippe Mateta\",\"Jack Butland\",\"Martin Kelly\",\"Femi Seriki\"],\"z\":[12,11,11,10,10,9,9,8,8,8,8,8,8,8,8,7,7,7,7,7,7,7,7,7,7,7,7,7,7,7,7,6,6,6,6,6,6,6,6,6,6,6,6,6,6,6,6,6,6,5,5,5,5,5,5,5,5,5,5,5,5,5,5,5,5,5,5,5,5,5,5,5,5,5,5,5,5,5,4,4,4,4,4,4,4,4,4,4,4,4,4,4,4,4,4,4,4,4,4,4,4,4,4,4,4,4,4,4,4,4,4,4,4,4,4,4,4,4,4,3,3,3,3,3,3,3,3,3,3,3,3,3,3,3,3,3,3,3,3,3,3,3,3,3,3,3,3,3,3,3,3,3,3,3,3,3,3,3,3,3,3,3,3,3,3,3,3,3,3,3,3,3,3,3,3,3,3,3,3,3,3,3,3,3,3,3,3,3,2,2,2,2,2,2,2,2,2,2,2,2,2,2,2,2,2,2,2,2,2,2,2,2,2,2,2,2,2,2,2,2,2,2,2,2,2,2,2,2,2,2,2,2,2,2,2,2,2,2,2,2,2,2,2,2,2,2,2,2,2,2,2,2,2,2,2,2,2,2,2,2,2,2,2,2,2,2,2,2,2,2,2,1,1,1,1,1,1,1,1,1,1,1,1,1,1,1,1,1,1,1,1,1,1,1,1,1,1,1,1,1,1,1,1,1,1,1,1,1,1,1,1,1,1,1,1,1,1,1,1,1,1,1,1,1,1,1,1,1,1,1,1,1,1,1,1,1,1,1,1,1,1,1,1,1,1,1,1,1,1,1,1,1,1,1,1,1,1,1,0,0,0,0,0,0,0,0,0,0,0,0,0,0,0,0,0,0,0,0,0,0,0,0,0,0,0,0,0,0,0,0,0,0,0,0,0,0,0,0,0,0,0,0,0,0,0,0,0,0,0,0,0,0,0,0,0,0,0,0,0,0,0,0,0,0,0,0,0,0,0,0,0,0,0,0,0,0,0,0,0,0,0,0,0,0,0,0,0,0,0,0,0,0,0,0,0,0,0,0,0,0,0,0,0,0,0,0,0,0,0,0,0,0,0,0,0,0,0,0,0,0,0,0,0,0,0,0,0,0,0,0,0,0,0,0,0,0,0,0,0,0,0,0,0,0,0,0,0,0,0,0,0,0,0,0,0,0,0,0,0,0,0,0,0,0,0,0,0,0,0,0,0,0],\"type\":\"choropleth\"}],                        {\"template\":{\"data\":{\"histogram2dcontour\":[{\"type\":\"histogram2dcontour\",\"colorbar\":{\"outlinewidth\":0,\"ticks\":\"\"},\"colorscale\":[[0.0,\"#0d0887\"],[0.1111111111111111,\"#46039f\"],[0.2222222222222222,\"#7201a8\"],[0.3333333333333333,\"#9c179e\"],[0.4444444444444444,\"#bd3786\"],[0.5555555555555556,\"#d8576b\"],[0.6666666666666666,\"#ed7953\"],[0.7777777777777778,\"#fb9f3a\"],[0.8888888888888888,\"#fdca26\"],[1.0,\"#f0f921\"]]}],\"choropleth\":[{\"type\":\"choropleth\",\"colorbar\":{\"outlinewidth\":0,\"ticks\":\"\"}}],\"histogram2d\":[{\"type\":\"histogram2d\",\"colorbar\":{\"outlinewidth\":0,\"ticks\":\"\"},\"colorscale\":[[0.0,\"#0d0887\"],[0.1111111111111111,\"#46039f\"],[0.2222222222222222,\"#7201a8\"],[0.3333333333333333,\"#9c179e\"],[0.4444444444444444,\"#bd3786\"],[0.5555555555555556,\"#d8576b\"],[0.6666666666666666,\"#ed7953\"],[0.7777777777777778,\"#fb9f3a\"],[0.8888888888888888,\"#fdca26\"],[1.0,\"#f0f921\"]]}],\"heatmap\":[{\"type\":\"heatmap\",\"colorbar\":{\"outlinewidth\":0,\"ticks\":\"\"},\"colorscale\":[[0.0,\"#0d0887\"],[0.1111111111111111,\"#46039f\"],[0.2222222222222222,\"#7201a8\"],[0.3333333333333333,\"#9c179e\"],[0.4444444444444444,\"#bd3786\"],[0.5555555555555556,\"#d8576b\"],[0.6666666666666666,\"#ed7953\"],[0.7777777777777778,\"#fb9f3a\"],[0.8888888888888888,\"#fdca26\"],[1.0,\"#f0f921\"]]}],\"heatmapgl\":[{\"type\":\"heatmapgl\",\"colorbar\":{\"outlinewidth\":0,\"ticks\":\"\"},\"colorscale\":[[0.0,\"#0d0887\"],[0.1111111111111111,\"#46039f\"],[0.2222222222222222,\"#7201a8\"],[0.3333333333333333,\"#9c179e\"],[0.4444444444444444,\"#bd3786\"],[0.5555555555555556,\"#d8576b\"],[0.6666666666666666,\"#ed7953\"],[0.7777777777777778,\"#fb9f3a\"],[0.8888888888888888,\"#fdca26\"],[1.0,\"#f0f921\"]]}],\"contourcarpet\":[{\"type\":\"contourcarpet\",\"colorbar\":{\"outlinewidth\":0,\"ticks\":\"\"}}],\"contour\":[{\"type\":\"contour\",\"colorbar\":{\"outlinewidth\":0,\"ticks\":\"\"},\"colorscale\":[[0.0,\"#0d0887\"],[0.1111111111111111,\"#46039f\"],[0.2222222222222222,\"#7201a8\"],[0.3333333333333333,\"#9c179e\"],[0.4444444444444444,\"#bd3786\"],[0.5555555555555556,\"#d8576b\"],[0.6666666666666666,\"#ed7953\"],[0.7777777777777778,\"#fb9f3a\"],[0.8888888888888888,\"#fdca26\"],[1.0,\"#f0f921\"]]}],\"surface\":[{\"type\":\"surface\",\"colorbar\":{\"outlinewidth\":0,\"ticks\":\"\"},\"colorscale\":[[0.0,\"#0d0887\"],[0.1111111111111111,\"#46039f\"],[0.2222222222222222,\"#7201a8\"],[0.3333333333333333,\"#9c179e\"],[0.4444444444444444,\"#bd3786\"],[0.5555555555555556,\"#d8576b\"],[0.6666666666666666,\"#ed7953\"],[0.7777777777777778,\"#fb9f3a\"],[0.8888888888888888,\"#fdca26\"],[1.0,\"#f0f921\"]]}],\"mesh3d\":[{\"type\":\"mesh3d\",\"colorbar\":{\"outlinewidth\":0,\"ticks\":\"\"}}],\"scatter\":[{\"fillpattern\":{\"fillmode\":\"overlay\",\"size\":10,\"solidity\":0.2},\"type\":\"scatter\"}],\"parcoords\":[{\"type\":\"parcoords\",\"line\":{\"colorbar\":{\"outlinewidth\":0,\"ticks\":\"\"}}}],\"scatterpolargl\":[{\"type\":\"scatterpolargl\",\"marker\":{\"colorbar\":{\"outlinewidth\":0,\"ticks\":\"\"}}}],\"bar\":[{\"error_x\":{\"color\":\"#2a3f5f\"},\"error_y\":{\"color\":\"#2a3f5f\"},\"marker\":{\"line\":{\"color\":\"#E5ECF6\",\"width\":0.5},\"pattern\":{\"fillmode\":\"overlay\",\"size\":10,\"solidity\":0.2}},\"type\":\"bar\"}],\"scattergeo\":[{\"type\":\"scattergeo\",\"marker\":{\"colorbar\":{\"outlinewidth\":0,\"ticks\":\"\"}}}],\"scatterpolar\":[{\"type\":\"scatterpolar\",\"marker\":{\"colorbar\":{\"outlinewidth\":0,\"ticks\":\"\"}}}],\"histogram\":[{\"marker\":{\"pattern\":{\"fillmode\":\"overlay\",\"size\":10,\"solidity\":0.2}},\"type\":\"histogram\"}],\"scattergl\":[{\"type\":\"scattergl\",\"marker\":{\"colorbar\":{\"outlinewidth\":0,\"ticks\":\"\"}}}],\"scatter3d\":[{\"type\":\"scatter3d\",\"line\":{\"colorbar\":{\"outlinewidth\":0,\"ticks\":\"\"}},\"marker\":{\"colorbar\":{\"outlinewidth\":0,\"ticks\":\"\"}}}],\"scattermapbox\":[{\"type\":\"scattermapbox\",\"marker\":{\"colorbar\":{\"outlinewidth\":0,\"ticks\":\"\"}}}],\"scatterternary\":[{\"type\":\"scatterternary\",\"marker\":{\"colorbar\":{\"outlinewidth\":0,\"ticks\":\"\"}}}],\"scattercarpet\":[{\"type\":\"scattercarpet\",\"marker\":{\"colorbar\":{\"outlinewidth\":0,\"ticks\":\"\"}}}],\"carpet\":[{\"aaxis\":{\"endlinecolor\":\"#2a3f5f\",\"gridcolor\":\"white\",\"linecolor\":\"white\",\"minorgridcolor\":\"white\",\"startlinecolor\":\"#2a3f5f\"},\"baxis\":{\"endlinecolor\":\"#2a3f5f\",\"gridcolor\":\"white\",\"linecolor\":\"white\",\"minorgridcolor\":\"white\",\"startlinecolor\":\"#2a3f5f\"},\"type\":\"carpet\"}],\"table\":[{\"cells\":{\"fill\":{\"color\":\"#EBF0F8\"},\"line\":{\"color\":\"white\"}},\"header\":{\"fill\":{\"color\":\"#C8D4E3\"},\"line\":{\"color\":\"white\"}},\"type\":\"table\"}],\"barpolar\":[{\"marker\":{\"line\":{\"color\":\"#E5ECF6\",\"width\":0.5},\"pattern\":{\"fillmode\":\"overlay\",\"size\":10,\"solidity\":0.2}},\"type\":\"barpolar\"}],\"pie\":[{\"automargin\":true,\"type\":\"pie\"}]},\"layout\":{\"autotypenumbers\":\"strict\",\"colorway\":[\"#636efa\",\"#EF553B\",\"#00cc96\",\"#ab63fa\",\"#FFA15A\",\"#19d3f3\",\"#FF6692\",\"#B6E880\",\"#FF97FF\",\"#FECB52\"],\"font\":{\"color\":\"#2a3f5f\"},\"hovermode\":\"closest\",\"hoverlabel\":{\"align\":\"left\"},\"paper_bgcolor\":\"white\",\"plot_bgcolor\":\"#E5ECF6\",\"polar\":{\"bgcolor\":\"#E5ECF6\",\"angularaxis\":{\"gridcolor\":\"white\",\"linecolor\":\"white\",\"ticks\":\"\"},\"radialaxis\":{\"gridcolor\":\"white\",\"linecolor\":\"white\",\"ticks\":\"\"}},\"ternary\":{\"bgcolor\":\"#E5ECF6\",\"aaxis\":{\"gridcolor\":\"white\",\"linecolor\":\"white\",\"ticks\":\"\"},\"baxis\":{\"gridcolor\":\"white\",\"linecolor\":\"white\",\"ticks\":\"\"},\"caxis\":{\"gridcolor\":\"white\",\"linecolor\":\"white\",\"ticks\":\"\"}},\"coloraxis\":{\"colorbar\":{\"outlinewidth\":0,\"ticks\":\"\"}},\"colorscale\":{\"sequential\":[[0.0,\"#0d0887\"],[0.1111111111111111,\"#46039f\"],[0.2222222222222222,\"#7201a8\"],[0.3333333333333333,\"#9c179e\"],[0.4444444444444444,\"#bd3786\"],[0.5555555555555556,\"#d8576b\"],[0.6666666666666666,\"#ed7953\"],[0.7777777777777778,\"#fb9f3a\"],[0.8888888888888888,\"#fdca26\"],[1.0,\"#f0f921\"]],\"sequentialminus\":[[0.0,\"#0d0887\"],[0.1111111111111111,\"#46039f\"],[0.2222222222222222,\"#7201a8\"],[0.3333333333333333,\"#9c179e\"],[0.4444444444444444,\"#bd3786\"],[0.5555555555555556,\"#d8576b\"],[0.6666666666666666,\"#ed7953\"],[0.7777777777777778,\"#fb9f3a\"],[0.8888888888888888,\"#fdca26\"],[1.0,\"#f0f921\"]],\"diverging\":[[0,\"#8e0152\"],[0.1,\"#c51b7d\"],[0.2,\"#de77ae\"],[0.3,\"#f1b6da\"],[0.4,\"#fde0ef\"],[0.5,\"#f7f7f7\"],[0.6,\"#e6f5d0\"],[0.7,\"#b8e186\"],[0.8,\"#7fbc41\"],[0.9,\"#4d9221\"],[1,\"#276419\"]]},\"xaxis\":{\"gridcolor\":\"white\",\"linecolor\":\"white\",\"ticks\":\"\",\"title\":{\"standoff\":15},\"zerolinecolor\":\"white\",\"automargin\":true,\"zerolinewidth\":2},\"yaxis\":{\"gridcolor\":\"white\",\"linecolor\":\"white\",\"ticks\":\"\",\"title\":{\"standoff\":15},\"zerolinecolor\":\"white\",\"automargin\":true,\"zerolinewidth\":2},\"scene\":{\"xaxis\":{\"backgroundcolor\":\"#E5ECF6\",\"gridcolor\":\"white\",\"linecolor\":\"white\",\"showbackground\":true,\"ticks\":\"\",\"zerolinecolor\":\"white\",\"gridwidth\":2},\"yaxis\":{\"backgroundcolor\":\"#E5ECF6\",\"gridcolor\":\"white\",\"linecolor\":\"white\",\"showbackground\":true,\"ticks\":\"\",\"zerolinecolor\":\"white\",\"gridwidth\":2},\"zaxis\":{\"backgroundcolor\":\"#E5ECF6\",\"gridcolor\":\"white\",\"linecolor\":\"white\",\"showbackground\":true,\"ticks\":\"\",\"zerolinecolor\":\"white\",\"gridwidth\":2}},\"shapedefaults\":{\"line\":{\"color\":\"#2a3f5f\"}},\"annotationdefaults\":{\"arrowcolor\":\"#2a3f5f\",\"arrowhead\":0,\"arrowwidth\":1},\"geo\":{\"bgcolor\":\"white\",\"landcolor\":\"#E5ECF6\",\"subunitcolor\":\"white\",\"showland\":true,\"showlakes\":true,\"lakecolor\":\"white\"},\"title\":{\"x\":0.05},\"mapbox\":{\"style\":\"light\"}}},\"geo\":{\"projection\":{\"type\":\"equirectangular\"},\"showframe\":false,\"showcoastlines\":false},\"annotations\":[{\"showarrow\":false,\"text\":\"Source: <a href=\\\"https://www.cia.gov/library/publications/the-world-factbook/fields/2195.html\\\">            CIA World Factbook</a>\",\"x\":0.55,\"xref\":\"paper\",\"y\":0.1,\"yref\":\"paper\"}]},                        {\"responsive\": true}                    ).then(function(){\n",
       "                            \n",
       "var gd = document.getElementById('c6df0840-e065-454d-9820-3c4b65ce45b2');\n",
       "var x = new MutationObserver(function (mutations, observer) {{\n",
       "        var display = window.getComputedStyle(gd).display;\n",
       "        if (!display || display === 'none') {{\n",
       "            console.log([gd, 'removed!']);\n",
       "            Plotly.purge(gd);\n",
       "            observer.disconnect();\n",
       "        }}\n",
       "}});\n",
       "\n",
       "// Listen for the removal of the full notebook cells\n",
       "var notebookContainer = gd.closest('#notebook-container');\n",
       "if (notebookContainer) {{\n",
       "    x.observe(notebookContainer, {childList: true});\n",
       "}}\n",
       "\n",
       "// Listen for the clearing of the current output cell\n",
       "var outputEl = gd.closest('.output');\n",
       "if (outputEl) {{\n",
       "    x.observe(outputEl, {childList: true});\n",
       "}}\n",
       "\n",
       "                        })                };                });            </script>        </div>"
      ]
     },
     "metadata": {},
     "output_type": "display_data"
    }
   ],
   "source": [
    "fig = go.Figure(data=go.Choropleth(\n",
    "    locations = nation_df['Nationality'],\n",
    "    z = nation_df['Yellow_Cards'],\n",
    "    text = nation_df['Player'],\n",
    "    colorscale = 'Blues',\n",
    "    autocolorscale=False,\n",
    "    reversescale=True,\n",
    "    marker_line_color='darkgray',\n",
    "    marker_line_width=0.5,\n",
    "    \n",
    "))\n",
    "\n",
    "fig.update_layout(\n",
    "    \n",
    "    geo=dict(\n",
    "        showframe=False,\n",
    "        showcoastlines=False,\n",
    "        projection_type='equirectangular'\n",
    "    ),\n",
    "    annotations = [dict(\n",
    "        x=0.55,\n",
    "        y=0.1,\n",
    "        xref='paper',\n",
    "        yref='paper',\n",
    "        text='Source: <a href=\"https://www.cia.gov/library/publications/the-world-factbook/fields/2195.html\">\\\n",
    "            CIA World Factbook</a>',\n",
    "        showarrow = False\n",
    "    )]\n",
    ")\n",
    "\n",
    "fig.show()"
   ]
  },
  {
   "cell_type": "markdown",
   "id": "118ec91d",
   "metadata": {
    "papermill": {
     "duration": 0.044721,
     "end_time": "2022-11-10T15:42:02.792365",
     "exception": false,
     "start_time": "2022-11-10T15:42:02.747644",
     "status": "completed"
    },
    "tags": []
   },
   "source": [
    "# Q5: The best defenders have scored goals (DF Position only)"
   ]
  },
  {
   "cell_type": "code",
   "execution_count": 28,
   "id": "d082ff6a",
   "metadata": {
    "execution": {
     "iopub.execute_input": "2022-11-10T15:42:02.886413Z",
     "iopub.status.busy": "2022-11-10T15:42:02.885912Z",
     "iopub.status.idle": "2022-11-10T15:42:02.905941Z",
     "shell.execute_reply": "2022-11-10T15:42:02.904529Z"
    },
    "papermill": {
     "duration": 0.06989,
     "end_time": "2022-11-10T15:42:02.908452",
     "exception": false,
     "start_time": "2022-11-10T15:42:02.838562",
     "status": "completed"
    },
    "tags": []
   },
   "outputs": [
    {
     "data": {
      "text/html": [
       "<div>\n",
       "<style scoped>\n",
       "    .dataframe tbody tr th:only-of-type {\n",
       "        vertical-align: middle;\n",
       "    }\n",
       "\n",
       "    .dataframe tbody tr th {\n",
       "        vertical-align: top;\n",
       "    }\n",
       "\n",
       "    .dataframe thead th {\n",
       "        text-align: right;\n",
       "    }\n",
       "</style>\n",
       "<table border=\"1\" class=\"dataframe\">\n",
       "  <thead>\n",
       "    <tr style=\"text-align: right;\">\n",
       "      <th></th>\n",
       "      <th>Name</th>\n",
       "      <th>Club</th>\n",
       "      <th>Nationality</th>\n",
       "      <th>Position</th>\n",
       "      <th>Age</th>\n",
       "      <th>Matches</th>\n",
       "      <th>Starts</th>\n",
       "      <th>Mins</th>\n",
       "      <th>Goals</th>\n",
       "      <th>Assists</th>\n",
       "      <th>Passes_Attempted</th>\n",
       "      <th>Perc_Passes_Completed</th>\n",
       "      <th>Penalty_Goals</th>\n",
       "      <th>Penalty_Attempted</th>\n",
       "      <th>xG</th>\n",
       "      <th>xA</th>\n",
       "      <th>Yellow_Cards</th>\n",
       "      <th>Red_Cards</th>\n",
       "      <th>Passes_Completed</th>\n",
       "    </tr>\n",
       "  </thead>\n",
       "  <tbody>\n",
       "    <tr>\n",
       "      <th>0</th>\n",
       "      <td>Mason Mount</td>\n",
       "      <td>Chelsea</td>\n",
       "      <td>ENG</td>\n",
       "      <td>MF,FW</td>\n",
       "      <td>21</td>\n",
       "      <td>36</td>\n",
       "      <td>32</td>\n",
       "      <td>2890</td>\n",
       "      <td>6</td>\n",
       "      <td>5</td>\n",
       "      <td>1881</td>\n",
       "      <td>82.3</td>\n",
       "      <td>1</td>\n",
       "      <td>1</td>\n",
       "      <td>0.21</td>\n",
       "      <td>0.24</td>\n",
       "      <td>2</td>\n",
       "      <td>0</td>\n",
       "      <td>1548</td>\n",
       "    </tr>\n",
       "    <tr>\n",
       "      <th>1</th>\n",
       "      <td>Edouard Mendy</td>\n",
       "      <td>Chelsea</td>\n",
       "      <td>SEN</td>\n",
       "      <td>GK</td>\n",
       "      <td>28</td>\n",
       "      <td>31</td>\n",
       "      <td>31</td>\n",
       "      <td>2745</td>\n",
       "      <td>0</td>\n",
       "      <td>0</td>\n",
       "      <td>1007</td>\n",
       "      <td>84.6</td>\n",
       "      <td>0</td>\n",
       "      <td>0</td>\n",
       "      <td>0.00</td>\n",
       "      <td>0.00</td>\n",
       "      <td>2</td>\n",
       "      <td>0</td>\n",
       "      <td>851</td>\n",
       "    </tr>\n",
       "  </tbody>\n",
       "</table>\n",
       "</div>"
      ],
      "text/plain": [
       "            Name     Club Nationality Position  Age  Matches  Starts  Mins  \\\n",
       "0    Mason Mount  Chelsea         ENG    MF,FW   21       36      32  2890   \n",
       "1  Edouard Mendy  Chelsea         SEN       GK   28       31      31  2745   \n",
       "\n",
       "   Goals  Assists  Passes_Attempted  Perc_Passes_Completed  Penalty_Goals  \\\n",
       "0      6        5              1881                   82.3              1   \n",
       "1      0        0              1007                   84.6              0   \n",
       "\n",
       "   Penalty_Attempted    xG    xA  Yellow_Cards  Red_Cards  Passes_Completed  \n",
       "0                  1  0.21  0.24             2          0              1548  \n",
       "1                  0  0.00  0.00             2          0               851  "
      ]
     },
     "execution_count": 28,
     "metadata": {},
     "output_type": "execute_result"
    }
   ],
   "source": [
    "df.head(2)"
   ]
  },
  {
   "cell_type": "code",
   "execution_count": 29,
   "id": "93889279",
   "metadata": {
    "execution": {
     "iopub.execute_input": "2022-11-10T15:42:03.003061Z",
     "iopub.status.busy": "2022-11-10T15:42:03.002287Z",
     "iopub.status.idle": "2022-11-10T15:42:03.010725Z",
     "shell.execute_reply": "2022-11-10T15:42:03.009562Z"
    },
    "papermill": {
     "duration": 0.05801,
     "end_time": "2022-11-10T15:42:03.012883",
     "exception": false,
     "start_time": "2022-11-10T15:42:02.954873",
     "status": "completed"
    },
    "scrolled": true,
    "tags": []
   },
   "outputs": [
    {
     "data": {
      "text/plain": [
       "array(['MF,FW', 'GK', 'FW', 'DF', 'MF', 'FW,MF', 'FW,DF', 'DF,MF',\n",
       "       'MF,DF', 'DF,FW'], dtype=object)"
      ]
     },
     "execution_count": 29,
     "metadata": {},
     "output_type": "execute_result"
    }
   ],
   "source": [
    "df.Position.unique()"
   ]
  },
  {
   "cell_type": "code",
   "execution_count": 30,
   "id": "896d4aac",
   "metadata": {
    "execution": {
     "iopub.execute_input": "2022-11-10T15:42:03.108131Z",
     "iopub.status.busy": "2022-11-10T15:42:03.107235Z",
     "iopub.status.idle": "2022-11-10T15:42:03.140172Z",
     "shell.execute_reply": "2022-11-10T15:42:03.138676Z"
    },
    "papermill": {
     "duration": 0.083908,
     "end_time": "2022-11-10T15:42:03.143041",
     "exception": false,
     "start_time": "2022-11-10T15:42:03.059133",
     "status": "completed"
    },
    "tags": []
   },
   "outputs": [
    {
     "data": {
      "text/html": [
       "<div>\n",
       "<style scoped>\n",
       "    .dataframe tbody tr th:only-of-type {\n",
       "        vertical-align: middle;\n",
       "    }\n",
       "\n",
       "    .dataframe tbody tr th {\n",
       "        vertical-align: top;\n",
       "    }\n",
       "\n",
       "    .dataframe thead th {\n",
       "        text-align: right;\n",
       "    }\n",
       "</style>\n",
       "<table border=\"1\" class=\"dataframe\">\n",
       "  <thead>\n",
       "    <tr style=\"text-align: right;\">\n",
       "      <th></th>\n",
       "      <th>Name</th>\n",
       "      <th>Club</th>\n",
       "      <th>Nationality</th>\n",
       "      <th>Position</th>\n",
       "      <th>Age</th>\n",
       "      <th>Matches</th>\n",
       "      <th>Starts</th>\n",
       "      <th>Mins</th>\n",
       "      <th>Goals</th>\n",
       "      <th>Assists</th>\n",
       "      <th>Passes_Attempted</th>\n",
       "      <th>Perc_Passes_Completed</th>\n",
       "      <th>Penalty_Goals</th>\n",
       "      <th>Penalty_Attempted</th>\n",
       "      <th>xG</th>\n",
       "      <th>xA</th>\n",
       "      <th>Yellow_Cards</th>\n",
       "      <th>Red_Cards</th>\n",
       "      <th>Passes_Completed</th>\n",
       "      <th>all_goals</th>\n",
       "    </tr>\n",
       "  </thead>\n",
       "  <tbody>\n",
       "    <tr>\n",
       "      <th>3</th>\n",
       "      <td>Ben Chilwell</td>\n",
       "      <td>Chelsea</td>\n",
       "      <td>ENG</td>\n",
       "      <td>DF</td>\n",
       "      <td>23</td>\n",
       "      <td>27</td>\n",
       "      <td>27</td>\n",
       "      <td>2286</td>\n",
       "      <td>3</td>\n",
       "      <td>5</td>\n",
       "      <td>1806</td>\n",
       "      <td>78.6</td>\n",
       "      <td>0</td>\n",
       "      <td>0</td>\n",
       "      <td>0.10</td>\n",
       "      <td>0.11</td>\n",
       "      <td>3</td>\n",
       "      <td>0</td>\n",
       "      <td>1419</td>\n",
       "      <td>3</td>\n",
       "    </tr>\n",
       "    <tr>\n",
       "      <th>4</th>\n",
       "      <td>Reece James</td>\n",
       "      <td>Chelsea</td>\n",
       "      <td>ENG</td>\n",
       "      <td>DF</td>\n",
       "      <td>20</td>\n",
       "      <td>32</td>\n",
       "      <td>25</td>\n",
       "      <td>2373</td>\n",
       "      <td>1</td>\n",
       "      <td>2</td>\n",
       "      <td>1987</td>\n",
       "      <td>85.0</td>\n",
       "      <td>0</td>\n",
       "      <td>0</td>\n",
       "      <td>0.06</td>\n",
       "      <td>0.12</td>\n",
       "      <td>3</td>\n",
       "      <td>0</td>\n",
       "      <td>1688</td>\n",
       "      <td>1</td>\n",
       "    </tr>\n",
       "    <tr>\n",
       "      <th>5</th>\n",
       "      <td>César Azpilicueta</td>\n",
       "      <td>Chelsea</td>\n",
       "      <td>ESP</td>\n",
       "      <td>DF</td>\n",
       "      <td>30</td>\n",
       "      <td>26</td>\n",
       "      <td>24</td>\n",
       "      <td>2188</td>\n",
       "      <td>1</td>\n",
       "      <td>2</td>\n",
       "      <td>2015</td>\n",
       "      <td>87.5</td>\n",
       "      <td>0</td>\n",
       "      <td>0</td>\n",
       "      <td>0.03</td>\n",
       "      <td>0.11</td>\n",
       "      <td>5</td>\n",
       "      <td>1</td>\n",
       "      <td>1763</td>\n",
       "      <td>1</td>\n",
       "    </tr>\n",
       "    <tr>\n",
       "      <th>8</th>\n",
       "      <td>Thiago Silva</td>\n",
       "      <td>Chelsea</td>\n",
       "      <td>BRA</td>\n",
       "      <td>DF</td>\n",
       "      <td>35</td>\n",
       "      <td>23</td>\n",
       "      <td>23</td>\n",
       "      <td>1935</td>\n",
       "      <td>2</td>\n",
       "      <td>0</td>\n",
       "      <td>1871</td>\n",
       "      <td>93.5</td>\n",
       "      <td>0</td>\n",
       "      <td>0</td>\n",
       "      <td>0.05</td>\n",
       "      <td>0.02</td>\n",
       "      <td>5</td>\n",
       "      <td>1</td>\n",
       "      <td>1749</td>\n",
       "      <td>2</td>\n",
       "    </tr>\n",
       "    <tr>\n",
       "      <th>9</th>\n",
       "      <td>Kurt Zouma</td>\n",
       "      <td>Chelsea</td>\n",
       "      <td>FRA</td>\n",
       "      <td>DF</td>\n",
       "      <td>25</td>\n",
       "      <td>24</td>\n",
       "      <td>22</td>\n",
       "      <td>2029</td>\n",
       "      <td>5</td>\n",
       "      <td>0</td>\n",
       "      <td>1720</td>\n",
       "      <td>91.9</td>\n",
       "      <td>0</td>\n",
       "      <td>0</td>\n",
       "      <td>0.08</td>\n",
       "      <td>0.00</td>\n",
       "      <td>3</td>\n",
       "      <td>0</td>\n",
       "      <td>1580</td>\n",
       "      <td>5</td>\n",
       "    </tr>\n",
       "    <tr>\n",
       "      <th>...</th>\n",
       "      <td>...</td>\n",
       "      <td>...</td>\n",
       "      <td>...</td>\n",
       "      <td>...</td>\n",
       "      <td>...</td>\n",
       "      <td>...</td>\n",
       "      <td>...</td>\n",
       "      <td>...</td>\n",
       "      <td>...</td>\n",
       "      <td>...</td>\n",
       "      <td>...</td>\n",
       "      <td>...</td>\n",
       "      <td>...</td>\n",
       "      <td>...</td>\n",
       "      <td>...</td>\n",
       "      <td>...</td>\n",
       "      <td>...</td>\n",
       "      <td>...</td>\n",
       "      <td>...</td>\n",
       "      <td>...</td>\n",
       "    </tr>\n",
       "    <tr>\n",
       "      <th>522</th>\n",
       "      <td>Jack Robinson</td>\n",
       "      <td>Sheffield United</td>\n",
       "      <td>ENG</td>\n",
       "      <td>DF</td>\n",
       "      <td>26</td>\n",
       "      <td>11</td>\n",
       "      <td>9</td>\n",
       "      <td>877</td>\n",
       "      <td>0</td>\n",
       "      <td>1</td>\n",
       "      <td>439</td>\n",
       "      <td>80.6</td>\n",
       "      <td>0</td>\n",
       "      <td>0</td>\n",
       "      <td>0.04</td>\n",
       "      <td>0.09</td>\n",
       "      <td>3</td>\n",
       "      <td>0</td>\n",
       "      <td>353</td>\n",
       "      <td>0</td>\n",
       "    </tr>\n",
       "    <tr>\n",
       "      <th>524</th>\n",
       "      <td>Max Lowe</td>\n",
       "      <td>Sheffield United</td>\n",
       "      <td>ENG</td>\n",
       "      <td>DF</td>\n",
       "      <td>23</td>\n",
       "      <td>8</td>\n",
       "      <td>7</td>\n",
       "      <td>550</td>\n",
       "      <td>0</td>\n",
       "      <td>0</td>\n",
       "      <td>223</td>\n",
       "      <td>65.0</td>\n",
       "      <td>0</td>\n",
       "      <td>0</td>\n",
       "      <td>0.01</td>\n",
       "      <td>0.03</td>\n",
       "      <td>1</td>\n",
       "      <td>0</td>\n",
       "      <td>144</td>\n",
       "      <td>0</td>\n",
       "    </tr>\n",
       "    <tr>\n",
       "      <th>525</th>\n",
       "      <td>Phil Jagielka</td>\n",
       "      <td>Sheffield United</td>\n",
       "      <td>ENG</td>\n",
       "      <td>DF</td>\n",
       "      <td>37</td>\n",
       "      <td>10</td>\n",
       "      <td>6</td>\n",
       "      <td>526</td>\n",
       "      <td>0</td>\n",
       "      <td>0</td>\n",
       "      <td>186</td>\n",
       "      <td>76.3</td>\n",
       "      <td>0</td>\n",
       "      <td>0</td>\n",
       "      <td>0.00</td>\n",
       "      <td>0.00</td>\n",
       "      <td>1</td>\n",
       "      <td>1</td>\n",
       "      <td>141</td>\n",
       "      <td>0</td>\n",
       "    </tr>\n",
       "    <tr>\n",
       "      <th>528</th>\n",
       "      <td>Jack O'Connell</td>\n",
       "      <td>Sheffield United</td>\n",
       "      <td>ENG</td>\n",
       "      <td>DF</td>\n",
       "      <td>26</td>\n",
       "      <td>2</td>\n",
       "      <td>2</td>\n",
       "      <td>180</td>\n",
       "      <td>0</td>\n",
       "      <td>0</td>\n",
       "      <td>77</td>\n",
       "      <td>77.9</td>\n",
       "      <td>0</td>\n",
       "      <td>0</td>\n",
       "      <td>0.00</td>\n",
       "      <td>0.00</td>\n",
       "      <td>0</td>\n",
       "      <td>0</td>\n",
       "      <td>59</td>\n",
       "      <td>0</td>\n",
       "    </tr>\n",
       "    <tr>\n",
       "      <th>531</th>\n",
       "      <td>Femi Seriki</td>\n",
       "      <td>Sheffield United</td>\n",
       "      <td>ENG</td>\n",
       "      <td>DF</td>\n",
       "      <td>17</td>\n",
       "      <td>1</td>\n",
       "      <td>0</td>\n",
       "      <td>1</td>\n",
       "      <td>0</td>\n",
       "      <td>0</td>\n",
       "      <td>0</td>\n",
       "      <td>-1.0</td>\n",
       "      <td>0</td>\n",
       "      <td>0</td>\n",
       "      <td>0.00</td>\n",
       "      <td>0.00</td>\n",
       "      <td>0</td>\n",
       "      <td>0</td>\n",
       "      <td>0</td>\n",
       "      <td>0</td>\n",
       "    </tr>\n",
       "  </tbody>\n",
       "</table>\n",
       "<p>178 rows × 20 columns</p>\n",
       "</div>"
      ],
      "text/plain": [
       "                  Name              Club Nationality Position  Age  Matches  \\\n",
       "3         Ben Chilwell           Chelsea         ENG       DF   23       27   \n",
       "4          Reece James           Chelsea         ENG       DF   20       32   \n",
       "5    César Azpilicueta           Chelsea         ESP       DF   30       26   \n",
       "8         Thiago Silva           Chelsea         BRA       DF   35       23   \n",
       "9           Kurt Zouma           Chelsea         FRA       DF   25       24   \n",
       "..                 ...               ...         ...      ...  ...      ...   \n",
       "522      Jack Robinson  Sheffield United         ENG       DF   26       11   \n",
       "524           Max Lowe  Sheffield United         ENG       DF   23        8   \n",
       "525      Phil Jagielka  Sheffield United         ENG       DF   37       10   \n",
       "528     Jack O'Connell  Sheffield United         ENG       DF   26        2   \n",
       "531        Femi Seriki  Sheffield United         ENG       DF   17        1   \n",
       "\n",
       "     Starts  Mins  Goals  Assists  Passes_Attempted  Perc_Passes_Completed  \\\n",
       "3        27  2286      3        5              1806                   78.6   \n",
       "4        25  2373      1        2              1987                   85.0   \n",
       "5        24  2188      1        2              2015                   87.5   \n",
       "8        23  1935      2        0              1871                   93.5   \n",
       "9        22  2029      5        0              1720                   91.9   \n",
       "..      ...   ...    ...      ...               ...                    ...   \n",
       "522       9   877      0        1               439                   80.6   \n",
       "524       7   550      0        0               223                   65.0   \n",
       "525       6   526      0        0               186                   76.3   \n",
       "528       2   180      0        0                77                   77.9   \n",
       "531       0     1      0        0                 0                   -1.0   \n",
       "\n",
       "     Penalty_Goals  Penalty_Attempted    xG    xA  Yellow_Cards  Red_Cards  \\\n",
       "3                0                  0  0.10  0.11             3          0   \n",
       "4                0                  0  0.06  0.12             3          0   \n",
       "5                0                  0  0.03  0.11             5          1   \n",
       "8                0                  0  0.05  0.02             5          1   \n",
       "9                0                  0  0.08  0.00             3          0   \n",
       "..             ...                ...   ...   ...           ...        ...   \n",
       "522              0                  0  0.04  0.09             3          0   \n",
       "524              0                  0  0.01  0.03             1          0   \n",
       "525              0                  0  0.00  0.00             1          1   \n",
       "528              0                  0  0.00  0.00             0          0   \n",
       "531              0                  0  0.00  0.00             0          0   \n",
       "\n",
       "     Passes_Completed  all_goals  \n",
       "3                1419          3  \n",
       "4                1688          1  \n",
       "5                1763          1  \n",
       "8                1749          2  \n",
       "9                1580          5  \n",
       "..                ...        ...  \n",
       "522               353          0  \n",
       "524               144          0  \n",
       "525               141          0  \n",
       "528                59          0  \n",
       "531                 0          0  \n",
       "\n",
       "[178 rows x 20 columns]"
      ]
     },
     "execution_count": 30,
     "metadata": {},
     "output_type": "execute_result"
    }
   ],
   "source": [
    "df[\"all_goals\"] = df.Goals + df.Penalty_Goals\n",
    "Def_df = df.query(\"Position == 'DF'\")\n",
    "Def_df"
   ]
  },
  {
   "cell_type": "code",
   "execution_count": 31,
   "id": "0e807771",
   "metadata": {
    "execution": {
     "iopub.execute_input": "2022-11-10T15:42:03.239389Z",
     "iopub.status.busy": "2022-11-10T15:42:03.238905Z",
     "iopub.status.idle": "2022-11-10T15:42:03.254911Z",
     "shell.execute_reply": "2022-11-10T15:42:03.253591Z"
    },
    "papermill": {
     "duration": 0.068045,
     "end_time": "2022-11-10T15:42:03.257485",
     "exception": false,
     "start_time": "2022-11-10T15:42:03.189440",
     "status": "completed"
    },
    "tags": []
   },
   "outputs": [
    {
     "data": {
      "text/html": [
       "<div>\n",
       "<style scoped>\n",
       "    .dataframe tbody tr th:only-of-type {\n",
       "        vertical-align: middle;\n",
       "    }\n",
       "\n",
       "    .dataframe tbody tr th {\n",
       "        vertical-align: top;\n",
       "    }\n",
       "\n",
       "    .dataframe thead th {\n",
       "        text-align: right;\n",
       "    }\n",
       "</style>\n",
       "<table border=\"1\" class=\"dataframe\">\n",
       "  <thead>\n",
       "    <tr style=\"text-align: right;\">\n",
       "      <th></th>\n",
       "      <th>all_goals</th>\n",
       "      <th>Player</th>\n",
       "    </tr>\n",
       "  </thead>\n",
       "  <tbody>\n",
       "    <tr>\n",
       "      <th>397</th>\n",
       "      <td>5</td>\n",
       "      <td>Lewis Dunk</td>\n",
       "    </tr>\n",
       "    <tr>\n",
       "      <th>9</th>\n",
       "      <td>5</td>\n",
       "      <td>Kurt Zouma</td>\n",
       "    </tr>\n",
       "    <tr>\n",
       "      <th>38</th>\n",
       "      <td>4</td>\n",
       "      <td>John Stones</td>\n",
       "    </tr>\n",
       "    <tr>\n",
       "      <th>142</th>\n",
       "      <td>3</td>\n",
       "      <td>Angelo Ogbonna</td>\n",
       "    </tr>\n",
       "    <tr>\n",
       "      <th>144</th>\n",
       "      <td>3</td>\n",
       "      <td>Craig Dawson</td>\n",
       "    </tr>\n",
       "    <tr>\n",
       "      <th>235</th>\n",
       "      <td>3</td>\n",
       "      <td>Michael Keane</td>\n",
       "    </tr>\n",
       "    <tr>\n",
       "      <th>3</th>\n",
       "      <td>3</td>\n",
       "      <td>Ben Chilwell</td>\n",
       "    </tr>\n",
       "    <tr>\n",
       "      <th>479</th>\n",
       "      <td>3</td>\n",
       "      <td>Kyle Bartley</td>\n",
       "    </tr>\n",
       "    <tr>\n",
       "      <th>373</th>\n",
       "      <td>3</td>\n",
       "      <td>Jannik Vestergaard</td>\n",
       "    </tr>\n",
       "    <tr>\n",
       "      <th>323</th>\n",
       "      <td>3</td>\n",
       "      <td>Romain Saïss</td>\n",
       "    </tr>\n",
       "  </tbody>\n",
       "</table>\n",
       "</div>"
      ],
      "text/plain": [
       "     all_goals              Player\n",
       "397          5          Lewis Dunk\n",
       "9            5          Kurt Zouma\n",
       "38           4         John Stones\n",
       "142          3      Angelo Ogbonna\n",
       "144          3        Craig Dawson\n",
       "235          3       Michael Keane\n",
       "3            3        Ben Chilwell\n",
       "479          3        Kyle Bartley\n",
       "373          3  Jannik Vestergaard\n",
       "323          3        Romain Saïss"
      ]
     },
     "execution_count": 31,
     "metadata": {},
     "output_type": "execute_result"
    }
   ],
   "source": [
    "Def_Goals = pd.DataFrame(Def_df.all_goals.sort_values(ascending= False))\n",
    "Def_Goals[\"Player\"] = Def_df.Name\n",
    "Top_Def_Goals = Def_Goals[:10]\n",
    "Top_Def_Goals"
   ]
  },
  {
   "cell_type": "code",
   "execution_count": null,
   "id": "695dbe2b",
   "metadata": {
    "execution": {
     "iopub.execute_input": "2022-11-10T15:42:03.354732Z",
     "iopub.status.busy": "2022-11-10T15:42:03.354181Z",
     "iopub.status.idle": "2022-11-10T15:42:03.428129Z",
     "shell.execute_reply": "2022-11-10T15:42:03.426845Z"
    },
    "papermill": {
     "duration": 0.126077,
     "end_time": "2022-11-10T15:42:03.430912",
     "exception": false,
     "start_time": "2022-11-10T15:42:03.304835",
     "status": "completed"
    },
    "tags": []
   },
   "outputs": [],
   "source": [
    "fig = px.bar(Top_Def_Goals, y='all_goals', x='Player',\n",
    "            title=\"Defenders have scored goals\")\n",
    "fig.update_traces(textfont_size=12, textangle=0, textposition=\"outside\", cliponaxis=False)\n",
    "fig.show()"
   ]
  },
  {
   "cell_type": "code",
   "execution_count": null,
   "id": "96afb52b",
   "metadata": {
    "papermill": {
     "duration": 0.05215,
     "end_time": "2022-11-10T15:42:03.641008",
     "exception": false,
     "start_time": "2022-11-10T15:42:03.588858",
     "status": "completed"
    },
    "tags": []
   },
   "outputs": [],
   "source": []
  }
 ],
 "metadata": {
  "kernelspec": {
   "display_name": "Python 3",
   "language": "python",
   "name": "python3"
  },
  "language_info": {
   "codemirror_mode": {
    "name": "ipython",
    "version": 3
   },
   "file_extension": ".py",
   "mimetype": "text/x-python",
   "name": "python",
   "nbconvert_exporter": "python",
   "pygments_lexer": "ipython3",
   "version": "3.7.12"
  },
  "papermill": {
   "default_parameters": {},
   "duration": 19.122382,
   "end_time": "2022-11-10T15:42:05.021241",
   "environment_variables": {},
   "exception": null,
   "input_path": "__notebook__.ipynb",
   "output_path": "__notebook__.ipynb",
   "parameters": {},
   "start_time": "2022-11-10T15:41:45.898859",
   "version": "2.3.4"
  }
 },
 "nbformat": 4,
 "nbformat_minor": 5
}
